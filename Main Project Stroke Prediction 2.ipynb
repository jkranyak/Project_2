{
 "cells": [
  {
   "cell_type": "markdown",
   "id": "60de5cf8",
   "metadata": {},
   "source": [
    "# Prepping Stroke Data"
   ]
  },
  {
   "cell_type": "markdown",
   "id": "a7138166",
   "metadata": {},
   "source": [
    "### Main Project"
   ]
  },
  {
   "cell_type": "code",
   "execution_count": 1,
   "id": "429c0f2b",
   "metadata": {},
   "outputs": [
    {
     "data": {
      "text/html": [
       "<div>\n",
       "<style scoped>\n",
       "    .dataframe tbody tr th:only-of-type {\n",
       "        vertical-align: middle;\n",
       "    }\n",
       "\n",
       "    .dataframe tbody tr th {\n",
       "        vertical-align: top;\n",
       "    }\n",
       "\n",
       "    .dataframe thead th {\n",
       "        text-align: right;\n",
       "    }\n",
       "</style>\n",
       "<table border=\"1\" class=\"dataframe\">\n",
       "  <thead>\n",
       "    <tr style=\"text-align: right;\">\n",
       "      <th></th>\n",
       "      <th>id</th>\n",
       "      <th>gender</th>\n",
       "      <th>age</th>\n",
       "      <th>hypertension</th>\n",
       "      <th>heart_disease</th>\n",
       "      <th>ever_married</th>\n",
       "      <th>work_type</th>\n",
       "      <th>Residence_type</th>\n",
       "      <th>avg_glucose_level</th>\n",
       "      <th>bmi</th>\n",
       "      <th>smoking_status</th>\n",
       "      <th>stroke</th>\n",
       "    </tr>\n",
       "  </thead>\n",
       "  <tbody>\n",
       "    <tr>\n",
       "      <th>0</th>\n",
       "      <td>9046</td>\n",
       "      <td>Male</td>\n",
       "      <td>67.0</td>\n",
       "      <td>0</td>\n",
       "      <td>1</td>\n",
       "      <td>Yes</td>\n",
       "      <td>Private</td>\n",
       "      <td>Urban</td>\n",
       "      <td>228.69</td>\n",
       "      <td>36.6</td>\n",
       "      <td>formerly smoked</td>\n",
       "      <td>1</td>\n",
       "    </tr>\n",
       "    <tr>\n",
       "      <th>1</th>\n",
       "      <td>51676</td>\n",
       "      <td>Female</td>\n",
       "      <td>61.0</td>\n",
       "      <td>0</td>\n",
       "      <td>0</td>\n",
       "      <td>Yes</td>\n",
       "      <td>Self-employed</td>\n",
       "      <td>Rural</td>\n",
       "      <td>202.21</td>\n",
       "      <td>NaN</td>\n",
       "      <td>never smoked</td>\n",
       "      <td>1</td>\n",
       "    </tr>\n",
       "    <tr>\n",
       "      <th>2</th>\n",
       "      <td>31112</td>\n",
       "      <td>Male</td>\n",
       "      <td>80.0</td>\n",
       "      <td>0</td>\n",
       "      <td>1</td>\n",
       "      <td>Yes</td>\n",
       "      <td>Private</td>\n",
       "      <td>Rural</td>\n",
       "      <td>105.92</td>\n",
       "      <td>32.5</td>\n",
       "      <td>never smoked</td>\n",
       "      <td>1</td>\n",
       "    </tr>\n",
       "    <tr>\n",
       "      <th>3</th>\n",
       "      <td>60182</td>\n",
       "      <td>Female</td>\n",
       "      <td>49.0</td>\n",
       "      <td>0</td>\n",
       "      <td>0</td>\n",
       "      <td>Yes</td>\n",
       "      <td>Private</td>\n",
       "      <td>Urban</td>\n",
       "      <td>171.23</td>\n",
       "      <td>34.4</td>\n",
       "      <td>smokes</td>\n",
       "      <td>1</td>\n",
       "    </tr>\n",
       "    <tr>\n",
       "      <th>4</th>\n",
       "      <td>1665</td>\n",
       "      <td>Female</td>\n",
       "      <td>79.0</td>\n",
       "      <td>1</td>\n",
       "      <td>0</td>\n",
       "      <td>Yes</td>\n",
       "      <td>Self-employed</td>\n",
       "      <td>Rural</td>\n",
       "      <td>174.12</td>\n",
       "      <td>24.0</td>\n",
       "      <td>never smoked</td>\n",
       "      <td>1</td>\n",
       "    </tr>\n",
       "    <tr>\n",
       "      <th>...</th>\n",
       "      <td>...</td>\n",
       "      <td>...</td>\n",
       "      <td>...</td>\n",
       "      <td>...</td>\n",
       "      <td>...</td>\n",
       "      <td>...</td>\n",
       "      <td>...</td>\n",
       "      <td>...</td>\n",
       "      <td>...</td>\n",
       "      <td>...</td>\n",
       "      <td>...</td>\n",
       "      <td>...</td>\n",
       "    </tr>\n",
       "    <tr>\n",
       "      <th>5105</th>\n",
       "      <td>18234</td>\n",
       "      <td>Female</td>\n",
       "      <td>80.0</td>\n",
       "      <td>1</td>\n",
       "      <td>0</td>\n",
       "      <td>Yes</td>\n",
       "      <td>Private</td>\n",
       "      <td>Urban</td>\n",
       "      <td>83.75</td>\n",
       "      <td>NaN</td>\n",
       "      <td>never smoked</td>\n",
       "      <td>0</td>\n",
       "    </tr>\n",
       "    <tr>\n",
       "      <th>5106</th>\n",
       "      <td>44873</td>\n",
       "      <td>Female</td>\n",
       "      <td>81.0</td>\n",
       "      <td>0</td>\n",
       "      <td>0</td>\n",
       "      <td>Yes</td>\n",
       "      <td>Self-employed</td>\n",
       "      <td>Urban</td>\n",
       "      <td>125.20</td>\n",
       "      <td>40.0</td>\n",
       "      <td>never smoked</td>\n",
       "      <td>0</td>\n",
       "    </tr>\n",
       "    <tr>\n",
       "      <th>5107</th>\n",
       "      <td>19723</td>\n",
       "      <td>Female</td>\n",
       "      <td>35.0</td>\n",
       "      <td>0</td>\n",
       "      <td>0</td>\n",
       "      <td>Yes</td>\n",
       "      <td>Self-employed</td>\n",
       "      <td>Rural</td>\n",
       "      <td>82.99</td>\n",
       "      <td>30.6</td>\n",
       "      <td>never smoked</td>\n",
       "      <td>0</td>\n",
       "    </tr>\n",
       "    <tr>\n",
       "      <th>5108</th>\n",
       "      <td>37544</td>\n",
       "      <td>Male</td>\n",
       "      <td>51.0</td>\n",
       "      <td>0</td>\n",
       "      <td>0</td>\n",
       "      <td>Yes</td>\n",
       "      <td>Private</td>\n",
       "      <td>Rural</td>\n",
       "      <td>166.29</td>\n",
       "      <td>25.6</td>\n",
       "      <td>formerly smoked</td>\n",
       "      <td>0</td>\n",
       "    </tr>\n",
       "    <tr>\n",
       "      <th>5109</th>\n",
       "      <td>44679</td>\n",
       "      <td>Female</td>\n",
       "      <td>44.0</td>\n",
       "      <td>0</td>\n",
       "      <td>0</td>\n",
       "      <td>Yes</td>\n",
       "      <td>Govt_job</td>\n",
       "      <td>Urban</td>\n",
       "      <td>85.28</td>\n",
       "      <td>26.2</td>\n",
       "      <td>Unknown</td>\n",
       "      <td>0</td>\n",
       "    </tr>\n",
       "  </tbody>\n",
       "</table>\n",
       "<p>5110 rows × 12 columns</p>\n",
       "</div>"
      ],
      "text/plain": [
       "         id  gender   age  hypertension  heart_disease ever_married  \\\n",
       "0      9046    Male  67.0             0              1          Yes   \n",
       "1     51676  Female  61.0             0              0          Yes   \n",
       "2     31112    Male  80.0             0              1          Yes   \n",
       "3     60182  Female  49.0             0              0          Yes   \n",
       "4      1665  Female  79.0             1              0          Yes   \n",
       "...     ...     ...   ...           ...            ...          ...   \n",
       "5105  18234  Female  80.0             1              0          Yes   \n",
       "5106  44873  Female  81.0             0              0          Yes   \n",
       "5107  19723  Female  35.0             0              0          Yes   \n",
       "5108  37544    Male  51.0             0              0          Yes   \n",
       "5109  44679  Female  44.0             0              0          Yes   \n",
       "\n",
       "          work_type Residence_type  avg_glucose_level   bmi   smoking_status  \\\n",
       "0           Private          Urban             228.69  36.6  formerly smoked   \n",
       "1     Self-employed          Rural             202.21   NaN     never smoked   \n",
       "2           Private          Rural             105.92  32.5     never smoked   \n",
       "3           Private          Urban             171.23  34.4           smokes   \n",
       "4     Self-employed          Rural             174.12  24.0     never smoked   \n",
       "...             ...            ...                ...   ...              ...   \n",
       "5105        Private          Urban              83.75   NaN     never smoked   \n",
       "5106  Self-employed          Urban             125.20  40.0     never smoked   \n",
       "5107  Self-employed          Rural              82.99  30.6     never smoked   \n",
       "5108        Private          Rural             166.29  25.6  formerly smoked   \n",
       "5109       Govt_job          Urban              85.28  26.2          Unknown   \n",
       "\n",
       "      stroke  \n",
       "0          1  \n",
       "1          1  \n",
       "2          1  \n",
       "3          1  \n",
       "4          1  \n",
       "...      ...  \n",
       "5105       0  \n",
       "5106       0  \n",
       "5107       0  \n",
       "5108       0  \n",
       "5109       0  \n",
       "\n",
       "[5110 rows x 12 columns]"
      ]
     },
     "execution_count": 1,
     "metadata": {},
     "output_type": "execute_result"
    }
   ],
   "source": [
    "import pandas as pd\n",
    "import seaborn as sns\n",
    "import matplotlib.pyplot as plt\n",
    "import numpy as np\n",
    "from imblearn.over_sampling import SMOTE\n",
    "from sklearn.model_selection import train_test_split\n",
    "from sklearn.metrics import balanced_accuracy_score, classification_report, confusion_matrix\n",
    "from sklearn.preprocessing import OneHotEncoder, OrdinalEncoder\n",
    "from sklearn.preprocessing import StandardScaler, MinMaxScaler\n",
    "from stroke_pipeline import train_test_split_stroke,\\\n",
    "    fill_missing,\\\n",
    "    build_encoders,\\\n",
    "    encode_categorical,\\\n",
    "    build_target_encoder,\\\n",
    "    encode_target\n",
    "\n",
    "df = pd.read_csv(\"healthcare-dataset-stroke-data.csv\")\n",
    "df"
   ]
  },
  {
   "cell_type": "markdown",
   "id": "4212b2a2",
   "metadata": {},
   "source": [
    "## Analyzing our Data"
   ]
  },
  {
   "cell_type": "code",
   "execution_count": 2,
   "id": "5217dd5b",
   "metadata": {
    "scrolled": false
   },
   "outputs": [
    {
     "name": "stdout",
     "output_type": "stream",
     "text": [
      "The dataset contains 12 columns and 5110 rows\n",
      "\n",
      "Column: id (int64)\n",
      "--- Summary statistics:\n",
      " count     5110.000000\n",
      "mean     36517.829354\n",
      "std      21161.721625\n",
      "min         67.000000\n",
      "25%      17741.250000\n",
      "50%      36932.000000\n",
      "75%      54682.000000\n",
      "max      72940.000000\n",
      "Name: id, dtype: float64\n",
      "\n",
      "Column: gender (object)\n",
      "--- Percentage of NaNs: 0.0\n",
      "--- Unique values:\n",
      " ['Male' 'Female' 'Other']\n",
      "\n",
      "Column: age (float64)\n",
      "--- Summary statistics:\n",
      " count    5110.000000\n",
      "mean       43.226614\n",
      "std        22.612647\n",
      "min         0.080000\n",
      "25%        25.000000\n",
      "50%        45.000000\n",
      "75%        61.000000\n",
      "max        82.000000\n",
      "Name: age, dtype: float64\n",
      "\n",
      "Column: hypertension (int64)\n",
      "--- Summary statistics:\n",
      " count    5110.000000\n",
      "mean        0.097456\n",
      "std         0.296607\n",
      "min         0.000000\n",
      "25%         0.000000\n",
      "50%         0.000000\n",
      "75%         0.000000\n",
      "max         1.000000\n",
      "Name: hypertension, dtype: float64\n",
      "\n",
      "Column: heart_disease (int64)\n",
      "--- Summary statistics:\n",
      " count    5110.000000\n",
      "mean        0.054012\n",
      "std         0.226063\n",
      "min         0.000000\n",
      "25%         0.000000\n",
      "50%         0.000000\n",
      "75%         0.000000\n",
      "max         1.000000\n",
      "Name: heart_disease, dtype: float64\n",
      "\n",
      "Column: ever_married (object)\n",
      "--- Percentage of NaNs: 0.0\n",
      "--- Unique values:\n",
      " ['Yes' 'No']\n",
      "\n",
      "Column: work_type (object)\n",
      "--- Percentage of NaNs: 0.0\n",
      "--- Unique values:\n",
      " ['Private' 'Self-employed' 'Govt_job' 'children' 'Never_worked']\n",
      "\n",
      "Column: Residence_type (object)\n",
      "--- Percentage of NaNs: 0.0\n",
      "--- Unique values:\n",
      " ['Urban' 'Rural']\n",
      "\n",
      "Column: avg_glucose_level (float64)\n",
      "--- Summary statistics:\n",
      " count    5110.000000\n",
      "mean      106.147677\n",
      "std        45.283560\n",
      "min        55.120000\n",
      "25%        77.245000\n",
      "50%        91.885000\n",
      "75%       114.090000\n",
      "max       271.740000\n",
      "Name: avg_glucose_level, dtype: float64\n",
      "\n",
      "Column: bmi (float64)\n",
      "--- Summary statistics:\n",
      " count    4909.000000\n",
      "mean       28.893237\n",
      "std         7.854067\n",
      "min        10.300000\n",
      "25%        23.500000\n",
      "50%        28.100000\n",
      "75%        33.100000\n",
      "max        97.600000\n",
      "Name: bmi, dtype: float64\n",
      "\n",
      "Column: smoking_status (object)\n",
      "--- Percentage of NaNs: 0.0\n",
      "--- Unique values:\n",
      " ['formerly smoked' 'never smoked' 'smokes' 'Unknown']\n",
      "\n",
      "Column: stroke (int64)\n",
      "--- Summary statistics:\n",
      " count    5110.000000\n",
      "mean        0.048728\n",
      "std         0.215320\n",
      "min         0.000000\n",
      "25%         0.000000\n",
      "50%         0.000000\n",
      "75%         0.000000\n",
      "max         1.000000\n",
      "Name: stroke, dtype: float64\n"
     ]
    }
   ],
   "source": [
    "#Lets go ahead and loop through all of our columns and see what data they reveal\n",
    "\n",
    "def describe_df(df: pd.DataFrame):\n",
    "    print(f\"The dataset contains {df.shape[1]} columns and {len(df)} rows\")\n",
    "    for col in df.columns:\n",
    "        col_dtype = df[col].dtype\n",
    "        print(f\"\\nColumn: {col} ({col_dtype})\")\n",
    "        if col_dtype == 'object':\n",
    "            print(f\"--- Percentage of NaNs: {df[col].isna().sum() / len(df[col]) * 100}\")\n",
    "            print(f\"--- Unique values:\\n {df[col].unique()}\")\n",
    "        else:\n",
    "            print(f\"--- Summary statistics:\\n {df[col].describe()}\")\n",
    "describe_df(df)"
   ]
  },
  {
   "cell_type": "markdown",
   "id": "ea8e4f93",
   "metadata": {},
   "source": [
    "### Graph: Heatmap"
   ]
  },
  {
   "cell_type": "markdown",
   "id": "b952d256",
   "metadata": {},
   "source": [
    "### Graph: Correlation between individual factors and stroke"
   ]
  },
  {
   "cell_type": "markdown",
   "id": "62772e1d",
   "metadata": {},
   "source": [
    "### Graph: Show f1 scores or recall/precision"
   ]
  },
  {
   "cell_type": "markdown",
   "id": "e652e727",
   "metadata": {},
   "source": [
    "### GRAPH show age distribution?"
   ]
  },
  {
   "cell_type": "markdown",
   "id": "8f873632",
   "metadata": {},
   "source": [
    "### Check balance of Stroke, our target variable"
   ]
  },
  {
   "cell_type": "code",
   "execution_count": 36,
   "id": "c2c3b078",
   "metadata": {},
   "outputs": [
    {
     "data": {
      "text/plain": [
       "stroke\n",
       "0    4700\n",
       "1     209\n",
       "Name: count, dtype: int64"
      ]
     },
     "execution_count": 36,
     "metadata": {},
     "output_type": "execute_result"
    }
   ],
   "source": [
    "df['stroke'].value_counts() # We have pretty imbalanced data!"
   ]
  },
  {
   "cell_type": "markdown",
   "id": "b772c9d8",
   "metadata": {},
   "source": [
    "### Drop unneeded column of 'id'"
   ]
  },
  {
   "cell_type": "code",
   "execution_count": 5,
   "id": "d6db4ab1",
   "metadata": {},
   "outputs": [],
   "source": [
    "df = df.drop('id', axis=1)"
   ]
  },
  {
   "cell_type": "markdown",
   "id": "4b88ced8",
   "metadata": {},
   "source": [
    "### Check for nulls and drop them if present"
   ]
  },
  {
   "cell_type": "code",
   "execution_count": 6,
   "id": "e2a9edac",
   "metadata": {},
   "outputs": [
    {
     "data": {
      "text/plain": [
       "gender                 0\n",
       "age                    0\n",
       "hypertension           0\n",
       "heart_disease          0\n",
       "ever_married           0\n",
       "work_type              0\n",
       "Residence_type         0\n",
       "avg_glucose_level      0\n",
       "bmi                  201\n",
       "smoking_status         0\n",
       "stroke                 0\n",
       "dtype: int64"
      ]
     },
     "execution_count": 6,
     "metadata": {},
     "output_type": "execute_result"
    }
   ],
   "source": [
    "df.isnull().sum()"
   ]
  },
  {
   "cell_type": "code",
   "execution_count": 7,
   "id": "8e7bdcbc",
   "metadata": {},
   "outputs": [],
   "source": [
    "df = df.dropna()"
   ]
  },
  {
   "cell_type": "markdown",
   "id": "a0bc2d39",
   "metadata": {},
   "source": [
    "### Check data types, we will convert objects into categorical variables to be encoded"
   ]
  },
  {
   "cell_type": "code",
   "execution_count": 8,
   "id": "4e1318fb",
   "metadata": {},
   "outputs": [
    {
     "data": {
      "text/plain": [
       "gender                object\n",
       "age                  float64\n",
       "hypertension           int64\n",
       "heart_disease          int64\n",
       "ever_married          object\n",
       "work_type             object\n",
       "Residence_type        object\n",
       "avg_glucose_level    float64\n",
       "bmi                  float64\n",
       "smoking_status        object\n",
       "stroke                 int64\n",
       "dtype: object"
      ]
     },
     "execution_count": 8,
     "metadata": {},
     "output_type": "execute_result"
    }
   ],
   "source": [
    "df.dtypes"
   ]
  },
  {
   "cell_type": "code",
   "execution_count": 9,
   "id": "1e7abd70",
   "metadata": {},
   "outputs": [
    {
     "data": {
      "text/plain": [
       "gender            3\n",
       "ever_married      2\n",
       "work_type         5\n",
       "Residence_type    2\n",
       "smoking_status    4\n",
       "Name: unique, dtype: object"
      ]
     },
     "execution_count": 9,
     "metadata": {},
     "output_type": "execute_result"
    }
   ],
   "source": [
    "# Define categorical features for encoding\n",
    "catFeatures = ['gender','ever_married','work_type','Residence_type','smoking_status']\n",
    "# Describe the categorical features to see the number of unique categories in each\n",
    "df[catFeatures].describe(include='all').loc['unique', :]"
   ]
  },
  {
   "cell_type": "markdown",
   "id": "26c223ec",
   "metadata": {},
   "source": [
    "### Convert objects to categorical variables"
   ]
  },
  {
   "cell_type": "code",
   "execution_count": 10,
   "id": "10f5c0c0",
   "metadata": {},
   "outputs": [
    {
     "data": {
      "text/plain": [
       "gender               category\n",
       "age                   float64\n",
       "hypertension            int64\n",
       "heart_disease           int64\n",
       "ever_married         category\n",
       "work_type            category\n",
       "Residence_type       category\n",
       "avg_glucose_level     float64\n",
       "bmi                   float64\n",
       "smoking_status       category\n",
       "stroke                  int64\n",
       "dtype: object"
      ]
     },
     "execution_count": 10,
     "metadata": {},
     "output_type": "execute_result"
    }
   ],
   "source": [
    "# Convert categorical columns to 'category' dtype for efficient encoding\n",
    "df[['gender','ever_married','work_type','Residence_type','smoking_status']] = df[['gender','ever_married','work_type','Residence_type','smoking_status']].astype('category')\n",
    "df.dtypes"
   ]
  },
  {
   "cell_type": "code",
   "execution_count": 11,
   "id": "a80bbf58",
   "metadata": {},
   "outputs": [],
   "source": [
    "# Encode categorical features as integers\n",
    "for column in ['gender', 'ever_married', 'work_type', 'Residence_type', 'smoking_status']:\n",
    "    df[column] = df[column].astype('category').cat.codes"
   ]
  },
  {
   "cell_type": "code",
   "execution_count": 12,
   "id": "695f60f6",
   "metadata": {},
   "outputs": [
    {
     "name": "stdout",
     "output_type": "stream",
     "text": [
      "Unique values in 'gender': [1 0 2]\n",
      "Unique values in 'ever_married': [1 0]\n",
      "Unique values in 'work_type': [2 3 0 4 1]\n",
      "Unique values in 'Residence_type': [1 0]\n",
      "Unique values in 'smoking_status': [1 2 3 0]\n"
     ]
    }
   ],
   "source": [
    "# Print the unique values in the encoded categorical columns for verification\n",
    "for column in ['gender', 'ever_married', 'work_type', 'Residence_type', 'smoking_status']:\n",
    "    unique_values = df[column].unique()\n",
    "    print(f\"Unique values in '{column}': {unique_values}\")"
   ]
  },
  {
   "cell_type": "markdown",
   "id": "102c1404",
   "metadata": {},
   "source": [
    "### Check counts on gender, see if it is significant"
   ]
  },
  {
   "cell_type": "code",
   "execution_count": 13,
   "id": "3ead0988",
   "metadata": {},
   "outputs": [
    {
     "data": {
      "text/plain": [
       "gender\n",
       "0    2897\n",
       "1    2011\n",
       "2       1\n",
       "Name: count, dtype: int64"
      ]
     },
     "execution_count": 13,
     "metadata": {},
     "output_type": "execute_result"
    }
   ],
   "source": [
    "# Check the distribution of values in the 'gender' column\n",
    "df['gender'].value_counts() # We'll treat it as a binary!"
   ]
  },
  {
   "cell_type": "code",
   "execution_count": 14,
   "id": "35195d46",
   "metadata": {},
   "outputs": [
    {
     "data": {
      "text/html": [
       "<div>\n",
       "<style scoped>\n",
       "    .dataframe tbody tr th:only-of-type {\n",
       "        vertical-align: middle;\n",
       "    }\n",
       "\n",
       "    .dataframe tbody tr th {\n",
       "        vertical-align: top;\n",
       "    }\n",
       "\n",
       "    .dataframe thead th {\n",
       "        text-align: right;\n",
       "    }\n",
       "</style>\n",
       "<table border=\"1\" class=\"dataframe\">\n",
       "  <thead>\n",
       "    <tr style=\"text-align: right;\">\n",
       "      <th></th>\n",
       "      <th>gender</th>\n",
       "      <th>age</th>\n",
       "      <th>hypertension</th>\n",
       "      <th>heart_disease</th>\n",
       "      <th>ever_married</th>\n",
       "      <th>work_type</th>\n",
       "      <th>Residence_type</th>\n",
       "      <th>avg_glucose_level</th>\n",
       "      <th>bmi</th>\n",
       "      <th>smoking_status</th>\n",
       "      <th>stroke</th>\n",
       "    </tr>\n",
       "  </thead>\n",
       "  <tbody>\n",
       "    <tr>\n",
       "      <th>0</th>\n",
       "      <td>1</td>\n",
       "      <td>67.0</td>\n",
       "      <td>0</td>\n",
       "      <td>1</td>\n",
       "      <td>1</td>\n",
       "      <td>2</td>\n",
       "      <td>1</td>\n",
       "      <td>228.69</td>\n",
       "      <td>36.6</td>\n",
       "      <td>1</td>\n",
       "      <td>1</td>\n",
       "    </tr>\n",
       "    <tr>\n",
       "      <th>2</th>\n",
       "      <td>1</td>\n",
       "      <td>80.0</td>\n",
       "      <td>0</td>\n",
       "      <td>1</td>\n",
       "      <td>1</td>\n",
       "      <td>2</td>\n",
       "      <td>0</td>\n",
       "      <td>105.92</td>\n",
       "      <td>32.5</td>\n",
       "      <td>2</td>\n",
       "      <td>1</td>\n",
       "    </tr>\n",
       "    <tr>\n",
       "      <th>3</th>\n",
       "      <td>0</td>\n",
       "      <td>49.0</td>\n",
       "      <td>0</td>\n",
       "      <td>0</td>\n",
       "      <td>1</td>\n",
       "      <td>2</td>\n",
       "      <td>1</td>\n",
       "      <td>171.23</td>\n",
       "      <td>34.4</td>\n",
       "      <td>3</td>\n",
       "      <td>1</td>\n",
       "    </tr>\n",
       "    <tr>\n",
       "      <th>4</th>\n",
       "      <td>0</td>\n",
       "      <td>79.0</td>\n",
       "      <td>1</td>\n",
       "      <td>0</td>\n",
       "      <td>1</td>\n",
       "      <td>3</td>\n",
       "      <td>0</td>\n",
       "      <td>174.12</td>\n",
       "      <td>24.0</td>\n",
       "      <td>2</td>\n",
       "      <td>1</td>\n",
       "    </tr>\n",
       "    <tr>\n",
       "      <th>5</th>\n",
       "      <td>1</td>\n",
       "      <td>81.0</td>\n",
       "      <td>0</td>\n",
       "      <td>0</td>\n",
       "      <td>1</td>\n",
       "      <td>2</td>\n",
       "      <td>1</td>\n",
       "      <td>186.21</td>\n",
       "      <td>29.0</td>\n",
       "      <td>1</td>\n",
       "      <td>1</td>\n",
       "    </tr>\n",
       "  </tbody>\n",
       "</table>\n",
       "</div>"
      ],
      "text/plain": [
       "   gender   age  hypertension  heart_disease  ever_married  work_type  \\\n",
       "0       1  67.0             0              1             1          2   \n",
       "2       1  80.0             0              1             1          2   \n",
       "3       0  49.0             0              0             1          2   \n",
       "4       0  79.0             1              0             1          3   \n",
       "5       1  81.0             0              0             1          2   \n",
       "\n",
       "   Residence_type  avg_glucose_level   bmi  smoking_status  stroke  \n",
       "0               1             228.69  36.6               1       1  \n",
       "2               0             105.92  32.5               2       1  \n",
       "3               1             171.23  34.4               3       1  \n",
       "4               0             174.12  24.0               2       1  \n",
       "5               1             186.21  29.0               1       1  "
      ]
     },
     "execution_count": 14,
     "metadata": {},
     "output_type": "execute_result"
    }
   ],
   "source": [
    "df.head()"
   ]
  },
  {
   "cell_type": "markdown",
   "id": "273b6196",
   "metadata": {},
   "source": [
    "### Create synthetic balance in the dataset using SMOTE"
   ]
  },
  {
   "cell_type": "code",
   "execution_count": 15,
   "id": "180cb9f3",
   "metadata": {},
   "outputs": [],
   "source": [
    "from imblearn.over_sampling import SMOTENC"
   ]
  },
  {
   "cell_type": "code",
   "execution_count": 16,
   "id": "fb37ea5d",
   "metadata": {},
   "outputs": [],
   "source": [
    "# # Run train test split\n",
    "# X = df.drop(['stroke'], axis=1)\n",
    "# y = df['stroke']\n",
    "\n",
    "# X_train, X_test, y_train, y_test = train_test_split(X, y, test_size=0.3, random_state=85)"
   ]
  },
  {
   "cell_type": "code",
   "execution_count": 19,
   "id": "47e8754b",
   "metadata": {},
   "outputs": [],
   "source": [
    "oversampled = SMOTE()\n",
    "eval_df = df[['gender','age','hypertension','heart_disease','work_type','avg_glucose_level','bmi','stroke']].sample(int(df.shape[0]*0.2),random_state=42)\n",
    "train_df = df.drop(index=eval_df.index)\n",
    "\n",
    "X_test,y_test = eval_df[['gender','age','hypertension','heart_disease','work_type','avg_glucose_level','bmi']], eval_df['stroke']\n",
    "X_train,y_train = train_df[['gender','age','hypertension','heart_disease','work_type','avg_glucose_level','bmi']], train_df['stroke']\n",
    "\n",
    "\n",
    "X_train, y_train = oversampled.fit_resample(X_train,y_train)\n",
    "usampled_df = X_train.assign(Stroke = y_train)\n",
    "\n",
    "X_test,y_test = oversampled.fit_resample(X_test,y_test)\n",
    "usampled_eval_df = X_test.assign(Stroke = y_test)"
   ]
  },
  {
   "cell_type": "code",
   "execution_count": null,
   "id": "909a6ef8",
   "metadata": {},
   "outputs": [],
   "source": [
    "# oversample = SMOTENC(categorical_features=[0,2,3,4,5,6,9], \n",
    "#                     random_state=27,  # for reproducibility\n",
    "#                     sampling_strategy='auto')\n",
    "\n",
    "# # eval_df = df[['gender','age','hypertension','heart_disease','smoking_status','avg_glucose_level','bmi','stroke']].sample(int(df.shape[0]*0.2),random_state=42)\n",
    "# # train_df = df.drop(index=eval_df.index)\n",
    "\n",
    "# # X_test,y_test = eval_df[['gender','age','hypertension','heart_disease','smoking_status','avg_glucose_level','bmi']], eval_df['stroke']\n",
    "# # X_train,y_train = train_df[['gender','age','hypertension','heart_disease','smoking_status','avg_glucose_level','bmi']], train_df['stroke']\n",
    "\n",
    "# X_train_res, y_train_res = oversample.fit_resample(X_train, y_train)\n",
    "# X_test, y_test = oversample.fit_resample(X_test, y_test)\n",
    "# # X_train, y_train = oversample.fit_resample(X_train,y_train)\n",
    "# # usampled_df = X_train.assign(Stroke = y_train)\n",
    "\n",
    "# # X_test,y_test = oversample.fit_resample(X_test,y_test)\n",
    "# # usampled_eval_df = X_test.assign(Stroke = y_test)\n",
    "# # Preview class distributions before and after over-sampling\n",
    "# print('Original class distribution: \\n')\n",
    "# print(y_train.value_counts())\n",
    "# print('-----------------------------------------')\n",
    "# print('Synthetic sample class distribution: \\n')\n",
    "# print(pd.Series(y_train_res).value_counts())"
   ]
  },
  {
   "cell_type": "code",
   "execution_count": null,
   "id": "7079417b",
   "metadata": {},
   "outputs": [],
   "source": [
    "# from sklearn.preprocessing import MinMaxScaler\n",
    "\n",
    "# # Selecting numerical columns that need normalization\n",
    "# numerical_cols = ['age', 'avg_glucose_level', 'work_type', 'bmi']\n",
    "\n",
    "# # Initialize the MinMaxScaler\n",
    "# scaler = MinMaxScaler()\n",
    "\n",
    "# # Fit on training data\n",
    "# scaler.fit(X_train[numerical_cols])\n",
    "\n",
    "# # Transform both training and testing data\n",
    "# X_train[numerical_cols] = scaler.transform(X_train[numerical_cols])\n",
    "# X_test[numerical_cols] = scaler.transform(X_test[numerical_cols])"
   ]
  },
  {
   "cell_type": "code",
   "execution_count": 20,
   "id": "56a6931c",
   "metadata": {},
   "outputs": [],
   "source": []
  },
  {
   "cell_type": "code",
   "execution_count": null,
   "id": "2321db4a",
   "metadata": {},
   "outputs": [],
   "source": [
    "# # Run train test split\n",
    "# X = df.drop(['stroke'], axis=1)\n",
    "# y = df['stroke']\n",
    "\n",
    "# X_train, X_test, y_train, y_test = train_test_split(X, y, test_size=0.3, random_state=85)"
   ]
  },
  {
   "cell_type": "markdown",
   "id": "81eb8094",
   "metadata": {},
   "source": [
    "## Choose scaling method"
   ]
  },
  {
   "cell_type": "markdown",
   "id": "cbdf6f63",
   "metadata": {},
   "source": [
    " Normalization rescales the features to a fixed range, usually 0 to 1. \n",
    "\n",
    "Advantages:\n",
    "\n",
    " - Useful when you need to bound your values between a specific range.\n",
    " - Maintains the original distribution without distorting differences in the ranges of values.\n",
    "\n",
    "Disadvantages:\n",
    "\n",
    " - If your data contains outliers, normalization can squash the \"normal\" data into a small portion of the range, reducing the      algorithm's ability to learn from it."
   ]
  },
  {
   "cell_type": "markdown",
   "id": "3a5db4a3",
   "metadata": {},
   "source": [
    "Standardization rescales data so that it has a mean of 0 and a standard deviation of 1.\n",
    "\n",
    "Advantages:\n",
    "\n",
    " - Standardization does not bound values to a specific range, which might be useful for certain algorithms that assume no specific range.\n",
    " - More robust to outliers compared to normalization.\n",
    "\n",
    "Disadvantages:\n",
    "\n",
    " - The resulting distribution will have a mean of 0 and a standard deviation of 1, but it might not be suitable for algorithms that expect input data to be within a bounded range."
   ]
  },
  {
   "cell_type": "markdown",
   "id": "e6f6ce1b",
   "metadata": {},
   "source": [
    "### Normalization"
   ]
  },
  {
   "cell_type": "code",
   "execution_count": null,
   "id": "961cf110",
   "metadata": {},
   "outputs": [],
   "source": [
    "# from sklearn.preprocessing import MinMaxScaler\n",
    "\n",
    "# # Selecting numerical columns that need normalization\n",
    "# numerical_cols = ['age', 'avg_glucose_level', 'work_type', 'bmi', 'smoking_status']\n",
    "\n",
    "# # Initialize the MinMaxScaler\n",
    "# scaler = MinMaxScaler()\n",
    "\n",
    "# # Fit on training data\n",
    "# scaler.fit(X_train[numerical_cols])\n",
    "\n",
    "# # Transform both training and testing data\n",
    "# X_train[numerical_cols] = scaler.transform(X_train[numerical_cols])\n",
    "# X_test[numerical_cols] = scaler.transform(X_test[numerical_cols])"
   ]
  },
  {
   "cell_type": "markdown",
   "id": "82ccf861",
   "metadata": {},
   "source": [
    "### Standardization"
   ]
  },
  {
   "cell_type": "code",
   "execution_count": 37,
   "id": "36d3dc6e",
   "metadata": {},
   "outputs": [],
   "source": [
    "from sklearn.preprocessing import StandardScaler\n",
    "\n",
    "# Selecting numerical columns that need normalization\n",
    "numerical_cols = ['age', 'avg_glucose_level', 'work_type', 'bmi']\n",
    "\n",
    "# Initialize the StandardScaler\n",
    "scaler = StandardScaler()\n",
    "\n",
    "# Fit on training data\n",
    "scaler.fit(X_train[numerical_cols])\n",
    "\n",
    "# Transform both training and testing data\n",
    "X_train[numerical_cols] = scaler.transform(X_train[numerical_cols])\n",
    "X_test[numerical_cols] = scaler.transform(X_test[numerical_cols])"
   ]
  },
  {
   "cell_type": "code",
   "execution_count": null,
   "id": "4ad5924c",
   "metadata": {},
   "outputs": [],
   "source": [
    "# Verify processing worked\n",
    "X_train.head(3)"
   ]
  },
  {
   "cell_type": "code",
   "execution_count": null,
   "id": "be3572be",
   "metadata": {
    "scrolled": true
   },
   "outputs": [],
   "source": [
    "# Verify processing worked\n",
    "X_test.head(3)"
   ]
  },
  {
   "cell_type": "code",
   "execution_count": null,
   "id": "3ff81cf0",
   "metadata": {},
   "outputs": [],
   "source": [
    "display(X_train.shape)\n",
    "display(X_train.info())\n",
    "display(X_train.describe())\n",
    "display(X_train.columns)"
   ]
  },
  {
   "cell_type": "markdown",
   "id": "c7272950",
   "metadata": {},
   "source": [
    "## Decision Tree"
   ]
  },
  {
   "cell_type": "code",
   "execution_count": 21,
   "id": "111fac3b",
   "metadata": {},
   "outputs": [],
   "source": [
    "from sklearn.tree import DecisionTreeClassifier\n",
    "\n",
    "model_dc = DecisionTreeClassifier()\n",
    "model_dc.fit(X_train,y_train)\n",
    "y_pred = model_dc.predict(X_test)"
   ]
  },
  {
   "cell_type": "code",
   "execution_count": 22,
   "id": "60a65e38",
   "metadata": {},
   "outputs": [
    {
     "name": "stdout",
     "output_type": "stream",
     "text": [
      "1.0\n"
     ]
    }
   ],
   "source": [
    "y_train_pred = model_dc.predict(X_train)\n",
    "print(balanced_accuracy_score(y_train, y_train_pred))"
   ]
  },
  {
   "cell_type": "code",
   "execution_count": 23,
   "id": "560ee571",
   "metadata": {},
   "outputs": [
    {
     "name": "stdout",
     "output_type": "stream",
     "text": [
      "[0 0 0 ... 0 1 0]\n"
     ]
    }
   ],
   "source": [
    "y_pred_train = model_dc.predict(X_train)\n",
    "y_pred_test = model_dc.predict(X_test)\n",
    "print(y_pred_test)"
   ]
  },
  {
   "cell_type": "code",
   "execution_count": 38,
   "id": "fb95b357",
   "metadata": {},
   "outputs": [
    {
     "name": "stdout",
     "output_type": "stream",
     "text": [
      "------------------------------------\n",
      "Classification Report for Training:\n",
      "              precision    recall  f1-score   support\n",
      "\n",
      "           0       1.00      1.00      1.00      3772\n",
      "           1       1.00      1.00      1.00      3772\n",
      "\n",
      "    accuracy                           1.00      7544\n",
      "   macro avg       1.00      1.00      1.00      7544\n",
      "weighted avg       1.00      1.00      1.00      7544\n",
      "\n",
      "------------------------------------\n",
      "Classification Report for Testing:\n",
      "              precision    recall  f1-score   support\n",
      "\n",
      "           0       0.58      0.91      0.71       928\n",
      "           1       0.79      0.35      0.48       928\n",
      "\n",
      "    accuracy                           0.63      1856\n",
      "   macro avg       0.69      0.63      0.60      1856\n",
      "weighted avg       0.69      0.63      0.60      1856\n",
      "\n"
     ]
    }
   ],
   "source": [
    "\n",
    "print('------------------------------------')\n",
    "print('Classification Report for Training:')\n",
    "print(classification_report(y_train, y_pred_train))\n",
    "print('------------------------------------')\n",
    "print('Classification Report for Testing:')\n",
    "print(classification_report(y_test, y_pred_test))"
   ]
  },
  {
   "cell_type": "code",
   "execution_count": null,
   "id": "0dbe3a4b",
   "metadata": {},
   "outputs": [],
   "source": [
    "print(balanced_accuracy_score(y_test, y_pred))"
   ]
  },
  {
   "cell_type": "markdown",
   "id": "0f1598bf",
   "metadata": {},
   "source": [
    "### PCA"
   ]
  },
  {
   "cell_type": "code",
   "execution_count": 25,
   "id": "8b0ae6ba",
   "metadata": {},
   "outputs": [
    {
     "data": {
      "text/html": [
       "<div>\n",
       "<style scoped>\n",
       "    .dataframe tbody tr th:only-of-type {\n",
       "        vertical-align: middle;\n",
       "    }\n",
       "\n",
       "    .dataframe tbody tr th {\n",
       "        vertical-align: top;\n",
       "    }\n",
       "\n",
       "    .dataframe thead th {\n",
       "        text-align: right;\n",
       "    }\n",
       "</style>\n",
       "<table border=\"1\" class=\"dataframe\">\n",
       "  <thead>\n",
       "    <tr style=\"text-align: right;\">\n",
       "      <th></th>\n",
       "      <th>0</th>\n",
       "      <th>1</th>\n",
       "      <th>2</th>\n",
       "      <th>3</th>\n",
       "      <th>4</th>\n",
       "      <th>5</th>\n",
       "      <th>6</th>\n",
       "    </tr>\n",
       "  </thead>\n",
       "  <tbody>\n",
       "    <tr>\n",
       "      <th>0</th>\n",
       "      <td>-1.733910</td>\n",
       "      <td>1.419319</td>\n",
       "      <td>0.069299</td>\n",
       "      <td>0.413151</td>\n",
       "      <td>0.691431</td>\n",
       "      <td>-0.210570</td>\n",
       "      <td>0.848822</td>\n",
       "    </tr>\n",
       "    <tr>\n",
       "      <th>1</th>\n",
       "      <td>-0.705318</td>\n",
       "      <td>-0.110725</td>\n",
       "      <td>-0.162414</td>\n",
       "      <td>-0.981156</td>\n",
       "      <td>0.788425</td>\n",
       "      <td>-0.178522</td>\n",
       "      <td>0.896694</td>\n",
       "    </tr>\n",
       "    <tr>\n",
       "      <th>2</th>\n",
       "      <td>-0.619379</td>\n",
       "      <td>0.753972</td>\n",
       "      <td>0.500372</td>\n",
       "      <td>0.420079</td>\n",
       "      <td>-0.368582</td>\n",
       "      <td>-0.113779</td>\n",
       "      <td>-0.045189</td>\n",
       "    </tr>\n",
       "    <tr>\n",
       "      <th>3</th>\n",
       "      <td>-0.245286</td>\n",
       "      <td>1.132797</td>\n",
       "      <td>-1.552239</td>\n",
       "      <td>-0.546262</td>\n",
       "      <td>-0.320044</td>\n",
       "      <td>0.836823</td>\n",
       "      <td>-0.089916</td>\n",
       "    </tr>\n",
       "    <tr>\n",
       "      <th>4</th>\n",
       "      <td>-1.152106</td>\n",
       "      <td>0.643258</td>\n",
       "      <td>-0.966051</td>\n",
       "      <td>-0.105550</td>\n",
       "      <td>0.682477</td>\n",
       "      <td>-0.182644</td>\n",
       "      <td>-0.147138</td>\n",
       "    </tr>\n",
       "    <tr>\n",
       "      <th>...</th>\n",
       "      <td>...</td>\n",
       "      <td>...</td>\n",
       "      <td>...</td>\n",
       "      <td>...</td>\n",
       "      <td>...</td>\n",
       "      <td>...</td>\n",
       "      <td>...</td>\n",
       "    </tr>\n",
       "    <tr>\n",
       "      <th>7539</th>\n",
       "      <td>-0.308450</td>\n",
       "      <td>-1.011887</td>\n",
       "      <td>0.449642</td>\n",
       "      <td>0.021387</td>\n",
       "      <td>0.715716</td>\n",
       "      <td>-0.077238</td>\n",
       "      <td>-0.059512</td>\n",
       "    </tr>\n",
       "    <tr>\n",
       "      <th>7540</th>\n",
       "      <td>0.533231</td>\n",
       "      <td>-0.419822</td>\n",
       "      <td>0.409581</td>\n",
       "      <td>-0.319360</td>\n",
       "      <td>-0.319767</td>\n",
       "      <td>-0.060170</td>\n",
       "      <td>0.003906</td>\n",
       "    </tr>\n",
       "    <tr>\n",
       "      <th>7541</th>\n",
       "      <td>-0.312043</td>\n",
       "      <td>-0.486081</td>\n",
       "      <td>0.294114</td>\n",
       "      <td>-1.202424</td>\n",
       "      <td>-0.252798</td>\n",
       "      <td>-0.130187</td>\n",
       "      <td>-0.021664</td>\n",
       "    </tr>\n",
       "    <tr>\n",
       "      <th>7542</th>\n",
       "      <td>0.289996</td>\n",
       "      <td>-0.808815</td>\n",
       "      <td>-1.351843</td>\n",
       "      <td>-0.921061</td>\n",
       "      <td>-0.261318</td>\n",
       "      <td>-0.087003</td>\n",
       "      <td>-0.039890</td>\n",
       "    </tr>\n",
       "    <tr>\n",
       "      <th>7543</th>\n",
       "      <td>0.374269</td>\n",
       "      <td>-0.486826</td>\n",
       "      <td>0.385853</td>\n",
       "      <td>-0.570451</td>\n",
       "      <td>-0.301117</td>\n",
       "      <td>-0.075173</td>\n",
       "      <td>-0.000075</td>\n",
       "    </tr>\n",
       "  </tbody>\n",
       "</table>\n",
       "<p>7544 rows × 7 columns</p>\n",
       "</div>"
      ],
      "text/plain": [
       "             0         1         2         3         4         5         6\n",
       "0    -1.733910  1.419319  0.069299  0.413151  0.691431 -0.210570  0.848822\n",
       "1    -0.705318 -0.110725 -0.162414 -0.981156  0.788425 -0.178522  0.896694\n",
       "2    -0.619379  0.753972  0.500372  0.420079 -0.368582 -0.113779 -0.045189\n",
       "3    -0.245286  1.132797 -1.552239 -0.546262 -0.320044  0.836823 -0.089916\n",
       "4    -1.152106  0.643258 -0.966051 -0.105550  0.682477 -0.182644 -0.147138\n",
       "...        ...       ...       ...       ...       ...       ...       ...\n",
       "7539 -0.308450 -1.011887  0.449642  0.021387  0.715716 -0.077238 -0.059512\n",
       "7540  0.533231 -0.419822  0.409581 -0.319360 -0.319767 -0.060170  0.003906\n",
       "7541 -0.312043 -0.486081  0.294114 -1.202424 -0.252798 -0.130187 -0.021664\n",
       "7542  0.289996 -0.808815 -1.351843 -0.921061 -0.261318 -0.087003 -0.039890\n",
       "7543  0.374269 -0.486826  0.385853 -0.570451 -0.301117 -0.075173 -0.000075\n",
       "\n",
       "[7544 rows x 7 columns]"
      ]
     },
     "execution_count": 25,
     "metadata": {},
     "output_type": "execute_result"
    }
   ],
   "source": [
    "from sklearn.decomposition import PCA\n",
    "\n",
    "pca_model = PCA(n_components = 7)\n",
    "pca_model.fit(X_train)\n",
    "\n",
    "X_train_pca = pd.DataFrame(pca_model.transform(X_train))\n",
    "X_test_pca = pd.DataFrame(pca_model.transform(X_test))\n",
    "X_train_pca"
   ]
  },
  {
   "cell_type": "markdown",
   "id": "9cc0df9d",
   "metadata": {},
   "source": [
    "### Random Forest"
   ]
  },
  {
   "cell_type": "code",
   "execution_count": 26,
   "id": "aa420877",
   "metadata": {},
   "outputs": [
    {
     "data": {
      "text/html": [
       "<style>#sk-container-id-1 {color: black;}#sk-container-id-1 pre{padding: 0;}#sk-container-id-1 div.sk-toggleable {background-color: white;}#sk-container-id-1 label.sk-toggleable__label {cursor: pointer;display: block;width: 100%;margin-bottom: 0;padding: 0.3em;box-sizing: border-box;text-align: center;}#sk-container-id-1 label.sk-toggleable__label-arrow:before {content: \"▸\";float: left;margin-right: 0.25em;color: #696969;}#sk-container-id-1 label.sk-toggleable__label-arrow:hover:before {color: black;}#sk-container-id-1 div.sk-estimator:hover label.sk-toggleable__label-arrow:before {color: black;}#sk-container-id-1 div.sk-toggleable__content {max-height: 0;max-width: 0;overflow: hidden;text-align: left;background-color: #f0f8ff;}#sk-container-id-1 div.sk-toggleable__content pre {margin: 0.2em;color: black;border-radius: 0.25em;background-color: #f0f8ff;}#sk-container-id-1 input.sk-toggleable__control:checked~div.sk-toggleable__content {max-height: 200px;max-width: 100%;overflow: auto;}#sk-container-id-1 input.sk-toggleable__control:checked~label.sk-toggleable__label-arrow:before {content: \"▾\";}#sk-container-id-1 div.sk-estimator input.sk-toggleable__control:checked~label.sk-toggleable__label {background-color: #d4ebff;}#sk-container-id-1 div.sk-label input.sk-toggleable__control:checked~label.sk-toggleable__label {background-color: #d4ebff;}#sk-container-id-1 input.sk-hidden--visually {border: 0;clip: rect(1px 1px 1px 1px);clip: rect(1px, 1px, 1px, 1px);height: 1px;margin: -1px;overflow: hidden;padding: 0;position: absolute;width: 1px;}#sk-container-id-1 div.sk-estimator {font-family: monospace;background-color: #f0f8ff;border: 1px dotted black;border-radius: 0.25em;box-sizing: border-box;margin-bottom: 0.5em;}#sk-container-id-1 div.sk-estimator:hover {background-color: #d4ebff;}#sk-container-id-1 div.sk-parallel-item::after {content: \"\";width: 100%;border-bottom: 1px solid gray;flex-grow: 1;}#sk-container-id-1 div.sk-label:hover label.sk-toggleable__label {background-color: #d4ebff;}#sk-container-id-1 div.sk-serial::before {content: \"\";position: absolute;border-left: 1px solid gray;box-sizing: border-box;top: 0;bottom: 0;left: 50%;z-index: 0;}#sk-container-id-1 div.sk-serial {display: flex;flex-direction: column;align-items: center;background-color: white;padding-right: 0.2em;padding-left: 0.2em;position: relative;}#sk-container-id-1 div.sk-item {position: relative;z-index: 1;}#sk-container-id-1 div.sk-parallel {display: flex;align-items: stretch;justify-content: center;background-color: white;position: relative;}#sk-container-id-1 div.sk-item::before, #sk-container-id-1 div.sk-parallel-item::before {content: \"\";position: absolute;border-left: 1px solid gray;box-sizing: border-box;top: 0;bottom: 0;left: 50%;z-index: -1;}#sk-container-id-1 div.sk-parallel-item {display: flex;flex-direction: column;z-index: 1;position: relative;background-color: white;}#sk-container-id-1 div.sk-parallel-item:first-child::after {align-self: flex-end;width: 50%;}#sk-container-id-1 div.sk-parallel-item:last-child::after {align-self: flex-start;width: 50%;}#sk-container-id-1 div.sk-parallel-item:only-child::after {width: 0;}#sk-container-id-1 div.sk-dashed-wrapped {border: 1px dashed gray;margin: 0 0.4em 0.5em 0.4em;box-sizing: border-box;padding-bottom: 0.4em;background-color: white;}#sk-container-id-1 div.sk-label label {font-family: monospace;font-weight: bold;display: inline-block;line-height: 1.2em;}#sk-container-id-1 div.sk-label-container {text-align: center;}#sk-container-id-1 div.sk-container {/* jupyter's `normalize.less` sets `[hidden] { display: none; }` but bootstrap.min.css set `[hidden] { display: none !important; }` so we also need the `!important` here to be able to override the default hidden behavior on the sphinx rendered scikit-learn.org. See: https://github.com/scikit-learn/scikit-learn/issues/21755 */display: inline-block !important;position: relative;}#sk-container-id-1 div.sk-text-repr-fallback {display: none;}</style><div id=\"sk-container-id-1\" class=\"sk-top-container\"><div class=\"sk-text-repr-fallback\"><pre>RandomForestClassifier(class_weight=&#x27;balanced&#x27;, random_state=42)</pre><b>In a Jupyter environment, please rerun this cell to show the HTML representation or trust the notebook. <br />On GitHub, the HTML representation is unable to render, please try loading this page with nbviewer.org.</b></div><div class=\"sk-container\" hidden><div class=\"sk-item\"><div class=\"sk-estimator sk-toggleable\"><input class=\"sk-toggleable__control sk-hidden--visually\" id=\"sk-estimator-id-1\" type=\"checkbox\" checked><label for=\"sk-estimator-id-1\" class=\"sk-toggleable__label sk-toggleable__label-arrow\">RandomForestClassifier</label><div class=\"sk-toggleable__content\"><pre>RandomForestClassifier(class_weight=&#x27;balanced&#x27;, random_state=42)</pre></div></div></div></div></div>"
      ],
      "text/plain": [
       "RandomForestClassifier(class_weight='balanced', random_state=42)"
      ]
     },
     "execution_count": 26,
     "metadata": {},
     "output_type": "execute_result"
    }
   ],
   "source": [
    "from sklearn.ensemble import RandomForestClassifier\n",
    "\n",
    "model = RandomForestClassifier(n_estimators=100, class_weight='balanced', random_state=42)\n",
    "model.fit(X_train_pca, y_train)"
   ]
  },
  {
   "cell_type": "code",
   "execution_count": 27,
   "id": "e7d8e4a0",
   "metadata": {},
   "outputs": [
    {
     "name": "stdout",
     "output_type": "stream",
     "text": [
      "0.6643318965517242\n"
     ]
    }
   ],
   "source": [
    "y_test_pred = model.predict(X_test_pca)\n",
    "print(balanced_accuracy_score(y_test, y_test_pred))"
   ]
  },
  {
   "cell_type": "code",
   "execution_count": 28,
   "id": "991128da",
   "metadata": {},
   "outputs": [
    {
     "ename": "NameError",
     "evalue": "name 'X_train_res' is not defined",
     "output_type": "error",
     "traceback": [
      "\u001b[1;31m---------------------------------------------------------------------------\u001b[0m",
      "\u001b[1;31mNameError\u001b[0m                                 Traceback (most recent call last)",
      "Cell \u001b[1;32mIn[28], line 1\u001b[0m\n\u001b[1;32m----> 1\u001b[0m y_train_pred \u001b[38;5;241m=\u001b[39m model\u001b[38;5;241m.\u001b[39mpredict(X_train_res)\n\u001b[0;32m      2\u001b[0m \u001b[38;5;28mprint\u001b[39m(balanced_accuracy_score(y_train_res, y_train_pred))\n",
      "\u001b[1;31mNameError\u001b[0m: name 'X_train_res' is not defined"
     ]
    }
   ],
   "source": [
    "y_train_pred = model.predict(X_train_res)\n",
    "print(balanced_accuracy_score(y_train_res, y_train_pred))"
   ]
  },
  {
   "cell_type": "code",
   "execution_count": 29,
   "id": "7575d4b9",
   "metadata": {},
   "outputs": [],
   "source": [
    "models = {'train_score': [], 'test_score': [], 'max_depth': []}\n",
    "\n",
    "for depth in range(1,10):\n",
    "    models['max_depth'].append(depth)\n",
    "    model = RandomForestClassifier(n_estimators=100, max_depth=depth)\n",
    "    model.fit(X_train_pca, y_train)\n",
    "    y_test_pred = model.predict(X_test_pca)\n",
    "    y_train_pred = model.predict(X_train_pca)\n",
    "\n",
    "    models['train_score'].append(balanced_accuracy_score(y_train, y_train_pred))\n",
    "    models['test_score'].append(balanced_accuracy_score(y_test, y_test_pred))\n",
    "\n",
    "models_df = pd.DataFrame(models)"
   ]
  },
  {
   "cell_type": "code",
   "execution_count": 30,
   "id": "bc5d14ea",
   "metadata": {},
   "outputs": [
    {
     "data": {
      "text/plain": [
       "<Axes: xlabel='max_depth'>"
      ]
     },
     "execution_count": 30,
     "metadata": {},
     "output_type": "execute_result"
    },
    {
     "data": {
      "image/png": "[encoded data removed]",
      "text/plain": [
       "<Figure size 640x480 with 1 Axes>"
      ]
     },
     "metadata": {},
     "output_type": "display_data"
    }
   ],
   "source": [
    "models_df.plot(x='max_depth')"
   ]
  },
  {
   "cell_type": "markdown",
   "id": "caa2848c",
   "metadata": {},
   "source": [
    "### Apply best max_depth to Random Forest"
   ]
  },
  {
   "cell_type": "code",
   "execution_count": 31,
   "id": "b3a2b039",
   "metadata": {},
   "outputs": [
    {
     "name": "stdout",
     "output_type": "stream",
     "text": [
      "0.7990301724137931\n"
     ]
    }
   ],
   "source": [
    "from sklearn.ensemble import RandomForestClassifier\n",
    "\n",
    "model = RandomForestClassifier(n_estimators=100, max_depth=6, random_state=42)\n",
    "model.fit(X_train, y_train)\n",
    "forest_score = model.score(X_train, y_train)\n",
    "forest_test = model.score(X_test, y_test)\n",
    "# print('Training Score',forest_score)\n",
    "# print('Testing Score ',forest_test)\n",
    "y_pred = model.predict(X_test)\n",
    "print(balanced_accuracy_score(y_test, y_pred))"
   ]
  },
  {
   "cell_type": "code",
   "execution_count": 32,
   "id": "be97c8d0",
   "metadata": {
    "scrolled": true
   },
   "outputs": [
    {
     "data": {
      "text/plain": [
       "array([[719, 209],\n",
       "       [164, 764]], dtype=int64)"
      ]
     },
     "metadata": {},
     "output_type": "display_data"
    }
   ],
   "source": [
    "display(confusion_matrix(y_test, y_pred))"
   ]
  },
  {
   "cell_type": "markdown",
   "id": "bcca872b",
   "metadata": {},
   "source": []
  },
  {
   "cell_type": "code",
   "execution_count": 33,
   "id": "00f00d23",
   "metadata": {},
   "outputs": [
    {
     "name": "stdout",
     "output_type": "stream",
     "text": [
      "              precision    recall  f1-score   support\n",
      "\n",
      "           0       0.81      0.77      0.79       928\n",
      "           1       0.79      0.82      0.80       928\n",
      "\n",
      "    accuracy                           0.80      1856\n",
      "   macro avg       0.80      0.80      0.80      1856\n",
      "weighted avg       0.80      0.80      0.80      1856\n",
      "\n"
     ]
    }
   ],
   "source": [
    "print(classification_report(y_test, y_pred))"
   ]
  },
  {
   "cell_type": "markdown",
   "id": "ed3cc00b",
   "metadata": {},
   "source": [
    "### Use best estimators for max_depth"
   ]
  },
  {
   "cell_type": "code",
   "execution_count": null,
   "id": "ae41951a",
   "metadata": {},
   "outputs": [],
   "source": [
    "models = {'train_score': [], 'test_score': [], 'n_estimators': []}\n",
    "\n",
    "for n in [50, 100, 500, 1000]:\n",
    "    models['n_estimators'].append(n)\n",
    "    model = RandomForestClassifier(n_estimators=n, max_depth=7)\n",
    "    model.fit(X_train_pca, y_train)\n",
    "    y_test_pred = model.predict(X_test_pca)\n",
    "    y_train_pred = model.predict(X_train_pca)\n",
    "\n",
    "    models['train_score'].append(balanced_accuracy_score(y_train, y_train_pred))\n",
    "    models['test_score'].append(balanced_accuracy_score(y_test, y_test_pred))\n",
    "\n",
    "models_df = pd.DataFrame(models)"
   ]
  },
  {
   "cell_type": "code",
   "execution_count": null,
   "id": "aef51b5c",
   "metadata": {
    "scrolled": true
   },
   "outputs": [],
   "source": [
    "models_df.plot(x='n_estimators')"
   ]
  },
  {
   "cell_type": "markdown",
   "id": "a30199bb",
   "metadata": {},
   "source": [
    "## Confusioin Matrix (ADD!)"
   ]
  },
  {
   "cell_type": "code",
   "execution_count": null,
   "id": "5c91bc8e",
   "metadata": {},
   "outputs": [],
   "source": []
  },
  {
   "cell_type": "markdown",
   "id": "e66f1a39",
   "metadata": {},
   "source": [
    "## K Neighbors"
   ]
  },
  {
   "cell_type": "code",
   "execution_count": null,
   "id": "4938f3d9",
   "metadata": {},
   "outputs": [],
   "source": [
    "from sklearn.neighbors import KNeighborsClassifier\n",
    "\n",
    "\n",
    "from sklearn.model_selection import RandomizedSearchCV\n",
    "param_grid = {\n",
    "    'n_neighbors': [1, 3, 5, 7, 9, 11, 13, 15, 17, 19],\n",
    "    'weights': ['uniform', 'distance'],\n",
    "    'leaf_size': [10, 50, 100, 500]\n",
    "}\n",
    "random_knn = RandomizedSearchCV(KNeighborsClassifier(), param_grid, verbose=3)\n",
    "\n",
    "random_knn.fit(X_train_pca, y_train)"
   ]
  },
  {
   "cell_type": "code",
   "execution_count": null,
   "id": "4c23c85b",
   "metadata": {},
   "outputs": [],
   "source": [
    "y_pred = random_knn.predict(X_test_pca)\n",
    "print(balanced_accuracy_score(y_test, y_pred))"
   ]
  },
  {
   "cell_type": "code",
   "execution_count": null,
   "id": "54578ef1",
   "metadata": {},
   "outputs": [],
   "source": [
    "from sklearn.linear_model import LogisticRegression \n",
    "\n",
    "classifier = LogisticRegression()\n",
    "classifier.fit(X_train, y_train)\n",
    "classifier.score"
   ]
  },
  {
   "cell_type": "markdown",
   "id": "9fcf359f",
   "metadata": {},
   "source": [
    "### Confusion Matrix"
   ]
  },
  {
   "cell_type": "code",
   "execution_count": null,
   "id": "5e4baceb",
   "metadata": {},
   "outputs": [],
   "source": []
  },
  {
   "cell_type": "markdown",
   "id": "f56a733b",
   "metadata": {},
   "source": [
    "## Cat Boost"
   ]
  },
  {
   "cell_type": "code",
   "execution_count": 34,
   "id": "e52ffa6b",
   "metadata": {},
   "outputs": [
    {
     "name": "stdout",
     "output_type": "stream",
     "text": [
      "0:\tlearn: 0.8052315\ttotal: 147ms\tremaining: 14.5s\n",
      "99:\tlearn: 0.9201131\ttotal: 334ms\tremaining: 0us\n",
      "0:\tlearn: 0.7937434\ttotal: 3.25ms\tremaining: 322ms\n",
      "99:\tlearn: 0.9181690\ttotal: 179ms\tremaining: 0us\n",
      "0:\tlearn: 0.7870272\ttotal: 3.73ms\tremaining: 369ms\n",
      "99:\tlearn: 0.9172853\ttotal: 210ms\tremaining: 0us\n",
      "0:\tlearn: 0.7898551\ttotal: 1.99ms\tremaining: 197ms\n",
      "99:\tlearn: 0.9164016\ttotal: 230ms\tremaining: 0us\n",
      "Accuracy for each fold: [0.90933192 0.90084836 0.89766702 0.90031813]\n",
      "Average Accuracy across all folds: 0.9020413573700954\n"
     ]
    }
   ],
   "source": [
    "from catboost import CatBoostClassifier\n",
    "from sklearn.model_selection import KFold, cross_val_score\n",
    "model = CatBoostClassifier(iterations=100, depth=5, learning_rate=0.2, loss_function='Logloss', eval_metric='Accuracy', random_seed=42, metric_period=100) \n",
    "kf = KFold(n_splits=4, shuffle=True, random_state=42)\n",
    "cv_results = cross_val_score(model, X_train, y_train, cv=kf, scoring='accuracy')\n",
    "accuracy = cv_results\n",
    "average_accuracy = cv_results.mean()\n",
    "\n",
    "print(\"Accuracy for each fold:\", accuracy)\n",
    "print(\"Average Accuracy across all folds:\", average_accuracy)"
   ]
  },
  {
   "cell_type": "code",
   "execution_count": 35,
   "id": "4b67c585",
   "metadata": {},
   "outputs": [
    {
     "name": "stdout",
     "output_type": "stream",
     "text": [
      "              precision    recall  f1-score   support\n",
      "\n",
      "           0       0.81      0.77      0.79       928\n",
      "           1       0.79      0.82      0.80       928\n",
      "\n",
      "    accuracy                           0.80      1856\n",
      "   macro avg       0.80      0.80      0.80      1856\n",
      "weighted avg       0.80      0.80      0.80      1856\n",
      "\n"
     ]
    }
   ],
   "source": [
    "print(classification_report(y_test, y_pred))"
   ]
  },
  {
   "cell_type": "code",
   "execution_count": null,
   "id": "1eaac726",
   "metadata": {
    "scrolled": true
   },
   "outputs": [],
   "source": [
    "scores = cross_val_score(model,X_test,y_test,cv=50,scoring=\"recall\")\n",
    "scores"
   ]
  },
  {
   "cell_type": "code",
   "execution_count": null,
   "id": "a1c2ec33",
   "metadata": {},
   "outputs": [],
   "source": [
    "print(classification_report(y_test, y_pred))"
   ]
  },
  {
   "cell_type": "markdown",
   "id": "fd312ca5",
   "metadata": {},
   "source": [
    "## XGBoost"
   ]
  },
  {
   "cell_type": "code",
   "execution_count": null,
   "id": "5e208353",
   "metadata": {},
   "outputs": [],
   "source": []
  },
  {
   "cell_type": "code",
   "execution_count": null,
   "id": "3dde1500",
   "metadata": {},
   "outputs": [],
   "source": []
  },
  {
   "cell_type": "markdown",
   "id": "4fd64864",
   "metadata": {},
   "source": [
    "XGBoost Classifier, Gradient Boosting Classifier, Gradient Boosting Classifier"
   ]
  },
  {
   "cell_type": "markdown",
   "id": "3b58c495",
   "metadata": {},
   "source": [
    "### Graph showing comparision of scores\n",
    "see link: https://www.kaggle.com/code/thomaskonstantin/analyzing-and-modeling-stroke-data Cell [20]"
   ]
  },
  {
   "cell_type": "code",
   "execution_count": null,
   "id": "117c4460",
   "metadata": {},
   "outputs": [],
   "source": []
  },
  {
   "cell_type": "code",
   "execution_count": null,
   "id": "f9f5ce09",
   "metadata": {},
   "outputs": [],
   "source": []
  }
 ],
 "metadata": {
  "kernelspec": {
   "display_name": "Python 3 (ipykernel)",
   "language": "python",
   "name": "python3"
  },
  "language_info": {
   "codemirror_mode": {
    "name": "ipython",
    "version": 3
   },
   "file_extension": ".py",
   "mimetype": "text/x-python",
   "name": "python",
   "nbconvert_exporter": "python",
   "pygments_lexer": "ipython3",
   "version": "3.11.5"
  }
 },
 "nbformat": 4,
 "nbformat_minor": 5
}
