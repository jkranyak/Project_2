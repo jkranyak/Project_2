{
 "cells": [
  {
   "cell_type": "markdown",
   "id": "60de5cf8",
   "metadata": {},
   "source": [
    "# Prepping Stroke Data"
   ]
  },
  {
   "cell_type": "code",
   "execution_count": null,
   "id": "eec4c113",
   "metadata": {},
   "outputs": [],
   "source": [
    "import pandas as pd\n",
    "from sklearn.model_selection import train_test_split\n",
    "df = pd.read_csv(r'C:\\Users\\whitl\\OneDrive\\Desktop\\New folder\\Project_2\\healthcare-dataset-stroke-data.csv')"
   ]
  },
  {
   "cell_type": "code",
   "execution_count": null,
   "id": "5217dd5b",
   "metadata": {
    "scrolled": true
   },
   "outputs": [],
   "source": [
    "df"
   ]
  },
  {
   "cell_type": "code",
   "execution_count": null,
   "id": "d6db4ab1",
   "metadata": {},
   "outputs": [],
   "source": [
    "df = df.drop('id', axis=1)"
   ]
  },
  {
   "cell_type": "code",
   "execution_count": null,
   "id": "e2a9edac",
   "metadata": {},
   "outputs": [],
   "source": [
    "df.isnull().sum()"
   ]
  },
  {
   "cell_type": "code",
   "execution_count": null,
   "id": "8e7bdcbc",
   "metadata": {},
   "outputs": [],
   "source": [
    "df = df.dropna()"
   ]
  },
  {
   "cell_type": "code",
   "execution_count": null,
   "id": "4e1318fb",
   "metadata": {},
   "outputs": [],
   "source": [
    "df.dtypes"
   ]
  },
  {
   "cell_type": "code",
   "execution_count": null,
   "id": "1e7abd70",
   "metadata": {},
   "outputs": [],
   "source": [
    "# Define categorical features for encoding\n",
    "catFeatures = ['gender','ever_married','work_type','Residence_type','smoking_status']\n",
    "# Describe the categorical features to see the number of unique categories in each\n",
    "df[catFeatures].describe(include='all').loc['unique', :]"
   ]
  },
  {
   "cell_type": "code",
   "execution_count": null,
   "id": "10f5c0c0",
   "metadata": {},
   "outputs": [],
   "source": [
    "# Convert categorical columns to 'category' dtype for efficient encoding\n",
    "df[['gender','ever_married','work_type','Residence_type','smoking_status']] = df[['gender','ever_married','work_type','Residence_type','smoking_status']].astype('category')\n",
    "df.dtypes"
   ]
  },
  {
   "cell_type": "code",
   "execution_count": null,
   "id": "a80bbf58",
   "metadata": {},
   "outputs": [],
   "source": [
    "# Encode categorical features as integers\n",
    "for column in ['gender', 'ever_married', 'work_type', 'Residence_type', 'smoking_status']:\n",
    "    df[column] = df[column].astype('category').cat.codes"
   ]
  },
  {
   "cell_type": "code",
   "execution_count": null,
   "id": "695f60f6",
   "metadata": {},
   "outputs": [],
   "source": [
    "# Print the unique values in the encoded categorical columns for verification\n",
    "for column in ['gender', 'ever_married', 'work_type', 'Residence_type', 'smoking_status']:\n",
    "    unique_values = df[column].unique()\n",
    "    print(f\"Unique values in '{column}': {unique_values}\")"
   ]
  },
  {
   "cell_type": "code",
   "execution_count": null,
   "id": "3ead0988",
   "metadata": {},
   "outputs": [],
   "source": [
    "# Check the distribution of values in the 'gender' column\n",
    "df['gender'].value_counts() # We'll treat it as a binary!"
   ]
  },
  {
   "cell_type": "code",
   "execution_count": null,
   "id": "35195d46",
   "metadata": {},
   "outputs": [],
   "source": [
    "df.head()"
   ]
  },
  {
   "cell_type": "code",
   "execution_count": null,
   "id": "2321db4a",
   "metadata": {},
   "outputs": [],
   "source": [
    "# Run train test split\n",
    "X = df.drop(['stroke'], axis=1)\n",
    "y = df['stroke']\n",
    "\n",
    "X_train, X_test, y_train, y_test = train_test_split(X, y, test_size=0.2, random_state=85)"
   ]
  },
  {
   "cell_type": "markdown",
   "id": "81eb8094",
   "metadata": {},
   "source": [
    "## Choose scaling method"
   ]
  },
  {
   "cell_type": "markdown",
   "id": "cbdf6f63",
   "metadata": {},
   "source": [
    " Normalization (also known as Min-Max scaling) rescales the features to a fixed range, usually 0 to 1. \n",
    "\n",
    "Advantages:\n",
    "\n",
    " - Useful when you need to bound your values between a specific range.\n",
    " - Maintains the original distribution without distorting differences in the ranges of values.\n",
    "\n",
    "Disadvantages:\n",
    "\n",
    " - If your data contains outliers, normalization can squash the \"normal\" data into a small portion of the range, reducing the      algorithm's ability to learn from it."
   ]
  },
  {
   "cell_type": "markdown",
   "id": "3a5db4a3",
   "metadata": {},
   "source": [
    "Standardization (also known as Z-score normalization) rescales data so that it has a mean of 0 and a standard deviation of 1.\n",
    "\n",
    "Advantages:\n",
    "\n",
    " - Standardization does not bound values to a specific range, which might be useful for certain algorithms that assume no specific range.\n",
    " - More robust to outliers compared to normalization.\n",
    "\n",
    "Disadvantages:\n",
    "\n",
    " - The resulting distribution will have a mean of 0 and a standard deviation of 1, but it might not be suitable for algorithms that expect input data to be within a bounded range."
   ]
  },
  {
   "cell_type": "markdown",
   "id": "e6f6ce1b",
   "metadata": {},
   "source": [
    "### Normalization"
   ]
  },
  {
   "cell_type": "code",
   "execution_count": null,
   "id": "961cf110",
   "metadata": {},
   "outputs": [],
   "source": [
    "# from sklearn.preprocessing import MinMaxScaler\n",
    "\n",
    "# # Selecting numerical columns that need normalization\n",
    "# numerical_cols = ['age', 'avg_glucose_level', 'work_type', 'bmi', 'smoking_status']\n",
    "\n",
    "# # Initialize the MinMaxScaler\n",
    "# scaler = MinMaxScaler()\n",
    "\n",
    "# # Fit on training data\n",
    "# scaler.fit(X_train[numerical_cols])\n",
    "\n",
    "# # Transform both training and testing data\n",
    "# X_train[numerical_cols] = scaler.transform(X_train[numerical_cols])\n",
    "# X_test[numerical_cols] = scaler.transform(X_test[numerical_cols])"
   ]
  },
  {
   "cell_type": "markdown",
   "id": "82ccf861",
   "metadata": {},
   "source": [
    "### Standardization"
   ]
  },
  {
   "cell_type": "code",
   "execution_count": null,
   "id": "36d3dc6e",
   "metadata": {},
   "outputs": [],
   "source": [
    "from sklearn.preprocessing import StandardScaler\n",
    "\n",
    "# Selecting numerical columns that need normalization\n",
    "numerical_cols = ['age', 'avg_glucose_level', 'work_type', 'bmi', 'smoking_status']\n",
    "\n",
    "# Initialize the StandardScaler\n",
    "scaler = StandardScaler()\n",
    "\n",
    "# Fit on training data\n",
    "scaler.fit(X_train[numerical_cols])\n",
    "\n",
    "# Transform both training and testing data\n",
    "X_train[numerical_cols] = scaler.transform(X_train[numerical_cols])\n",
    "X_test[numerical_cols] = scaler.transform(X_test[numerical_cols])"
   ]
  },
  {
   "cell_type": "code",
   "execution_count": null,
   "id": "4ad5924c",
   "metadata": {},
   "outputs": [],
   "source": [
    "# Verify processing worked\n",
    "X_train.head(3)"
   ]
  },
  {
   "cell_type": "code",
   "execution_count": null,
   "id": "be3572be",
   "metadata": {},
   "outputs": [],
   "source": [
    "# Verify processing worked\n",
    "X_test.head(3)"
   ]
  },
  {
   "cell_type": "code",
   "execution_count": null,
   "id": "77778ec4",
   "metadata": {},
   "outputs": [],
   "source": []
  },
  {
   "cell_type": "code",
   "execution_count": null,
   "id": "5a8fb539",
   "metadata": {},
   "outputs": [],
   "source": []
  },
  {
   "cell_type": "code",
   "execution_count": null,
   "id": "8b0ae6ba",
   "metadata": {},
   "outputs": [],
   "source": []
  },
  {
   "cell_type": "code",
   "execution_count": null,
   "id": "6f1c0586",
   "metadata": {},
   "outputs": [],
   "source": []
  },
  {
   "cell_type": "code",
   "execution_count": null,
   "id": "aa420877",
   "metadata": {},
   "outputs": [],
   "source": []
  },
  {
   "cell_type": "code",
   "execution_count": null,
   "id": "e7d8e4a0",
   "metadata": {},
   "outputs": [],
   "source": []
  },
  {
   "cell_type": "code",
   "execution_count": null,
   "id": "991128da",
   "metadata": {},
   "outputs": [],
   "source": []
  },
  {
   "cell_type": "code",
   "execution_count": null,
   "id": "7575d4b9",
   "metadata": {},
   "outputs": [],
   "source": []
  },
  {
   "cell_type": "code",
   "execution_count": null,
   "id": "bc5d14ea",
   "metadata": {},
   "outputs": [],
   "source": []
  }
 ],
 "metadata": {
  "kernelspec": {
   "display_name": "Python 3 (ipykernel)",
   "language": "python",
   "name": "python3"
  },
  "language_info": {
   "codemirror_mode": {
    "name": "ipython",
    "version": 3
   },
   "file_extension": ".py",
   "mimetype": "text/x-python",
   "name": "python",
   "nbconvert_exporter": "python",
   "pygments_lexer": "ipython3",
   "version": "3.11.5"
  }
 },
 "nbformat": 4,
 "nbformat_minor": 5
}
