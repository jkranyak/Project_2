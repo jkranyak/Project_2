{
 "cells": [
  {
   "cell_type": "markdown",
   "id": "60de5cf8",
   "metadata": {},
   "source": [
    "# **_Stroke Prediction Project_**\n",
    "\n",
    "Sirisha Mandava, Jeff Boczkaja, Mohamed Altoobli, Jesse Kranyak"
   ]
  },
  {
   "cell_type": "markdown",
   "id": "129afbd8",
   "metadata": {},
   "source": [
    "Utilizing the Stroke Prediction Dataset from Kaggle we set out to make a machine learning program that will be able to accurately predict whether or not someone will have a stroke. We try out different models that provided us with varying results. We show our results using a few different metrics including balanced accuracy score, F1 scores, precision, and recall.\n",
    "\n",
    "Source: https://www.kaggle.com/datasets/fedesoriano/stroke-prediction-dataset"
   ]
  },
  {
   "cell_type": "markdown",
   "id": "5236f375",
   "metadata": {},
   "source": [
    "## What do the metrics measure?"
   ]
  },
  {
   "cell_type": "markdown",
   "id": "5349111a",
   "metadata": {},
   "source": [
    "### <u>Precision</u>\n",
    "Precision measures the accuracy of positive predictions. It is the ratio of true positive predictions to the total number of positive predictions made. In other words, it answers the question, \"Of all the instances the model predicted as positive, how many are actually positive?\" Precision is particularly important in scenarios where the cost of a false positive is high.\n",
    "\n",
    "Formula: Precision = True Positives / (True Positives + False Positives)\n",
    "\n",
    "### <u>Recall</u>\n",
    "Recall, also known as sensitivity or true positive rate, measures the ability of a model to find all the relevant cases within a dataset. It is the ratio of true positive predictions to the total number of actual positives. Recall answers the question, \"Of all the actual positives, how many did the model successfully identify?\" Recall is crucial in situations where missing a positive instance is costly.\n",
    "\n",
    "Formula: Recall = True Positives / (True Positives + False Negatives)\n",
    "\n",
    "### <u>F1 Score</u>\n",
    "The F1 Score is the harmonic mean of precision and recall. It provides a single metric that balances both the precision and recall of a classification model, which is particularly useful when you want to compare two or more models. The F1 Score is especially valuable when the distribution of class labels is imbalanced. A high F1 Score indicates that the model has low false positives and low false negatives, so it's correctly identifying real positives and negatives.\n",
    "\n",
    "Formula: F1 Score = 2 * (Precision * Recall) / (Precision + Recall)"
   ]
  },
  {
   "cell_type": "markdown",
   "id": "a7138166",
   "metadata": {},
   "source": [
    "# Main Project"
   ]
  },
  {
   "cell_type": "markdown",
   "id": "100b5651",
   "metadata": {},
   "source": [
    "## 1. Importing Data"
   ]
  },
  {
   "cell_type": "code",
   "execution_count": 1,
   "id": "429c0f2b",
   "metadata": {},
   "outputs": [
    {
     "data": {
      "text/html": [
       "<div>\n",
       "<style scoped>\n",
       "    .dataframe tbody tr th:only-of-type {\n",
       "        vertical-align: middle;\n",
       "    }\n",
       "\n",
       "    .dataframe tbody tr th {\n",
       "        vertical-align: top;\n",
       "    }\n",
       "\n",
       "    .dataframe thead th {\n",
       "        text-align: right;\n",
       "    }\n",
       "</style>\n",
       "<table border=\"1\" class=\"dataframe\">\n",
       "  <thead>\n",
       "    <tr style=\"text-align: right;\">\n",
       "      <th></th>\n",
       "      <th>id</th>\n",
       "      <th>gender</th>\n",
       "      <th>age</th>\n",
       "      <th>hypertension</th>\n",
       "      <th>heart_disease</th>\n",
       "      <th>ever_married</th>\n",
       "      <th>work_type</th>\n",
       "      <th>Residence_type</th>\n",
       "      <th>avg_glucose_level</th>\n",
       "      <th>bmi</th>\n",
       "      <th>smoking_status</th>\n",
       "      <th>stroke</th>\n",
       "    </tr>\n",
       "  </thead>\n",
       "  <tbody>\n",
       "    <tr>\n",
       "      <th>0</th>\n",
       "      <td>9046</td>\n",
       "      <td>Male</td>\n",
       "      <td>67.0</td>\n",
       "      <td>0</td>\n",
       "      <td>1</td>\n",
       "      <td>Yes</td>\n",
       "      <td>Private</td>\n",
       "      <td>Urban</td>\n",
       "      <td>228.69</td>\n",
       "      <td>36.6</td>\n",
       "      <td>formerly smoked</td>\n",
       "      <td>1</td>\n",
       "    </tr>\n",
       "    <tr>\n",
       "      <th>1</th>\n",
       "      <td>51676</td>\n",
       "      <td>Female</td>\n",
       "      <td>61.0</td>\n",
       "      <td>0</td>\n",
       "      <td>0</td>\n",
       "      <td>Yes</td>\n",
       "      <td>Self-employed</td>\n",
       "      <td>Rural</td>\n",
       "      <td>202.21</td>\n",
       "      <td>NaN</td>\n",
       "      <td>never smoked</td>\n",
       "      <td>1</td>\n",
       "    </tr>\n",
       "    <tr>\n",
       "      <th>2</th>\n",
       "      <td>31112</td>\n",
       "      <td>Male</td>\n",
       "      <td>80.0</td>\n",
       "      <td>0</td>\n",
       "      <td>1</td>\n",
       "      <td>Yes</td>\n",
       "      <td>Private</td>\n",
       "      <td>Rural</td>\n",
       "      <td>105.92</td>\n",
       "      <td>32.5</td>\n",
       "      <td>never smoked</td>\n",
       "      <td>1</td>\n",
       "    </tr>\n",
       "    <tr>\n",
       "      <th>3</th>\n",
       "      <td>60182</td>\n",
       "      <td>Female</td>\n",
       "      <td>49.0</td>\n",
       "      <td>0</td>\n",
       "      <td>0</td>\n",
       "      <td>Yes</td>\n",
       "      <td>Private</td>\n",
       "      <td>Urban</td>\n",
       "      <td>171.23</td>\n",
       "      <td>34.4</td>\n",
       "      <td>smokes</td>\n",
       "      <td>1</td>\n",
       "    </tr>\n",
       "    <tr>\n",
       "      <th>4</th>\n",
       "      <td>1665</td>\n",
       "      <td>Female</td>\n",
       "      <td>79.0</td>\n",
       "      <td>1</td>\n",
       "      <td>0</td>\n",
       "      <td>Yes</td>\n",
       "      <td>Self-employed</td>\n",
       "      <td>Rural</td>\n",
       "      <td>174.12</td>\n",
       "      <td>24.0</td>\n",
       "      <td>never smoked</td>\n",
       "      <td>1</td>\n",
       "    </tr>\n",
       "    <tr>\n",
       "      <th>...</th>\n",
       "      <td>...</td>\n",
       "      <td>...</td>\n",
       "      <td>...</td>\n",
       "      <td>...</td>\n",
       "      <td>...</td>\n",
       "      <td>...</td>\n",
       "      <td>...</td>\n",
       "      <td>...</td>\n",
       "      <td>...</td>\n",
       "      <td>...</td>\n",
       "      <td>...</td>\n",
       "      <td>...</td>\n",
       "    </tr>\n",
       "    <tr>\n",
       "      <th>5105</th>\n",
       "      <td>18234</td>\n",
       "      <td>Female</td>\n",
       "      <td>80.0</td>\n",
       "      <td>1</td>\n",
       "      <td>0</td>\n",
       "      <td>Yes</td>\n",
       "      <td>Private</td>\n",
       "      <td>Urban</td>\n",
       "      <td>83.75</td>\n",
       "      <td>NaN</td>\n",
       "      <td>never smoked</td>\n",
       "      <td>0</td>\n",
       "    </tr>\n",
       "    <tr>\n",
       "      <th>5106</th>\n",
       "      <td>44873</td>\n",
       "      <td>Female</td>\n",
       "      <td>81.0</td>\n",
       "      <td>0</td>\n",
       "      <td>0</td>\n",
       "      <td>Yes</td>\n",
       "      <td>Self-employed</td>\n",
       "      <td>Urban</td>\n",
       "      <td>125.20</td>\n",
       "      <td>40.0</td>\n",
       "      <td>never smoked</td>\n",
       "      <td>0</td>\n",
       "    </tr>\n",
       "    <tr>\n",
       "      <th>5107</th>\n",
       "      <td>19723</td>\n",
       "      <td>Female</td>\n",
       "      <td>35.0</td>\n",
       "      <td>0</td>\n",
       "      <td>0</td>\n",
       "      <td>Yes</td>\n",
       "      <td>Self-employed</td>\n",
       "      <td>Rural</td>\n",
       "      <td>82.99</td>\n",
       "      <td>30.6</td>\n",
       "      <td>never smoked</td>\n",
       "      <td>0</td>\n",
       "    </tr>\n",
       "    <tr>\n",
       "      <th>5108</th>\n",
       "      <td>37544</td>\n",
       "      <td>Male</td>\n",
       "      <td>51.0</td>\n",
       "      <td>0</td>\n",
       "      <td>0</td>\n",
       "      <td>Yes</td>\n",
       "      <td>Private</td>\n",
       "      <td>Rural</td>\n",
       "      <td>166.29</td>\n",
       "      <td>25.6</td>\n",
       "      <td>formerly smoked</td>\n",
       "      <td>0</td>\n",
       "    </tr>\n",
       "    <tr>\n",
       "      <th>5109</th>\n",
       "      <td>44679</td>\n",
       "      <td>Female</td>\n",
       "      <td>44.0</td>\n",
       "      <td>0</td>\n",
       "      <td>0</td>\n",
       "      <td>Yes</td>\n",
       "      <td>Govt_job</td>\n",
       "      <td>Urban</td>\n",
       "      <td>85.28</td>\n",
       "      <td>26.2</td>\n",
       "      <td>Unknown</td>\n",
       "      <td>0</td>\n",
       "    </tr>\n",
       "  </tbody>\n",
       "</table>\n",
       "<p>5110 rows × 12 columns</p>\n",
       "</div>"
      ],
      "text/plain": [
       "         id  gender   age  hypertension  heart_disease ever_married  \\\n",
       "0      9046    Male  67.0             0              1          Yes   \n",
       "1     51676  Female  61.0             0              0          Yes   \n",
       "2     31112    Male  80.0             0              1          Yes   \n",
       "3     60182  Female  49.0             0              0          Yes   \n",
       "4      1665  Female  79.0             1              0          Yes   \n",
       "...     ...     ...   ...           ...            ...          ...   \n",
       "5105  18234  Female  80.0             1              0          Yes   \n",
       "5106  44873  Female  81.0             0              0          Yes   \n",
       "5107  19723  Female  35.0             0              0          Yes   \n",
       "5108  37544    Male  51.0             0              0          Yes   \n",
       "5109  44679  Female  44.0             0              0          Yes   \n",
       "\n",
       "          work_type Residence_type  avg_glucose_level   bmi   smoking_status  \\\n",
       "0           Private          Urban             228.69  36.6  formerly smoked   \n",
       "1     Self-employed          Rural             202.21   NaN     never smoked   \n",
       "2           Private          Rural             105.92  32.5     never smoked   \n",
       "3           Private          Urban             171.23  34.4           smokes   \n",
       "4     Self-employed          Rural             174.12  24.0     never smoked   \n",
       "...             ...            ...                ...   ...              ...   \n",
       "5105        Private          Urban              83.75   NaN     never smoked   \n",
       "5106  Self-employed          Urban             125.20  40.0     never smoked   \n",
       "5107  Self-employed          Rural              82.99  30.6     never smoked   \n",
       "5108        Private          Rural             166.29  25.6  formerly smoked   \n",
       "5109       Govt_job          Urban              85.28  26.2          Unknown   \n",
       "\n",
       "      stroke  \n",
       "0          1  \n",
       "1          1  \n",
       "2          1  \n",
       "3          1  \n",
       "4          1  \n",
       "...      ...  \n",
       "5105       0  \n",
       "5106       0  \n",
       "5107       0  \n",
       "5108       0  \n",
       "5109       0  \n",
       "\n",
       "[5110 rows x 12 columns]"
      ]
     },
     "execution_count": 1,
     "metadata": {},
     "output_type": "execute_result"
    }
   ],
   "source": [
    "import pandas as pd\n",
    "import seaborn as sns\n",
    "import matplotlib.pyplot as plt\n",
    "import numpy as np\n",
    "from imblearn.over_sampling import SMOTE\n",
    "from imblearn.over_sampling import SMOTENC\n",
    "from sklearn.model_selection import train_test_split\n",
    "from sklearn.metrics import balanced_accuracy_score, classification_report, confusion_matrix, precision_recall_fscore_support\n",
    "from sklearn.preprocessing import OneHotEncoder, OrdinalEncoder\n",
    "from sklearn.preprocessing import StandardScaler, MinMaxScaler\n",
    "from sklearn.ensemble import RandomForestClassifier\n",
    "from sklearn.neighbors import KNeighborsClassifier\n",
    "from sklearn.model_selection import RandomizedSearchCV\n",
    "\n",
    "df = pd.read_csv(\"healthcare-dataset-stroke-data.csv\")\n",
    "df"
   ]
  },
  {
   "cell_type": "markdown",
   "id": "4212b2a2",
   "metadata": {},
   "source": [
    "## 2. Analyzing and Exploring our Data"
   ]
  },
  {
   "cell_type": "code",
   "execution_count": 2,
   "id": "5217dd5b",
   "metadata": {
    "scrolled": true
   },
   "outputs": [
    {
     "name": "stdout",
     "output_type": "stream",
     "text": [
      "The dataset contains 12 columns and 5110 rows\n",
      "\n",
      "Column: id (int64)\n",
      "--- Summary statistics:\n",
      " count     5110.000000\n",
      "mean     36517.829354\n",
      "std      21161.721625\n",
      "min         67.000000\n",
      "25%      17741.250000\n",
      "50%      36932.000000\n",
      "75%      54682.000000\n",
      "max      72940.000000\n",
      "Name: id, dtype: float64\n",
      "\n",
      "Column: gender (object)\n",
      "--- Percentage of NaNs: 0.0\n",
      "--- Unique values:\n",
      " ['Male' 'Female' 'Other']\n",
      "\n",
      "Column: age (float64)\n",
      "--- Summary statistics:\n",
      " count    5110.000000\n",
      "mean       43.226614\n",
      "std        22.612647\n",
      "min         0.080000\n",
      "25%        25.000000\n",
      "50%        45.000000\n",
      "75%        61.000000\n",
      "max        82.000000\n",
      "Name: age, dtype: float64\n",
      "\n",
      "Column: hypertension (int64)\n",
      "--- Summary statistics:\n",
      " count    5110.000000\n",
      "mean        0.097456\n",
      "std         0.296607\n",
      "min         0.000000\n",
      "25%         0.000000\n",
      "50%         0.000000\n",
      "75%         0.000000\n",
      "max         1.000000\n",
      "Name: hypertension, dtype: float64\n",
      "\n",
      "Column: heart_disease (int64)\n",
      "--- Summary statistics:\n",
      " count    5110.000000\n",
      "mean        0.054012\n",
      "std         0.226063\n",
      "min         0.000000\n",
      "25%         0.000000\n",
      "50%         0.000000\n",
      "75%         0.000000\n",
      "max         1.000000\n",
      "Name: heart_disease, dtype: float64\n",
      "\n",
      "Column: ever_married (object)\n",
      "--- Percentage of NaNs: 0.0\n",
      "--- Unique values:\n",
      " ['Yes' 'No']\n",
      "\n",
      "Column: work_type (object)\n",
      "--- Percentage of NaNs: 0.0\n",
      "--- Unique values:\n",
      " ['Private' 'Self-employed' 'Govt_job' 'children' 'Never_worked']\n",
      "\n",
      "Column: Residence_type (object)\n",
      "--- Percentage of NaNs: 0.0\n",
      "--- Unique values:\n",
      " ['Urban' 'Rural']\n",
      "\n",
      "Column: avg_glucose_level (float64)\n",
      "--- Summary statistics:\n",
      " count    5110.000000\n",
      "mean      106.147677\n",
      "std        45.283560\n",
      "min        55.120000\n",
      "25%        77.245000\n",
      "50%        91.885000\n",
      "75%       114.090000\n",
      "max       271.740000\n",
      "Name: avg_glucose_level, dtype: float64\n",
      "\n",
      "Column: bmi (float64)\n",
      "--- Summary statistics:\n",
      " count    4909.000000\n",
      "mean       28.893237\n",
      "std         7.854067\n",
      "min        10.300000\n",
      "25%        23.500000\n",
      "50%        28.100000\n",
      "75%        33.100000\n",
      "max        97.600000\n",
      "Name: bmi, dtype: float64\n",
      "\n",
      "Column: smoking_status (object)\n",
      "--- Percentage of NaNs: 0.0\n",
      "--- Unique values:\n",
      " ['formerly smoked' 'never smoked' 'smokes' 'Unknown']\n",
      "\n",
      "Column: stroke (int64)\n",
      "--- Summary statistics:\n",
      " count    5110.000000\n",
      "mean        0.048728\n",
      "std         0.215320\n",
      "min         0.000000\n",
      "25%         0.000000\n",
      "50%         0.000000\n",
      "75%         0.000000\n",
      "max         1.000000\n",
      "Name: stroke, dtype: float64\n"
     ]
    }
   ],
   "source": [
    "#Lets go ahead and loop through all of our columns and see what data they reveal\n",
    "\n",
    "def describe_df(df: pd.DataFrame):\n",
    "    print(f\"The dataset contains {df.shape[1]} columns and {len(df)} rows\")\n",
    "    for col in df.columns:\n",
    "        col_dtype = df[col].dtype\n",
    "        print(f\"\\nColumn: {col} ({col_dtype})\")\n",
    "        if col_dtype == 'object':\n",
    "            print(f\"--- Percentage of NaNs: {df[col].isna().sum() / len(df[col]) * 100}\")\n",
    "            print(f\"--- Unique values:\\n {df[col].unique()}\")\n",
    "        else:\n",
    "            print(f\"--- Summary statistics:\\n {df[col].describe()}\")\n",
    "describe_df(df)"
   ]
  },
  {
   "cell_type": "markdown",
   "id": "f01caca7",
   "metadata": {},
   "source": [
    "### Check balance of our target which is 'stroke'"
   ]
  },
  {
   "cell_type": "code",
   "execution_count": 3,
   "id": "c951d05d",
   "metadata": {},
   "outputs": [
    {
     "data": {
      "text/plain": [
       "stroke\n",
       "0    4861\n",
       "1     249\n",
       "Name: count, dtype: int64"
      ]
     },
     "execution_count": 3,
     "metadata": {},
     "output_type": "execute_result"
    }
   ],
   "source": [
    "df['stroke'].value_counts() # We have pretty imbalanced data!"
   ]
  },
  {
   "cell_type": "markdown",
   "id": "e9425838",
   "metadata": {},
   "source": [
    "### Drop unneeded column of 'id'"
   ]
  },
  {
   "cell_type": "code",
   "execution_count": 4,
   "id": "6c963e2b",
   "metadata": {},
   "outputs": [],
   "source": [
    "df = df.drop('id', axis=1)"
   ]
  },
  {
   "cell_type": "markdown",
   "id": "f6c614c2",
   "metadata": {},
   "source": [
    "### Check nulls and drop them if present"
   ]
  },
  {
   "cell_type": "code",
   "execution_count": 5,
   "id": "d0e91531",
   "metadata": {},
   "outputs": [
    {
     "data": {
      "text/plain": [
       "gender                 0\n",
       "age                    0\n",
       "hypertension           0\n",
       "heart_disease          0\n",
       "ever_married           0\n",
       "work_type              0\n",
       "Residence_type         0\n",
       "avg_glucose_level      0\n",
       "bmi                  201\n",
       "smoking_status         0\n",
       "stroke                 0\n",
       "dtype: int64"
      ]
     },
     "execution_count": 5,
     "metadata": {},
     "output_type": "execute_result"
    }
   ],
   "source": [
    "df.isnull().sum()"
   ]
  },
  {
   "cell_type": "code",
   "execution_count": 6,
   "id": "2c5ac03e",
   "metadata": {},
   "outputs": [],
   "source": [
    "df = df.dropna()"
   ]
  },
  {
   "cell_type": "markdown",
   "id": "71d2d1db",
   "metadata": {},
   "source": [
    "### Distribution of Ages"
   ]
  },
  {
   "cell_type": "code",
   "execution_count": 7,
   "id": "83ec21d4",
   "metadata": {
    "scrolled": false
   },
   "outputs": [
    {
     "data": {
      "image/png": "[encoded data removed]",
      "text/plain": [
       "<Figure size 1000x500 with 1 Axes>"
      ]
     },
     "metadata": {},
     "output_type": "display_data"
    }
   ],
   "source": [
    "# Set the aesthetic style of the plots\n",
    "sns.set_style(\"whitegrid\")\n",
    "\n",
    "# Plotting the distribution of ages\n",
    "plt.figure(figsize=(10, 5))\n",
    "sns.histplot(df['age'], bins=30, kde=True, color=\"skyblue\")\n",
    "plt.title('Distribution of Ages')\n",
    "plt.xlabel('Age')\n",
    "plt.ylabel('Frequency')\n",
    "plt.show()"
   ]
  },
  {
   "cell_type": "markdown",
   "id": "c6834003",
   "metadata": {},
   "source": [
    "### Heatmap of Numerical Factors"
   ]
  },
  {
   "cell_type": "code",
   "execution_count": 8,
   "id": "572fb079",
   "metadata": {},
   "outputs": [
    {
     "data": {
      "image/png": "[encoded data removed]",
      "text/plain": [
       "<Figure size 1000x800 with 2 Axes>"
      ]
     },
     "metadata": {},
     "output_type": "display_data"
    }
   ],
   "source": [
    "df_corr = df.drop(['gender', 'ever_married', 'work_type', 'Residence_type', 'smoking_status'], axis=1)\n",
    "\n",
    "corr = df_corr.corr()\n",
    "\n",
    "plt.figure(figsize=(10, 8))\n",
    "sns.heatmap(corr, annot=True, cmap='coolwarm', fmt=\".2f\")\n",
    "plt.title('Correlation between Individual Factors and Stroke')\n",
    "plt.show()"
   ]
  },
  {
   "cell_type": "markdown",
   "id": "84e324e5",
   "metadata": {},
   "source": [
    "### Glucose Levels by Different Age Groups"
   ]
  },
  {
   "cell_type": "code",
   "execution_count": 9,
   "id": "46dab9fa",
   "metadata": {},
   "outputs": [
    {
     "name": "stderr",
     "output_type": "stream",
     "text": [
      "C:\\Users\\whitl\\AppData\\Local\\Temp\\ipykernel_6400\\2875037917.py:5: FutureWarning: \n",
      "\n",
      "Passing `palette` without assigning `hue` is deprecated and will be removed in v0.14.0. Assign the `x` variable to `hue` and set `legend=False` for the same effect.\n",
      "\n",
      "  sns.boxplot(x='age_group', y='avg_glucose_level', data=df, palette=\"coolwarm\")\n"
     ]
    },
    {
     "data": {
      "image/png": "[encoded data removed]",
      "text/plain": [
       "<Figure size 1200x800 with 1 Axes>"
      ]
     },
     "metadata": {},
     "output_type": "display_data"
    }
   ],
   "source": [
    "# Creating age groups\n",
    "df['age_group'] = pd.cut(df['age'], bins=[0, 18, 30, 40, 50, 60, 70, 80, 90, 100], labels=['0-18', '19-30', '31-40', '41-50', '51-60', '61-70', '71-80', '81-90', '91-100'])\n",
    "\n",
    "plt.figure(figsize=(12, 8))\n",
    "sns.boxplot(x='age_group', y='avg_glucose_level', data=df, palette=\"coolwarm\")\n",
    "plt.title('Distribution of Average Glucose Levels Across Different Age Groups')\n",
    "plt.xlabel('Age Group')\n",
    "plt.ylabel('Average Glucose Level')\n",
    "plt.xticks(rotation=45)\n",
    "plt.show()"
   ]
  },
  {
   "cell_type": "markdown",
   "id": "27b13944",
   "metadata": {},
   "source": [
    "## Who is having the strokes?"
   ]
  },
  {
   "cell_type": "code",
   "execution_count": 10,
   "id": "5ff78c8f",
   "metadata": {},
   "outputs": [
    {
     "name": "stdout",
     "output_type": "stream",
     "text": [
      "Youngest person in data with stroke: 14.0 years\n"
     ]
    }
   ],
   "source": [
    "# Calculate the minimum age of someone who had a stroke\n",
    "min_age_stroke = df[df['stroke'] == 1]['age'].min()\n",
    "print(f'Youngest person in data with stroke: {min_age_stroke} years')"
   ]
  },
  {
   "cell_type": "code",
   "execution_count": 11,
   "id": "5a5595af",
   "metadata": {},
   "outputs": [
    {
     "data": {
      "image/png": "[encoded data removed]",
      "text/plain": [
       "<Figure size 1400x700 with 2 Axes>"
      ]
     },
     "metadata": {},
     "output_type": "display_data"
    }
   ],
   "source": [
    "# # Assuming 'df' is your DataFrame containing the stroke data\n",
    "# min_age_stroke = df[df['stroke'] == 1]['age'].min()\n",
    "\n",
    "under_50_stroke = df[(df['age'] < 50) & (df['stroke'] == 1)].shape[0]\n",
    "total_under_50 = df[df['age'] < 50].shape[0]\n",
    "percentage_under_50_stroke = (under_50_stroke / total_under_50) * 100\n",
    "\n",
    "over_50_stroke = df[(df['age'] >= 50) & (df['stroke'] == 1)].shape[0]\n",
    "total_over_50 = df[df['age'] >= 50].shape[0]\n",
    "percentage_over_50_stroke = (over_50_stroke / total_over_50) * 100\n",
    "\n",
    "# Pie Charts for strokes based on age\n",
    "labels = ['Had Stroke', 'No Stroke']\n",
    "sizes_under_50 = [percentage_under_50_stroke, 100 - percentage_under_50_stroke]\n",
    "sizes_over_50 = [percentage_over_50_stroke, 100 - percentage_over_50_stroke]\n",
    "fig, axs = plt.subplots(1, 2, figsize=(14, 7))\n",
    "\n",
    "# Pie chart for individuals under 50\n",
    "axs[0].pie(sizes_under_50, labels=labels, autopct='%1.1f%%', startangle=140, colors=['lightcoral', 'lightblue'])\n",
    "axs[0].set_title('Percentage of People Under 50 Having a Stroke')\n",
    "\n",
    "# Pie chart for individuals 50 and older\n",
    "axs[1].pie(sizes_over_50, labels=labels, autopct='%1.1f%%', startangle=140, colors=['lightcoral', 'lightblue'])\n",
    "axs[1].set_title('Percentage of People 50 and Older Having a Stroke')\n",
    "\n",
    "plt.show()"
   ]
  },
  {
   "cell_type": "markdown",
   "id": "b952d256",
   "metadata": {},
   "source": [
    "### Graph: Correlation between individual factors and stroke"
   ]
  },
  {
   "cell_type": "markdown",
   "id": "62772e1d",
   "metadata": {},
   "source": [
    "### Graph: Show f1 scores or recall/precision"
   ]
  },
  {
   "cell_type": "markdown",
   "id": "e652e727",
   "metadata": {},
   "source": [
    "### GRAPH show age distribution?"
   ]
  },
  {
   "cell_type": "markdown",
   "id": "1ef5fd1d",
   "metadata": {},
   "source": [
    "## 3. Encoding our data for use in machine learning"
   ]
  },
  {
   "cell_type": "markdown",
   "id": "771cb29f",
   "metadata": {},
   "source": [
    "In machine learning, encoding data is essential for preparing categorical variables to be used as input in algorithms. Since most machine learning models require numerical data, categorical variables such as gender, smoking status, or work type need to be encoded into numerical form. This process ensures that the model can effectively interpret and learn from these features, enabling it to make accurate predictions or classifications based on the input data."
   ]
  },
  {
   "cell_type": "markdown",
   "id": "a0bc2d39",
   "metadata": {},
   "source": [
    "### Check data types, we will convert objects into categorical variables to be encoded"
   ]
  },
  {
   "cell_type": "code",
   "execution_count": 12,
   "id": "4e1318fb",
   "metadata": {},
   "outputs": [
    {
     "data": {
      "text/plain": [
       "gender                 object\n",
       "age                   float64\n",
       "hypertension            int64\n",
       "heart_disease           int64\n",
       "ever_married           object\n",
       "work_type              object\n",
       "Residence_type         object\n",
       "avg_glucose_level     float64\n",
       "bmi                   float64\n",
       "smoking_status         object\n",
       "stroke                  int64\n",
       "age_group            category\n",
       "dtype: object"
      ]
     },
     "execution_count": 12,
     "metadata": {},
     "output_type": "execute_result"
    }
   ],
   "source": [
    "df.dtypes"
   ]
  },
  {
   "cell_type": "code",
   "execution_count": 13,
   "id": "1e7abd70",
   "metadata": {},
   "outputs": [
    {
     "data": {
      "text/plain": [
       "gender            3\n",
       "ever_married      2\n",
       "work_type         5\n",
       "Residence_type    2\n",
       "smoking_status    4\n",
       "Name: unique, dtype: object"
      ]
     },
     "execution_count": 13,
     "metadata": {},
     "output_type": "execute_result"
    }
   ],
   "source": [
    "# Define categorical features for encoding\n",
    "catFeatures = ['gender','ever_married','work_type','Residence_type','smoking_status']\n",
    "# Describe the categorical features to see the number of unique categories in each\n",
    "df[catFeatures].describe(include='all').loc['unique', :]"
   ]
  },
  {
   "cell_type": "markdown",
   "id": "26c223ec",
   "metadata": {},
   "source": [
    "### Convert objects to categorical variables"
   ]
  },
  {
   "cell_type": "code",
   "execution_count": 14,
   "id": "10f5c0c0",
   "metadata": {},
   "outputs": [
    {
     "data": {
      "text/plain": [
       "gender               category\n",
       "age                   float64\n",
       "hypertension            int64\n",
       "heart_disease           int64\n",
       "ever_married         category\n",
       "work_type            category\n",
       "Residence_type       category\n",
       "avg_glucose_level     float64\n",
       "bmi                   float64\n",
       "smoking_status       category\n",
       "stroke                  int64\n",
       "age_group            category\n",
       "dtype: object"
      ]
     },
     "execution_count": 14,
     "metadata": {},
     "output_type": "execute_result"
    }
   ],
   "source": [
    "# Convert categorical columns to 'category' dtype for efficient encoding\n",
    "df[['gender','ever_married','work_type','Residence_type','smoking_status']] = df[['gender','ever_married','work_type','Residence_type','smoking_status']].astype('category')\n",
    "df.dtypes"
   ]
  },
  {
   "cell_type": "code",
   "execution_count": 15,
   "id": "a80bbf58",
   "metadata": {},
   "outputs": [],
   "source": [
    "# Encode categorical features as integers\n",
    "for column in ['gender', 'ever_married', 'work_type', 'Residence_type', 'smoking_status']:\n",
    "    df[column] = df[column].astype('category').cat.codes"
   ]
  },
  {
   "cell_type": "code",
   "execution_count": 16,
   "id": "695f60f6",
   "metadata": {},
   "outputs": [
    {
     "name": "stdout",
     "output_type": "stream",
     "text": [
      "Unique values in 'gender': [1 0 2]\n",
      "Unique values in 'ever_married': [1 0]\n",
      "Unique values in 'work_type': [2 3 0 4 1]\n",
      "Unique values in 'Residence_type': [1 0]\n",
      "Unique values in 'smoking_status': [1 2 3 0]\n"
     ]
    }
   ],
   "source": [
    "# Print the unique values in the encoded categorical columns for verification\n",
    "for column in ['gender', 'ever_married', 'work_type', 'Residence_type', 'smoking_status']:\n",
    "    unique_values = df[column].unique()\n",
    "    print(f\"Unique values in '{column}': {unique_values}\")"
   ]
  },
  {
   "cell_type": "markdown",
   "id": "102c1404",
   "metadata": {},
   "source": [
    "### Check counts on gender, see if it is significant"
   ]
  },
  {
   "cell_type": "code",
   "execution_count": 17,
   "id": "3ead0988",
   "metadata": {},
   "outputs": [
    {
     "data": {
      "text/plain": [
       "gender\n",
       "0    2897\n",
       "1    2011\n",
       "2       1\n",
       "Name: count, dtype: int64"
      ]
     },
     "execution_count": 17,
     "metadata": {},
     "output_type": "execute_result"
    }
   ],
   "source": [
    "# Check the distribution of values in the 'gender' column\n",
    "df['gender'].value_counts() # We'll treat it as a binary!"
   ]
  },
  {
   "cell_type": "code",
   "execution_count": 18,
   "id": "35195d46",
   "metadata": {},
   "outputs": [
    {
     "data": {
      "text/html": [
       "<div>\n",
       "<style scoped>\n",
       "    .dataframe tbody tr th:only-of-type {\n",
       "        vertical-align: middle;\n",
       "    }\n",
       "\n",
       "    .dataframe tbody tr th {\n",
       "        vertical-align: top;\n",
       "    }\n",
       "\n",
       "    .dataframe thead th {\n",
       "        text-align: right;\n",
       "    }\n",
       "</style>\n",
       "<table border=\"1\" class=\"dataframe\">\n",
       "  <thead>\n",
       "    <tr style=\"text-align: right;\">\n",
       "      <th></th>\n",
       "      <th>gender</th>\n",
       "      <th>age</th>\n",
       "      <th>hypertension</th>\n",
       "      <th>heart_disease</th>\n",
       "      <th>ever_married</th>\n",
       "      <th>work_type</th>\n",
       "      <th>Residence_type</th>\n",
       "      <th>avg_glucose_level</th>\n",
       "      <th>bmi</th>\n",
       "      <th>smoking_status</th>\n",
       "      <th>stroke</th>\n",
       "      <th>age_group</th>\n",
       "    </tr>\n",
       "  </thead>\n",
       "  <tbody>\n",
       "    <tr>\n",
       "      <th>0</th>\n",
       "      <td>1</td>\n",
       "      <td>67.0</td>\n",
       "      <td>0</td>\n",
       "      <td>1</td>\n",
       "      <td>1</td>\n",
       "      <td>2</td>\n",
       "      <td>1</td>\n",
       "      <td>228.69</td>\n",
       "      <td>36.6</td>\n",
       "      <td>1</td>\n",
       "      <td>1</td>\n",
       "      <td>61-70</td>\n",
       "    </tr>\n",
       "    <tr>\n",
       "      <th>2</th>\n",
       "      <td>1</td>\n",
       "      <td>80.0</td>\n",
       "      <td>0</td>\n",
       "      <td>1</td>\n",
       "      <td>1</td>\n",
       "      <td>2</td>\n",
       "      <td>0</td>\n",
       "      <td>105.92</td>\n",
       "      <td>32.5</td>\n",
       "      <td>2</td>\n",
       "      <td>1</td>\n",
       "      <td>71-80</td>\n",
       "    </tr>\n",
       "    <tr>\n",
       "      <th>3</th>\n",
       "      <td>0</td>\n",
       "      <td>49.0</td>\n",
       "      <td>0</td>\n",
       "      <td>0</td>\n",
       "      <td>1</td>\n",
       "      <td>2</td>\n",
       "      <td>1</td>\n",
       "      <td>171.23</td>\n",
       "      <td>34.4</td>\n",
       "      <td>3</td>\n",
       "      <td>1</td>\n",
       "      <td>41-50</td>\n",
       "    </tr>\n",
       "    <tr>\n",
       "      <th>4</th>\n",
       "      <td>0</td>\n",
       "      <td>79.0</td>\n",
       "      <td>1</td>\n",
       "      <td>0</td>\n",
       "      <td>1</td>\n",
       "      <td>3</td>\n",
       "      <td>0</td>\n",
       "      <td>174.12</td>\n",
       "      <td>24.0</td>\n",
       "      <td>2</td>\n",
       "      <td>1</td>\n",
       "      <td>71-80</td>\n",
       "    </tr>\n",
       "    <tr>\n",
       "      <th>5</th>\n",
       "      <td>1</td>\n",
       "      <td>81.0</td>\n",
       "      <td>0</td>\n",
       "      <td>0</td>\n",
       "      <td>1</td>\n",
       "      <td>2</td>\n",
       "      <td>1</td>\n",
       "      <td>186.21</td>\n",
       "      <td>29.0</td>\n",
       "      <td>1</td>\n",
       "      <td>1</td>\n",
       "      <td>81-90</td>\n",
       "    </tr>\n",
       "  </tbody>\n",
       "</table>\n",
       "</div>"
      ],
      "text/plain": [
       "   gender   age  hypertension  heart_disease  ever_married  work_type  \\\n",
       "0       1  67.0             0              1             1          2   \n",
       "2       1  80.0             0              1             1          2   \n",
       "3       0  49.0             0              0             1          2   \n",
       "4       0  79.0             1              0             1          3   \n",
       "5       1  81.0             0              0             1          2   \n",
       "\n",
       "   Residence_type  avg_glucose_level   bmi  smoking_status  stroke age_group  \n",
       "0               1             228.69  36.6               1       1     61-70  \n",
       "2               0             105.92  32.5               2       1     71-80  \n",
       "3               1             171.23  34.4               3       1     41-50  \n",
       "4               0             174.12  24.0               2       1     71-80  \n",
       "5               1             186.21  29.0               1       1     81-90  "
      ]
     },
     "execution_count": 18,
     "metadata": {},
     "output_type": "execute_result"
    }
   ],
   "source": [
    "df.head()"
   ]
  },
  {
   "cell_type": "markdown",
   "id": "273b6196",
   "metadata": {},
   "source": [
    "### Create synthetic balance in the dataset using SMOTE"
   ]
  },
  {
   "cell_type": "markdown",
   "id": "c1c7d1a1",
   "metadata": {},
   "source": [
    "Due to the imbalance in our dataset we utilize SMOTE and SMOTENC to create synthetic data to improve the outcomes of our machine learning models."
   ]
  },
  {
   "cell_type": "code",
   "execution_count": 19,
   "id": "180cb9f3",
   "metadata": {},
   "outputs": [],
   "source": [
    "# Importing SMOTE\n",
    "from imblearn.over_sampling import SMOTENC"
   ]
  },
  {
   "cell_type": "markdown",
   "id": "17f1ff3f",
   "metadata": {},
   "source": [
    "**You can choose either model, press 'ctrl + /' to uncomment or comment out code choice.** \\\n",
    "Rerun model with new choices for different outcomes"
   ]
  },
  {
   "cell_type": "markdown",
   "id": "0af78fa9",
   "metadata": {},
   "source": [
    "## SMOTE\n",
    "We will use SMOTE and create synthetic data for both training and test."
   ]
  },
  {
   "cell_type": "code",
   "execution_count": 20,
   "id": "47e8754b",
   "metadata": {},
   "outputs": [],
   "source": [
    "oversampled = SMOTE()\n",
    "eval_df = df[['gender','age','hypertension','heart_disease','work_type','avg_glucose_level','bmi','stroke']].sample(int(df.shape[0]*0.2),random_state=42)\n",
    "train_df = df.drop(index=eval_df.index)\n",
    "\n",
    "X_test,y_test = eval_df[['gender','age','hypertension','heart_disease','work_type','avg_glucose_level','bmi']], eval_df['stroke']\n",
    "X_train,y_train = train_df[['gender','age','hypertension','heart_disease','work_type','avg_glucose_level','bmi']], train_df['stroke']\n",
    "\n",
    "\n",
    "X_train, y_train = oversampled.fit_resample(X_train,y_train)\n",
    "usampled_df = X_train.assign(Stroke = y_train)\n",
    "\n",
    "X_test,y_test = oversampled.fit_resample(X_test,y_test)\n",
    "usampled_eval_df = X_test.assign(Stroke = y_test)"
   ]
  },
  {
   "cell_type": "markdown",
   "id": "4e172422",
   "metadata": {},
   "source": [
    "## SMOTENC\n",
    "Another option is to use SMOTENC that creates only synthetic data for the training data"
   ]
  },
  {
   "cell_type": "code",
   "execution_count": 21,
   "id": "f0370cd2",
   "metadata": {},
   "outputs": [],
   "source": [
    "# # Run train test split\n",
    "# X = df.drop(['stroke'], axis=1)\n",
    "# y = df['stroke']\n",
    "\n",
    "# X_train, X_test, y_train, y_test = train_test_split(X, y, test_size=0.3, random_state=85)"
   ]
  },
  {
   "cell_type": "code",
   "execution_count": 22,
   "id": "909a6ef8",
   "metadata": {},
   "outputs": [],
   "source": [
    "# oversample = SMOTENC(categorical_features=[0,2,3,4,5,6,9], \n",
    "#                     random_state=27,  # for reproducibility\n",
    "#                     sampling_strategy='auto')\n",
    "\n",
    "# X_train, y_train = oversample.fit_resample(X_train, y_train)\n",
    "# X_test, y_test = oversample.fit_resample(X_test, y_test)\n",
    "\n",
    "# print('Original class distribution: \\n')\n",
    "# print(y_train.value_counts())\n",
    "# print('-----------------------------------------')\n",
    "# print('Synthetic sample class distribution: \\n')\n",
    "# print(pd.Series(y_train_res).value_counts())"
   ]
  },
  {
   "cell_type": "code",
   "execution_count": 23,
   "id": "7079417b",
   "metadata": {},
   "outputs": [],
   "source": [
    "# from sklearn.preprocessing import MinMaxScaler\n",
    "\n",
    "# # Selecting numerical columns that need normalization\n",
    "# numerical_cols = ['age', 'avg_glucose_level', 'work_type', 'bmi']\n",
    "\n",
    "# # Initialize the MinMaxScaler\n",
    "# scaler = MinMaxScaler()\n",
    "\n",
    "# # Fit on training data\n",
    "# scaler.fit(X_train[numerical_cols])\n",
    "\n",
    "# # Transform both training and testing data\n",
    "# X_train[numerical_cols] = scaler.transform(X_train[numerical_cols])\n",
    "# X_test[numerical_cols] = scaler.transform(X_test[numerical_cols])"
   ]
  },
  {
   "cell_type": "code",
   "execution_count": null,
   "id": "56a6931c",
   "metadata": {},
   "outputs": [],
   "source": []
  },
  {
   "cell_type": "code",
   "execution_count": 24,
   "id": "2321db4a",
   "metadata": {},
   "outputs": [],
   "source": [
    "# # Run train test split\n",
    "# X = df.drop(['stroke'], axis=1)\n",
    "# y = df['stroke']\n",
    "\n",
    "# X_train, X_test, y_train, y_test = train_test_split(X, y, test_size=0.3, random_state=85)"
   ]
  },
  {
   "cell_type": "markdown",
   "id": "81eb8094",
   "metadata": {},
   "source": [
    "## 4. Choose scaling method"
   ]
  },
  {
   "cell_type": "markdown",
   "id": "9f16d7e4",
   "metadata": {},
   "source": [
    "**You can choose either model, press 'ctrl + /' to uncomment or comment out code choice.**"
   ]
  },
  {
   "cell_type": "markdown",
   "id": "cbdf6f63",
   "metadata": {},
   "source": [
    " <u>Normalization<u/> rescales the features to a fixed range, usually 0 to 1. \n",
    "\n",
    "Advantages:\n",
    "\n",
    " - Useful when you need to bound your values between a specific range.\n",
    " - Maintains the original distribution without distorting differences in the ranges of values.\n",
    "\n",
    "Disadvantages:\n",
    "\n",
    " - If your data contains outliers, normalization can squash the \"normal\" data into a small portion of the range, reducing the      algorithm's ability to learn from it."
   ]
  },
  {
   "cell_type": "markdown",
   "id": "3a5db4a3",
   "metadata": {},
   "source": [
    "<u>Standardization<u/> rescales data so that it has a mean of 0 and a standard deviation of 1.\n",
    "\n",
    "Advantages:\n",
    "\n",
    " - Standardization does not bound values to a specific range, which might be useful for certain algorithms that assume no specific range.\n",
    " - More robust to outliers compared to normalization.\n",
    "\n",
    "Disadvantages:\n",
    "\n",
    " - The resulting distribution will have a mean of 0 and a standard deviation of 1, but it might not be suitable for algorithms that expect input data to be within a bounded range."
   ]
  },
  {
   "cell_type": "markdown",
   "id": "e6f6ce1b",
   "metadata": {},
   "source": [
    "### Normalization"
   ]
  },
  {
   "cell_type": "code",
   "execution_count": 25,
   "id": "961cf110",
   "metadata": {},
   "outputs": [],
   "source": [
    "# from sklearn.preprocessing import MinMaxScaler\n",
    "\n",
    "# # Selecting numerical columns that need normalization\n",
    "# numerical_cols = ['age', 'avg_glucose_level', 'work_type', 'bmi', 'smoking_status']\n",
    "\n",
    "# # Initialize the MinMaxScaler\n",
    "# scaler = MinMaxScaler()\n",
    "\n",
    "# # Fit on training data\n",
    "# scaler.fit(X_train[numerical_cols])\n",
    "\n",
    "# # Transform both training and testing data\n",
    "# X_train[numerical_cols] = scaler.transform(X_train[numerical_cols])\n",
    "# X_test[numerical_cols] = scaler.transform(X_test[numerical_cols])"
   ]
  },
  {
   "cell_type": "markdown",
   "id": "82ccf861",
   "metadata": {},
   "source": [
    "### Standardization"
   ]
  },
  {
   "cell_type": "code",
   "execution_count": 26,
   "id": "36d3dc6e",
   "metadata": {},
   "outputs": [],
   "source": [
    "from sklearn.preprocessing import StandardScaler\n",
    "\n",
    "# Selecting numerical columns that need normalization\n",
    "numerical_cols = ['age', 'avg_glucose_level', 'work_type', 'bmi']\n",
    "\n",
    "# Initialize the StandardScaler\n",
    "scaler = StandardScaler()\n",
    "\n",
    "# Fit on training data\n",
    "scaler.fit(X_train[numerical_cols])\n",
    "\n",
    "# Transform both training and testing data\n",
    "X_train[numerical_cols] = scaler.transform(X_train[numerical_cols])\n",
    "X_test[numerical_cols] = scaler.transform(X_test[numerical_cols])"
   ]
  },
  {
   "cell_type": "code",
   "execution_count": 27,
   "id": "4ad5924c",
   "metadata": {},
   "outputs": [
    {
     "data": {
      "text/html": [
       "<div>\n",
       "<style scoped>\n",
       "    .dataframe tbody tr th:only-of-type {\n",
       "        vertical-align: middle;\n",
       "    }\n",
       "\n",
       "    .dataframe tbody tr th {\n",
       "        vertical-align: top;\n",
       "    }\n",
       "\n",
       "    .dataframe thead th {\n",
       "        text-align: right;\n",
       "    }\n",
       "</style>\n",
       "<table border=\"1\" class=\"dataframe\">\n",
       "  <thead>\n",
       "    <tr style=\"text-align: right;\">\n",
       "      <th></th>\n",
       "      <th>gender</th>\n",
       "      <th>age</th>\n",
       "      <th>hypertension</th>\n",
       "      <th>heart_disease</th>\n",
       "      <th>work_type</th>\n",
       "      <th>avg_glucose_level</th>\n",
       "      <th>bmi</th>\n",
       "    </tr>\n",
       "  </thead>\n",
       "  <tbody>\n",
       "    <tr>\n",
       "      <th>0</th>\n",
       "      <td>1</td>\n",
       "      <td>0.553529</td>\n",
       "      <td>0</td>\n",
       "      <td>1</td>\n",
       "      <td>0.057315</td>\n",
       "      <td>1.911730</td>\n",
       "      <td>1.057839</td>\n",
       "    </tr>\n",
       "    <tr>\n",
       "      <th>1</th>\n",
       "      <td>1</td>\n",
       "      <td>1.143989</td>\n",
       "      <td>0</td>\n",
       "      <td>1</td>\n",
       "      <td>0.057315</td>\n",
       "      <td>-0.251607</td>\n",
       "      <td>0.445597</td>\n",
       "    </tr>\n",
       "    <tr>\n",
       "      <th>2</th>\n",
       "      <td>0</td>\n",
       "      <td>-0.264032</td>\n",
       "      <td>0</td>\n",
       "      <td>0</td>\n",
       "      <td>0.057315</td>\n",
       "      <td>0.899224</td>\n",
       "      <td>0.729319</td>\n",
       "    </tr>\n",
       "  </tbody>\n",
       "</table>\n",
       "</div>"
      ],
      "text/plain": [
       "   gender       age  hypertension  heart_disease  work_type  \\\n",
       "0       1  0.553529             0              1   0.057315   \n",
       "1       1  1.143989             0              1   0.057315   \n",
       "2       0 -0.264032             0              0   0.057315   \n",
       "\n",
       "   avg_glucose_level       bmi  \n",
       "0           1.911730  1.057839  \n",
       "1          -0.251607  0.445597  \n",
       "2           0.899224  0.729319  "
      ]
     },
     "execution_count": 27,
     "metadata": {},
     "output_type": "execute_result"
    }
   ],
   "source": [
    "# Verify processing worked\n",
    "X_train.head(3)"
   ]
  },
  {
   "cell_type": "code",
   "execution_count": 28,
   "id": "be3572be",
   "metadata": {
    "scrolled": true
   },
   "outputs": [
    {
     "data": {
      "text/html": [
       "<div>\n",
       "<style scoped>\n",
       "    .dataframe tbody tr th:only-of-type {\n",
       "        vertical-align: middle;\n",
       "    }\n",
       "\n",
       "    .dataframe tbody tr th {\n",
       "        vertical-align: top;\n",
       "    }\n",
       "\n",
       "    .dataframe thead th {\n",
       "        text-align: right;\n",
       "    }\n",
       "</style>\n",
       "<table border=\"1\" class=\"dataframe\">\n",
       "  <thead>\n",
       "    <tr style=\"text-align: right;\">\n",
       "      <th></th>\n",
       "      <th>gender</th>\n",
       "      <th>age</th>\n",
       "      <th>hypertension</th>\n",
       "      <th>heart_disease</th>\n",
       "      <th>work_type</th>\n",
       "      <th>avg_glucose_level</th>\n",
       "      <th>bmi</th>\n",
       "    </tr>\n",
       "  </thead>\n",
       "  <tbody>\n",
       "    <tr>\n",
       "      <th>0</th>\n",
       "      <td>1</td>\n",
       "      <td>1.143989</td>\n",
       "      <td>0</td>\n",
       "      <td>1</td>\n",
       "      <td>0.057315</td>\n",
       "      <td>0.090241</td>\n",
       "      <td>0.505328</td>\n",
       "    </tr>\n",
       "    <tr>\n",
       "      <th>1</th>\n",
       "      <td>0</td>\n",
       "      <td>-0.581972</td>\n",
       "      <td>0</td>\n",
       "      <td>0</td>\n",
       "      <td>0.057315</td>\n",
       "      <td>-0.637332</td>\n",
       "      <td>0.281337</td>\n",
       "    </tr>\n",
       "    <tr>\n",
       "      <th>2</th>\n",
       "      <td>1</td>\n",
       "      <td>0.508109</td>\n",
       "      <td>1</td>\n",
       "      <td>0</td>\n",
       "      <td>0.057315</td>\n",
       "      <td>-0.798213</td>\n",
       "      <td>0.385866</td>\n",
       "    </tr>\n",
       "  </tbody>\n",
       "</table>\n",
       "</div>"
      ],
      "text/plain": [
       "   gender       age  hypertension  heart_disease  work_type  \\\n",
       "0       1  1.143989             0              1   0.057315   \n",
       "1       0 -0.581972             0              0   0.057315   \n",
       "2       1  0.508109             1              0   0.057315   \n",
       "\n",
       "   avg_glucose_level       bmi  \n",
       "0           0.090241  0.505328  \n",
       "1          -0.637332  0.281337  \n",
       "2          -0.798213  0.385866  "
      ]
     },
     "execution_count": 28,
     "metadata": {},
     "output_type": "execute_result"
    }
   ],
   "source": [
    "# Verify processing worked\n",
    "X_test.head(3)"
   ]
  },
  {
   "cell_type": "code",
   "execution_count": 29,
   "id": "3ff81cf0",
   "metadata": {},
   "outputs": [
    {
     "data": {
      "text/plain": [
       "(7544, 7)"
      ]
     },
     "metadata": {},
     "output_type": "display_data"
    },
    {
     "name": "stdout",
     "output_type": "stream",
     "text": [
      "<class 'pandas.core.frame.DataFrame'>\n",
      "RangeIndex: 7544 entries, 0 to 7543\n",
      "Data columns (total 7 columns):\n",
      " #   Column             Non-Null Count  Dtype  \n",
      "---  ------             --------------  -----  \n",
      " 0   gender             7544 non-null   int8   \n",
      " 1   age                7544 non-null   float64\n",
      " 2   hypertension       7544 non-null   int64  \n",
      " 3   heart_disease      7544 non-null   int64  \n",
      " 4   work_type          7544 non-null   float64\n",
      " 5   avg_glucose_level  7544 non-null   float64\n",
      " 6   bmi                7544 non-null   float64\n",
      "dtypes: float64(4), int64(2), int8(1)\n",
      "memory usage: 361.1 KB\n"
     ]
    },
    {
     "data": {
      "text/plain": [
       "None"
      ]
     },
     "metadata": {},
     "output_type": "display_data"
    },
    {
     "data": {
      "text/html": [
       "<div>\n",
       "<style scoped>\n",
       "    .dataframe tbody tr th:only-of-type {\n",
       "        vertical-align: middle;\n",
       "    }\n",
       "\n",
       "    .dataframe tbody tr th {\n",
       "        vertical-align: top;\n",
       "    }\n",
       "\n",
       "    .dataframe thead th {\n",
       "        text-align: right;\n",
       "    }\n",
       "</style>\n",
       "<table border=\"1\" class=\"dataframe\">\n",
       "  <thead>\n",
       "    <tr style=\"text-align: right;\">\n",
       "      <th></th>\n",
       "      <th>gender</th>\n",
       "      <th>age</th>\n",
       "      <th>hypertension</th>\n",
       "      <th>heart_disease</th>\n",
       "      <th>work_type</th>\n",
       "      <th>avg_glucose_level</th>\n",
       "      <th>bmi</th>\n",
       "    </tr>\n",
       "  </thead>\n",
       "  <tbody>\n",
       "    <tr>\n",
       "      <th>count</th>\n",
       "      <td>7544.000000</td>\n",
       "      <td>7.544000e+03</td>\n",
       "      <td>7544.000000</td>\n",
       "      <td>7544.000000</td>\n",
       "      <td>7544.000000</td>\n",
       "      <td>7.544000e+03</td>\n",
       "      <td>7.544000e+03</td>\n",
       "    </tr>\n",
       "    <tr>\n",
       "      <th>mean</th>\n",
       "      <td>0.323834</td>\n",
       "      <td>1.808380e-16</td>\n",
       "      <td>0.091463</td>\n",
       "      <td>0.040297</td>\n",
       "      <td>0.000000</td>\n",
       "      <td>3.013967e-17</td>\n",
       "      <td>-4.897696e-16</td>\n",
       "    </tr>\n",
       "    <tr>\n",
       "      <th>std</th>\n",
       "      <td>0.468252</td>\n",
       "      <td>1.000066e+00</td>\n",
       "      <td>0.288286</td>\n",
       "      <td>0.196668</td>\n",
       "      <td>1.000066</td>\n",
       "      <td>1.000066e+00</td>\n",
       "      <td>1.000066e+00</td>\n",
       "    </tr>\n",
       "    <tr>\n",
       "      <th>min</th>\n",
       "      <td>0.000000</td>\n",
       "      <td>-2.485979e+00</td>\n",
       "      <td>0.000000</td>\n",
       "      <td>0.000000</td>\n",
       "      <td>-1.982247</td>\n",
       "      <td>-1.146757e+00</td>\n",
       "      <td>-2.720141e+00</td>\n",
       "    </tr>\n",
       "    <tr>\n",
       "      <th>25%</th>\n",
       "      <td>0.000000</td>\n",
       "      <td>-6.136594e-01</td>\n",
       "      <td>0.000000</td>\n",
       "      <td>0.000000</td>\n",
       "      <td>0.057315</td>\n",
       "      <td>-7.425114e-01</td>\n",
       "      <td>-6.146264e-01</td>\n",
       "    </tr>\n",
       "    <tr>\n",
       "      <th>50%</th>\n",
       "      <td>0.000000</td>\n",
       "      <td>1.578324e-01</td>\n",
       "      <td>0.000000</td>\n",
       "      <td>0.000000</td>\n",
       "      <td>0.057315</td>\n",
       "      <td>-4.098444e-01</td>\n",
       "      <td>-1.069137e-01</td>\n",
       "    </tr>\n",
       "    <tr>\n",
       "      <th>75%</th>\n",
       "      <td>1.000000</td>\n",
       "      <td>8.714690e-01</td>\n",
       "      <td>0.000000</td>\n",
       "      <td>0.000000</td>\n",
       "      <td>0.057315</td>\n",
       "      <td>6.820887e-01</td>\n",
       "      <td>5.038154e-01</td>\n",
       "    </tr>\n",
       "    <tr>\n",
       "      <th>max</th>\n",
       "      <td>2.000000</td>\n",
       "      <td>1.234829e+00</td>\n",
       "      <td>1.000000</td>\n",
       "      <td>1.000000</td>\n",
       "      <td>2.096878</td>\n",
       "      <td>2.670317e+00</td>\n",
       "      <td>9.330570e+00</td>\n",
       "    </tr>\n",
       "  </tbody>\n",
       "</table>\n",
       "</div>"
      ],
      "text/plain": [
       "            gender           age  hypertension  heart_disease    work_type  \\\n",
       "count  7544.000000  7.544000e+03   7544.000000    7544.000000  7544.000000   \n",
       "mean      0.323834  1.808380e-16      0.091463       0.040297     0.000000   \n",
       "std       0.468252  1.000066e+00      0.288286       0.196668     1.000066   \n",
       "min       0.000000 -2.485979e+00      0.000000       0.000000    -1.982247   \n",
       "25%       0.000000 -6.136594e-01      0.000000       0.000000     0.057315   \n",
       "50%       0.000000  1.578324e-01      0.000000       0.000000     0.057315   \n",
       "75%       1.000000  8.714690e-01      0.000000       0.000000     0.057315   \n",
       "max       2.000000  1.234829e+00      1.000000       1.000000     2.096878   \n",
       "\n",
       "       avg_glucose_level           bmi  \n",
       "count       7.544000e+03  7.544000e+03  \n",
       "mean        3.013967e-17 -4.897696e-16  \n",
       "std         1.000066e+00  1.000066e+00  \n",
       "min        -1.146757e+00 -2.720141e+00  \n",
       "25%        -7.425114e-01 -6.146264e-01  \n",
       "50%        -4.098444e-01 -1.069137e-01  \n",
       "75%         6.820887e-01  5.038154e-01  \n",
       "max         2.670317e+00  9.330570e+00  "
      ]
     },
     "metadata": {},
     "output_type": "display_data"
    },
    {
     "data": {
      "text/plain": [
       "Index(['gender', 'age', 'hypertension', 'heart_disease', 'work_type',\n",
       "       'avg_glucose_level', 'bmi'],\n",
       "      dtype='object')"
      ]
     },
     "metadata": {},
     "output_type": "display_data"
    }
   ],
   "source": [
    "display(X_train.shape)\n",
    "display(X_train.info())\n",
    "display(X_train.describe())\n",
    "display(X_train.columns)"
   ]
  },
  {
   "cell_type": "markdown",
   "id": "c7272950",
   "metadata": {},
   "source": [
    "## 5. Decision Tree"
   ]
  },
  {
   "cell_type": "markdown",
   "id": "d6e26efe",
   "metadata": {},
   "source": [
    "A decision tree is a hierarchical model that helps in making decisions by mapping out possible outcomes based on different conditions. It's a visual representation where each branch represents a decision based on features in the data, ultimately leading to a prediction or classification."
   ]
  },
  {
   "cell_type": "code",
   "execution_count": 30,
   "id": "111fac3b",
   "metadata": {},
   "outputs": [],
   "source": [
    "from sklearn.tree import DecisionTreeClassifier\n",
    "\n",
    "model_dt = DecisionTreeClassifier()\n",
    "model_dt.fit(X_train,y_train)\n",
    "y_pred = model_dt.predict(X_test)"
   ]
  },
  {
   "cell_type": "code",
   "execution_count": 31,
   "id": "60a65e38",
   "metadata": {},
   "outputs": [],
   "source": [
    "# y_train_pred = model_dc.predict(X_train)\n",
    "# print(balanced_accuracy_score(y_train, y_train_pred))"
   ]
  },
  {
   "cell_type": "code",
   "execution_count": 32,
   "id": "560ee571",
   "metadata": {},
   "outputs": [
    {
     "name": "stdout",
     "output_type": "stream",
     "text": [
      "[0 0 0 ... 1 1 1]\n"
     ]
    }
   ],
   "source": [
    "y_pred_train = model_dt.predict(X_train)\n",
    "y_pred_test = model_dt.predict(X_test)\n",
    "print(y_pred_test)"
   ]
  },
  {
   "cell_type": "code",
   "execution_count": 33,
   "id": "fb95b357",
   "metadata": {},
   "outputs": [
    {
     "name": "stdout",
     "output_type": "stream",
     "text": [
      "Classification Report for Testing:\n",
      "              precision    recall  f1-score   support\n",
      "\n",
      "           0       0.59      0.91      0.72       928\n",
      "           1       0.80      0.37      0.50       928\n",
      "\n",
      "    accuracy                           0.64      1856\n",
      "   macro avg       0.70      0.64      0.61      1856\n",
      "weighted avg       0.70      0.64      0.61      1856\n",
      "\n"
     ]
    }
   ],
   "source": [
    "# print('------------------------------------')\n",
    "# print('Classification Report for Training:')\n",
    "# print(classification_report(y_train, y_pred_train))\n",
    "# print('------------------------------------')\n",
    "print('Classification Report for Testing:')\n",
    "print(classification_report(y_test, y_pred_test))"
   ]
  },
  {
   "cell_type": "code",
   "execution_count": 34,
   "id": "0dbe3a4b",
   "metadata": {},
   "outputs": [
    {
     "name": "stdout",
     "output_type": "stream",
     "text": [
      "Decision Tree balanced accuracy score 0.64\n"
     ]
    }
   ],
   "source": [
    "dt_bas = round(balanced_accuracy_score(y_test, y_pred),2)\n",
    "print(f'Decision Tree balanced accuracy score {dt_bas}')"
   ]
  },
  {
   "cell_type": "code",
   "execution_count": 35,
   "id": "1f9940ab",
   "metadata": {},
   "outputs": [],
   "source": [
    "from sklearn.metrics import precision_recall_fscore_support, balanced_accuracy_score\n",
    "\n",
    "# Assuming y_pred_train and y_pred are your predictions for the training and testing sets respectively\n",
    "\n",
    "# Extract precision, recall, and F1 score for both training and testing sets\n",
    "# metrics_train = precision_recall_fscore_support(y_train, y_pred_train, average='binary')\n",
    "metrics_test = precision_recall_fscore_support(y_test, y_pred, average='binary')\n",
    "\n",
    "# Calculate balanced accuracy score for the testing set\n",
    "# dt_bas = balanced_accuracy_score(y_test, y_pred)\n",
    "\n",
    "# Save the metrics in a dictionary\n",
    "dt_results = {\n",
    "    'Method': 'Decision Tree',\n",
    "#     'Train Precision': metrics_train[0],\n",
    "#     'Train Recall': metrics_train[1],\n",
    "#     'Train F1 Score': metrics_train[2],\n",
    "    'Precision': metrics_test[0],\n",
    "    'Recall': metrics_test[1],\n",
    "    'F1 Score': metrics_test[2],\n",
    "    'Balanced Accuracy': dt_bas\n",
    "}"
   ]
  },
  {
   "cell_type": "code",
   "execution_count": 36,
   "id": "1cb45580",
   "metadata": {
    "scrolled": true
   },
   "outputs": [
    {
     "data": {
      "text/plain": [
       "{'Method': 'Decision Tree',\n",
       " 'Precision': 0.8042452830188679,\n",
       " 'Recall': 0.36745689655172414,\n",
       " 'F1 Score': 0.5044378698224852,\n",
       " 'Balanced Accuracy': 0.64}"
      ]
     },
     "execution_count": 36,
     "metadata": {},
     "output_type": "execute_result"
    }
   ],
   "source": [
    "dt_results"
   ]
  },
  {
   "cell_type": "code",
   "execution_count": 37,
   "id": "4e23fb5f",
   "metadata": {},
   "outputs": [
    {
     "data": {
      "image/png": "[encoded data removed]",
      "text/plain": [
       "<Figure size 600x600 with 2 Axes>"
      ]
     },
     "metadata": {},
     "output_type": "display_data"
    }
   ],
   "source": [
    "cm = confusion_matrix(y_test, y_pred)\n",
    "\n",
    "plt.figure(figsize=(6, 6))\n",
    "sns.heatmap(cm, annot=True, cmap='Blues', fmt='g')\n",
    "plt.xlabel('Predicted')\n",
    "plt.ylabel('True')\n",
    "plt.title('Confusion Matrix')\n",
    "plt.show()"
   ]
  },
  {
   "cell_type": "markdown",
   "id": "e1641e82",
   "metadata": {},
   "source": [
    "### We will find a good max_depth to run with our model to see if we can improve"
   ]
  },
  {
   "cell_type": "code",
   "execution_count": 38,
   "id": "c6617508",
   "metadata": {},
   "outputs": [],
   "source": [
    "models = {'train_score': [], 'test_score': [], 'max_depth': []}\n",
    "\n",
    "for depth in range(1,15):\n",
    "    models['max_depth'].append(depth)\n",
    "    model = DecisionTreeClassifier( max_depth=depth)\n",
    "    model.fit(X_train, y_train)\n",
    "    y_test_pred = model.predict(X_test)\n",
    "    y_train_pred = model.predict(X_train)\n",
    "\n",
    "    models['train_score'].append(balanced_accuracy_score(y_train, y_train_pred))\n",
    "    models['test_score'].append(balanced_accuracy_score(y_test, y_test_pred))\n",
    "\n",
    "models_df = pd.DataFrame(models)"
   ]
  },
  {
   "cell_type": "code",
   "execution_count": 39,
   "id": "28387b55",
   "metadata": {},
   "outputs": [
    {
     "data": {
      "text/plain": [
       "<Axes: xlabel='max_depth'>"
      ]
     },
     "execution_count": 39,
     "metadata": {},
     "output_type": "execute_result"
    },
    {
     "data": {
      "image/png": "[encoded data removed]",
      "text/plain": [
       "<Figure size 640x480 with 1 Axes>"
      ]
     },
     "metadata": {},
     "output_type": "display_data"
    }
   ],
   "source": [
    "models_df.plot(x='max_depth')"
   ]
  },
  {
   "cell_type": "markdown",
   "id": "78379502",
   "metadata": {},
   "source": [
    "You want to pick the max_depth where the test_score peaks."
   ]
  },
  {
   "cell_type": "code",
   "execution_count": 40,
   "id": "cc1314e6",
   "metadata": {
    "scrolled": true
   },
   "outputs": [],
   "source": [
    "model = DecisionTreeClassifier(max_depth=7, random_state=42) # Insert max_depth from above graph\n",
    "model.fit(X_train, y_train)\n",
    "# forest_score = model.score(X_train, y_train)\n",
    "# forest_test = model.score(X_test, y_test)\n",
    "# # print('Training Score',forest_score)\n",
    "# # print('Testing Score ',forest_test)\n",
    "y_pred = model.predict(X_test)\n",
    "dt_md_bas = round(balanced_accuracy_score(y_test, y_pred),2)"
   ]
  },
  {
   "cell_type": "code",
   "execution_count": 41,
   "id": "69290d93",
   "metadata": {
    "scrolled": true
   },
   "outputs": [
    {
     "name": "stdout",
     "output_type": "stream",
     "text": [
      "Random Forest with adjusted max_depth balanced accuracy score: 0.78\n"
     ]
    }
   ],
   "source": [
    "print(f'Random Forest with adjusted max_depth balanced accuracy score: {dt_md_bas}') # The tuning should increase the score!"
   ]
  },
  {
   "cell_type": "code",
   "execution_count": 42,
   "id": "be2c00ae",
   "metadata": {},
   "outputs": [
    {
     "data": {
      "image/png": "[encoded data removed]",
      "text/plain": [
       "<Figure size 600x600 with 2 Axes>"
      ]
     },
     "metadata": {},
     "output_type": "display_data"
    }
   ],
   "source": [
    "cm = confusion_matrix(y_test, y_pred)\n",
    "\n",
    "# Displaying the confusion matrix as a heatmap using Seaborn\n",
    "plt.figure(figsize=(6, 6))\n",
    "sns.heatmap(cm, annot=True, cmap='Blues', fmt='g')\n",
    "plt.xlabel('Predicted')\n",
    "plt.ylabel('True')\n",
    "plt.title('Confusion Matrix')\n",
    "plt.show()"
   ]
  },
  {
   "cell_type": "code",
   "execution_count": 43,
   "id": "c6aca9c3",
   "metadata": {},
   "outputs": [
    {
     "name": "stdout",
     "output_type": "stream",
     "text": [
      "Classification Report for Testing:\n",
      "              precision    recall  f1-score   support\n",
      "\n",
      "           0       0.59      0.91      0.72       928\n",
      "           1       0.80      0.37      0.50       928\n",
      "\n",
      "    accuracy                           0.64      1856\n",
      "   macro avg       0.70      0.64      0.61      1856\n",
      "weighted avg       0.70      0.64      0.61      1856\n",
      "\n"
     ]
    }
   ],
   "source": [
    "print('Classification Report for Testing:')\n",
    "print(classification_report(y_test, y_pred_test))"
   ]
  },
  {
   "cell_type": "code",
   "execution_count": 44,
   "id": "3d16240b",
   "metadata": {},
   "outputs": [],
   "source": [
    "# Extract precision, recall, and F1 score for both training and testing sets\n",
    "# metrics_train = precision_recall_fscore_support(y_train, y_pred_train, average='binary')\n",
    "metrics_test = precision_recall_fscore_support(y_test, y_pred, average='binary')\n",
    "\n",
    "# Calculate balanced accuracy score for the testing set\n",
    "# dt_bas = balanced_accuracy_score(y_test, y_pred)\n",
    "\n",
    "# Save the metrics in a dictionary\n",
    "dt_md_results = {\n",
    "    'Method': 'Decision Tree max_depth',\n",
    "#     'Train Precision': metrics_train[0],\n",
    "#     'Train Recall': metrics_train[1],\n",
    "#     'Train F1 Score': metrics_train[2],\n",
    "    'Precision': round(metrics_test[0],2),\n",
    "    'Recall': round(metrics_test[1],2),\n",
    "    'F1 Score': round(metrics_test[2],2),\n",
    "    'Balanced Accuracy': dt_md_bas\n",
    "}"
   ]
  },
  {
   "cell_type": "code",
   "execution_count": 45,
   "id": "52428801",
   "metadata": {},
   "outputs": [
    {
     "data": {
      "text/plain": [
       "{'Method': 'Decision Tree max_depth',\n",
       " 'Precision': 0.76,\n",
       " 'Recall': 0.82,\n",
       " 'F1 Score': 0.79,\n",
       " 'Balanced Accuracy': 0.78}"
      ]
     },
     "execution_count": 45,
     "metadata": {},
     "output_type": "execute_result"
    }
   ],
   "source": [
    "dt_md_results"
   ]
  },
  {
   "cell_type": "markdown",
   "id": "0f1598bf",
   "metadata": {},
   "source": [
    "### 5.5 PCA"
   ]
  },
  {
   "cell_type": "markdown",
   "id": "d870665d",
   "metadata": {},
   "source": [
    "Applying PCA before using a Random Forest classifier can help reduce dimensionality and computational costs, potentially improve model generalization by removing noise, but it may obscure the interpretability of feature importance and, depending on the dataset, could either improve or degrade performance. We are choosing to run it here."
   ]
  },
  {
   "cell_type": "code",
   "execution_count": 46,
   "id": "8b0ae6ba",
   "metadata": {},
   "outputs": [
    {
     "data": {
      "text/html": [
       "<div>\n",
       "<style scoped>\n",
       "    .dataframe tbody tr th:only-of-type {\n",
       "        vertical-align: middle;\n",
       "    }\n",
       "\n",
       "    .dataframe tbody tr th {\n",
       "        vertical-align: top;\n",
       "    }\n",
       "\n",
       "    .dataframe thead th {\n",
       "        text-align: right;\n",
       "    }\n",
       "</style>\n",
       "<table border=\"1\" class=\"dataframe\">\n",
       "  <thead>\n",
       "    <tr style=\"text-align: right;\">\n",
       "      <th></th>\n",
       "      <th>0</th>\n",
       "      <th>1</th>\n",
       "      <th>2</th>\n",
       "      <th>3</th>\n",
       "      <th>4</th>\n",
       "      <th>5</th>\n",
       "      <th>6</th>\n",
       "    </tr>\n",
       "  </thead>\n",
       "  <tbody>\n",
       "    <tr>\n",
       "      <th>0</th>\n",
       "      <td>-1.733682</td>\n",
       "      <td>1.412820</td>\n",
       "      <td>-0.065582</td>\n",
       "      <td>0.398344</td>\n",
       "      <td>0.718619</td>\n",
       "      <td>-0.215445</td>\n",
       "      <td>0.861679</td>\n",
       "    </tr>\n",
       "    <tr>\n",
       "      <th>1</th>\n",
       "      <td>-0.698461</td>\n",
       "      <td>-0.146487</td>\n",
       "      <td>-0.195662</td>\n",
       "      <td>-0.970954</td>\n",
       "      <td>0.792919</td>\n",
       "      <td>-0.176744</td>\n",
       "      <td>0.900087</td>\n",
       "    </tr>\n",
       "    <tr>\n",
       "      <th>2</th>\n",
       "      <td>-0.633274</td>\n",
       "      <td>0.800595</td>\n",
       "      <td>0.425052</td>\n",
       "      <td>0.406268</td>\n",
       "      <td>-0.356372</td>\n",
       "      <td>-0.110688</td>\n",
       "      <td>-0.037442</td>\n",
       "    </tr>\n",
       "    <tr>\n",
       "      <th>3</th>\n",
       "      <td>-0.243180</td>\n",
       "      <td>0.988108</td>\n",
       "      <td>-1.680332</td>\n",
       "      <td>-0.484931</td>\n",
       "      <td>-0.291884</td>\n",
       "      <td>0.833044</td>\n",
       "      <td>-0.082659</td>\n",
       "    </tr>\n",
       "    <tr>\n",
       "      <th>4</th>\n",
       "      <td>-1.146816</td>\n",
       "      <td>0.545922</td>\n",
       "      <td>-1.036539</td>\n",
       "      <td>-0.071037</td>\n",
       "      <td>0.703290</td>\n",
       "      <td>-0.196566</td>\n",
       "      <td>-0.134834</td>\n",
       "    </tr>\n",
       "    <tr>\n",
       "      <th>...</th>\n",
       "      <td>...</td>\n",
       "      <td>...</td>\n",
       "      <td>...</td>\n",
       "      <td>...</td>\n",
       "      <td>...</td>\n",
       "      <td>...</td>\n",
       "      <td>...</td>\n",
       "    </tr>\n",
       "    <tr>\n",
       "      <th>7539</th>\n",
       "      <td>0.044934</td>\n",
       "      <td>-1.050016</td>\n",
       "      <td>0.632755</td>\n",
       "      <td>0.264758</td>\n",
       "      <td>-0.306071</td>\n",
       "      <td>-0.022556</td>\n",
       "      <td>0.009162</td>\n",
       "    </tr>\n",
       "    <tr>\n",
       "      <th>7540</th>\n",
       "      <td>-0.746618</td>\n",
       "      <td>-1.915967</td>\n",
       "      <td>0.915240</td>\n",
       "      <td>0.233769</td>\n",
       "      <td>-0.246562</td>\n",
       "      <td>-0.020239</td>\n",
       "      <td>0.010082</td>\n",
       "    </tr>\n",
       "    <tr>\n",
       "      <th>7541</th>\n",
       "      <td>-0.790367</td>\n",
       "      <td>1.570667</td>\n",
       "      <td>-0.789624</td>\n",
       "      <td>-0.421456</td>\n",
       "      <td>0.693956</td>\n",
       "      <td>0.773366</td>\n",
       "      <td>-0.138524</td>\n",
       "    </tr>\n",
       "    <tr>\n",
       "      <th>7542</th>\n",
       "      <td>-1.526759</td>\n",
       "      <td>0.908637</td>\n",
       "      <td>-0.161972</td>\n",
       "      <td>-0.145204</td>\n",
       "      <td>-0.270901</td>\n",
       "      <td>0.822065</td>\n",
       "      <td>-0.075441</td>\n",
       "    </tr>\n",
       "    <tr>\n",
       "      <th>7543</th>\n",
       "      <td>-1.373805</td>\n",
       "      <td>1.088133</td>\n",
       "      <td>0.250248</td>\n",
       "      <td>0.145056</td>\n",
       "      <td>0.724462</td>\n",
       "      <td>-0.195377</td>\n",
       "      <td>0.880730</td>\n",
       "    </tr>\n",
       "  </tbody>\n",
       "</table>\n",
       "<p>7544 rows × 7 columns</p>\n",
       "</div>"
      ],
      "text/plain": [
       "             0         1         2         3         4         5         6\n",
       "0    -1.733682  1.412820 -0.065582  0.398344  0.718619 -0.215445  0.861679\n",
       "1    -0.698461 -0.146487 -0.195662 -0.970954  0.792919 -0.176744  0.900087\n",
       "2    -0.633274  0.800595  0.425052  0.406268 -0.356372 -0.110688 -0.037442\n",
       "3    -0.243180  0.988108 -1.680332 -0.484931 -0.291884  0.833044 -0.082659\n",
       "4    -1.146816  0.545922 -1.036539 -0.071037  0.703290 -0.196566 -0.134834\n",
       "...        ...       ...       ...       ...       ...       ...       ...\n",
       "7539  0.044934 -1.050016  0.632755  0.264758 -0.306071 -0.022556  0.009162\n",
       "7540 -0.746618 -1.915967  0.915240  0.233769 -0.246562 -0.020239  0.010082\n",
       "7541 -0.790367  1.570667 -0.789624 -0.421456  0.693956  0.773366 -0.138524\n",
       "7542 -1.526759  0.908637 -0.161972 -0.145204 -0.270901  0.822065 -0.075441\n",
       "7543 -1.373805  1.088133  0.250248  0.145056  0.724462 -0.195377  0.880730\n",
       "\n",
       "[7544 rows x 7 columns]"
      ]
     },
     "execution_count": 46,
     "metadata": {},
     "output_type": "execute_result"
    }
   ],
   "source": [
    "from sklearn.decomposition import PCA\n",
    "\n",
    "pca_model = PCA(n_components = 7) # 7 for SMOTE, 10 for SMOTENC\n",
    "pca_model.fit(X_train)\n",
    "\n",
    "X_train_pca = pd.DataFrame(pca_model.transform(X_train))\n",
    "X_test_pca = pd.DataFrame(pca_model.transform(X_test))\n",
    "X_train_pca"
   ]
  },
  {
   "cell_type": "markdown",
   "id": "9cc0df9d",
   "metadata": {},
   "source": [
    "### 6. Random Forest"
   ]
  },
  {
   "cell_type": "markdown",
   "id": "05b7b6e6",
   "metadata": {},
   "source": [
    "A Random Forest is a machine learning method used in both classification and regression tasks. It operates by constructing a multitude of decision trees during training time and outputs the mode or average prediction of the individual trees."
   ]
  },
  {
   "cell_type": "code",
   "execution_count": 47,
   "id": "aa420877",
   "metadata": {},
   "outputs": [
    {
     "data": {
      "text/html": [
       "<style>#sk-container-id-1 {color: black;}#sk-container-id-1 pre{padding: 0;}#sk-container-id-1 div.sk-toggleable {background-color: white;}#sk-container-id-1 label.sk-toggleable__label {cursor: pointer;display: block;width: 100%;margin-bottom: 0;padding: 0.3em;box-sizing: border-box;text-align: center;}#sk-container-id-1 label.sk-toggleable__label-arrow:before {content: \"▸\";float: left;margin-right: 0.25em;color: #696969;}#sk-container-id-1 label.sk-toggleable__label-arrow:hover:before {color: black;}#sk-container-id-1 div.sk-estimator:hover label.sk-toggleable__label-arrow:before {color: black;}#sk-container-id-1 div.sk-toggleable__content {max-height: 0;max-width: 0;overflow: hidden;text-align: left;background-color: #f0f8ff;}#sk-container-id-1 div.sk-toggleable__content pre {margin: 0.2em;color: black;border-radius: 0.25em;background-color: #f0f8ff;}#sk-container-id-1 input.sk-toggleable__control:checked~div.sk-toggleable__content {max-height: 200px;max-width: 100%;overflow: auto;}#sk-container-id-1 input.sk-toggleable__control:checked~label.sk-toggleable__label-arrow:before {content: \"▾\";}#sk-container-id-1 div.sk-estimator input.sk-toggleable__control:checked~label.sk-toggleable__label {background-color: #d4ebff;}#sk-container-id-1 div.sk-label input.sk-toggleable__control:checked~label.sk-toggleable__label {background-color: #d4ebff;}#sk-container-id-1 input.sk-hidden--visually {border: 0;clip: rect(1px 1px 1px 1px);clip: rect(1px, 1px, 1px, 1px);height: 1px;margin: -1px;overflow: hidden;padding: 0;position: absolute;width: 1px;}#sk-container-id-1 div.sk-estimator {font-family: monospace;background-color: #f0f8ff;border: 1px dotted black;border-radius: 0.25em;box-sizing: border-box;margin-bottom: 0.5em;}#sk-container-id-1 div.sk-estimator:hover {background-color: #d4ebff;}#sk-container-id-1 div.sk-parallel-item::after {content: \"\";width: 100%;border-bottom: 1px solid gray;flex-grow: 1;}#sk-container-id-1 div.sk-label:hover label.sk-toggleable__label {background-color: #d4ebff;}#sk-container-id-1 div.sk-serial::before {content: \"\";position: absolute;border-left: 1px solid gray;box-sizing: border-box;top: 0;bottom: 0;left: 50%;z-index: 0;}#sk-container-id-1 div.sk-serial {display: flex;flex-direction: column;align-items: center;background-color: white;padding-right: 0.2em;padding-left: 0.2em;position: relative;}#sk-container-id-1 div.sk-item {position: relative;z-index: 1;}#sk-container-id-1 div.sk-parallel {display: flex;align-items: stretch;justify-content: center;background-color: white;position: relative;}#sk-container-id-1 div.sk-item::before, #sk-container-id-1 div.sk-parallel-item::before {content: \"\";position: absolute;border-left: 1px solid gray;box-sizing: border-box;top: 0;bottom: 0;left: 50%;z-index: -1;}#sk-container-id-1 div.sk-parallel-item {display: flex;flex-direction: column;z-index: 1;position: relative;background-color: white;}#sk-container-id-1 div.sk-parallel-item:first-child::after {align-self: flex-end;width: 50%;}#sk-container-id-1 div.sk-parallel-item:last-child::after {align-self: flex-start;width: 50%;}#sk-container-id-1 div.sk-parallel-item:only-child::after {width: 0;}#sk-container-id-1 div.sk-dashed-wrapped {border: 1px dashed gray;margin: 0 0.4em 0.5em 0.4em;box-sizing: border-box;padding-bottom: 0.4em;background-color: white;}#sk-container-id-1 div.sk-label label {font-family: monospace;font-weight: bold;display: inline-block;line-height: 1.2em;}#sk-container-id-1 div.sk-label-container {text-align: center;}#sk-container-id-1 div.sk-container {/* jupyter's `normalize.less` sets `[hidden] { display: none; }` but bootstrap.min.css set `[hidden] { display: none !important; }` so we also need the `!important` here to be able to override the default hidden behavior on the sphinx rendered scikit-learn.org. See: https://github.com/scikit-learn/scikit-learn/issues/21755 */display: inline-block !important;position: relative;}#sk-container-id-1 div.sk-text-repr-fallback {display: none;}</style><div id=\"sk-container-id-1\" class=\"sk-top-container\"><div class=\"sk-text-repr-fallback\"><pre>RandomForestClassifier(class_weight=&#x27;balanced&#x27;, random_state=42)</pre><b>In a Jupyter environment, please rerun this cell to show the HTML representation or trust the notebook. <br />On GitHub, the HTML representation is unable to render, please try loading this page with nbviewer.org.</b></div><div class=\"sk-container\" hidden><div class=\"sk-item\"><div class=\"sk-estimator sk-toggleable\"><input class=\"sk-toggleable__control sk-hidden--visually\" id=\"sk-estimator-id-1\" type=\"checkbox\" checked><label for=\"sk-estimator-id-1\" class=\"sk-toggleable__label sk-toggleable__label-arrow\">RandomForestClassifier</label><div class=\"sk-toggleable__content\"><pre>RandomForestClassifier(class_weight=&#x27;balanced&#x27;, random_state=42)</pre></div></div></div></div></div>"
      ],
      "text/plain": [
       "RandomForestClassifier(class_weight='balanced', random_state=42)"
      ]
     },
     "execution_count": 47,
     "metadata": {},
     "output_type": "execute_result"
    }
   ],
   "source": [
    "from sklearn.ensemble import RandomForestClassifier\n",
    "\n",
    "model = RandomForestClassifier(n_estimators=100, class_weight='balanced', random_state=42)\n",
    "model.fit(X_train_pca, y_train)"
   ]
  },
  {
   "cell_type": "code",
   "execution_count": 48,
   "id": "e7d8e4a0",
   "metadata": {},
   "outputs": [
    {
     "name": "stdout",
     "output_type": "stream",
     "text": [
      "Random Forest balanced accuracy score: 0.67\n"
     ]
    }
   ],
   "source": [
    "y_test_pred = model.predict(X_test_pca)\n",
    "rf_bas = round(balanced_accuracy_score(y_test, y_test_pred),2)\n",
    "print(f'Random Forest balanced accuracy score: {rf_bas}')"
   ]
  },
  {
   "cell_type": "code",
   "execution_count": 49,
   "id": "991128da",
   "metadata": {},
   "outputs": [],
   "source": [
    "# y_train_pred = model.predict(X_train)\n",
    "# print(balanced_accuracy_score(y_train, y_train_pred))"
   ]
  },
  {
   "cell_type": "code",
   "execution_count": 50,
   "id": "9469ac57",
   "metadata": {},
   "outputs": [
    {
     "data": {
      "image/png": "[encoded data removed]",
      "text/plain": [
       "<Figure size 600x600 with 2 Axes>"
      ]
     },
     "metadata": {},
     "output_type": "display_data"
    }
   ],
   "source": [
    "cm = confusion_matrix(y_test, y_pred)\n",
    "\n",
    "# Displaying the confusion matrix as a heatmap using Seaborn\n",
    "plt.figure(figsize=(6, 6))\n",
    "sns.heatmap(cm, annot=True, cmap='Blues', fmt='g')\n",
    "plt.xlabel('Predicted')\n",
    "plt.ylabel('True')\n",
    "plt.title('Confusion Matrix')\n",
    "plt.show()"
   ]
  },
  {
   "cell_type": "code",
   "execution_count": 51,
   "id": "422d2108",
   "metadata": {},
   "outputs": [
    {
     "name": "stdout",
     "output_type": "stream",
     "text": [
      "Classification Report for Testing:\n",
      "              precision    recall  f1-score   support\n",
      "\n",
      "           0       0.59      0.91      0.72       928\n",
      "           1       0.80      0.37      0.50       928\n",
      "\n",
      "    accuracy                           0.64      1856\n",
      "   macro avg       0.70      0.64      0.61      1856\n",
      "weighted avg       0.70      0.64      0.61      1856\n",
      "\n"
     ]
    }
   ],
   "source": [
    "print('Classification Report for Testing:')\n",
    "print(classification_report(y_test, y_pred_test))"
   ]
  },
  {
   "cell_type": "code",
   "execution_count": 52,
   "id": "57158d93",
   "metadata": {},
   "outputs": [],
   "source": [
    "# Extract precision, recall, and F1 score for both training and testing sets\n",
    "# metrics_train = precision_recall_fscore_support(y_train, y_pred_train, average='binary')\n",
    "metrics_test = precision_recall_fscore_support(y_test, y_pred, average='binary')\n",
    "\n",
    "# Calculate balanced accuracy score for the testing set\n",
    "# dt_bas = balanced_accuracy_score(y_test, y_pred)\n",
    "\n",
    "# Save the metrics in a dictionary\n",
    "rf_results = {\n",
    "    'Method': 'Random Forest',\n",
    "#     'Train Precision': metrics_train[0],\n",
    "#     'Train Recall': metrics_train[1],\n",
    "#     'Train F1 Score': metrics_train[2],\n",
    "    'Precision': round(metrics_test[0],2),\n",
    "    'Recall': round(metrics_test[1],2),\n",
    "    'F1 Score': round(metrics_test[2],2),\n",
    "    'Balanced Accuracy': rf_bas\n",
    "}"
   ]
  },
  {
   "cell_type": "code",
   "execution_count": 53,
   "id": "c9281407",
   "metadata": {},
   "outputs": [
    {
     "data": {
      "text/plain": [
       "{'Method': 'Random Forest',\n",
       " 'Precision': 0.76,\n",
       " 'Recall': 0.82,\n",
       " 'F1 Score': 0.79,\n",
       " 'Balanced Accuracy': 0.67}"
      ]
     },
     "execution_count": 53,
     "metadata": {},
     "output_type": "execute_result"
    }
   ],
   "source": [
    "rf_results"
   ]
  },
  {
   "cell_type": "markdown",
   "id": "e52ed97a",
   "metadata": {},
   "source": [
    "### We will find a good max_depth to run with our model to see if we can improve"
   ]
  },
  {
   "cell_type": "code",
   "execution_count": 54,
   "id": "7575d4b9",
   "metadata": {},
   "outputs": [],
   "source": [
    "models = {'train_score': [], 'test_score': [], 'max_depth': []}\n",
    "\n",
    "for depth in range(1,10):\n",
    "    models['max_depth'].append(depth)\n",
    "    model = RandomForestClassifier(n_estimators=100, max_depth=depth)\n",
    "    model.fit(X_train_pca, y_train)\n",
    "    y_test_pred = model.predict(X_test_pca)\n",
    "    y_train_pred = model.predict(X_train_pca)\n",
    "\n",
    "    models['train_score'].append(balanced_accuracy_score(y_train, y_train_pred))\n",
    "    models['test_score'].append(balanced_accuracy_score(y_test, y_test_pred))\n",
    "\n",
    "models_df = pd.DataFrame(models)"
   ]
  },
  {
   "cell_type": "code",
   "execution_count": 55,
   "id": "bc5d14ea",
   "metadata": {
    "scrolled": true
   },
   "outputs": [
    {
     "data": {
      "text/plain": [
       "<Axes: xlabel='max_depth'>"
      ]
     },
     "execution_count": 55,
     "metadata": {},
     "output_type": "execute_result"
    },
    {
     "data": {
      "image/png": "[encoded data removed]",
      "text/plain": [
       "<Figure size 640x480 with 1 Axes>"
      ]
     },
     "metadata": {},
     "output_type": "display_data"
    }
   ],
   "source": [
    "models_df.plot(x='max_depth')"
   ]
  },
  {
   "cell_type": "markdown",
   "id": "582aa30b",
   "metadata": {},
   "source": [
    "You want to pick the max_depth where the test_score peaks."
   ]
  },
  {
   "cell_type": "markdown",
   "id": "caa2848c",
   "metadata": {},
   "source": [
    "### Apply best max_depth to Random Forest"
   ]
  },
  {
   "cell_type": "code",
   "execution_count": 56,
   "id": "b3a2b039",
   "metadata": {},
   "outputs": [],
   "source": [
    "from sklearn.ensemble import RandomForestClassifier\n",
    "\n",
    "model = RandomForestClassifier(n_estimators=100, max_depth=6, random_state=42) # Insert max_depth from above graph\n",
    "model.fit(X_train, y_train)\n",
    "forest_score = model.score(X_train, y_train)\n",
    "forest_test = model.score(X_test, y_test)\n",
    "# print('Training Score',forest_score)\n",
    "# print('Testing Score ',forest_test)\n",
    "y_pred = model.predict(X_test)\n",
    "rf_md_bas = round(balanced_accuracy_score(y_test, y_pred),2)"
   ]
  },
  {
   "cell_type": "code",
   "execution_count": 57,
   "id": "d82b8b2c",
   "metadata": {},
   "outputs": [
    {
     "name": "stdout",
     "output_type": "stream",
     "text": [
      "Random Forest with adjusted max_depth balanced accuracy score: 0.81\n"
     ]
    }
   ],
   "source": [
    "print(f'Random Forest with adjusted max_depth balanced accuracy score: {rf_md_bas}') # The tuning should increase the score!"
   ]
  },
  {
   "cell_type": "code",
   "execution_count": 58,
   "id": "be97c8d0",
   "metadata": {
    "scrolled": false
   },
   "outputs": [],
   "source": [
    "# display(confusion_matrix(y_test, y_pred))"
   ]
  },
  {
   "cell_type": "code",
   "execution_count": 59,
   "id": "f9099ba3",
   "metadata": {},
   "outputs": [
    {
     "data": {
      "image/png": "[encoded data removed]",
      "text/plain": [
       "<Figure size 600x600 with 2 Axes>"
      ]
     },
     "metadata": {},
     "output_type": "display_data"
    }
   ],
   "source": [
    "cm = confusion_matrix(y_test, y_pred)\n",
    "\n",
    "# Displaying the confusion matrix as a heatmap using Seaborn\n",
    "plt.figure(figsize=(6, 6))\n",
    "sns.heatmap(cm, annot=True, cmap='Blues', fmt='g')\n",
    "plt.xlabel('Predicted')\n",
    "plt.ylabel('True')\n",
    "plt.title('Confusion Matrix')\n",
    "plt.show()"
   ]
  },
  {
   "cell_type": "code",
   "execution_count": 60,
   "id": "00f00d23",
   "metadata": {},
   "outputs": [
    {
     "name": "stdout",
     "output_type": "stream",
     "text": [
      "Classification Report for Testing:\n",
      "              precision    recall  f1-score   support\n",
      "\n",
      "           0       0.59      0.91      0.72       928\n",
      "           1       0.80      0.37      0.50       928\n",
      "\n",
      "    accuracy                           0.64      1856\n",
      "   macro avg       0.70      0.64      0.61      1856\n",
      "weighted avg       0.70      0.64      0.61      1856\n",
      "\n"
     ]
    }
   ],
   "source": [
    "print('Classification Report for Testing:')\n",
    "print(classification_report(y_test, y_pred_test))"
   ]
  },
  {
   "cell_type": "markdown",
   "id": "ed3cc00b",
   "metadata": {},
   "source": [
    "### Use best estimators for max_depth"
   ]
  },
  {
   "cell_type": "code",
   "execution_count": 61,
   "id": "ae41951a",
   "metadata": {},
   "outputs": [],
   "source": [
    "# models = {'train_score': [], 'test_score': [], 'n_estimators': []}\n",
    "\n",
    "# for n in [50, 100, 500, 1000]:\n",
    "#     models['n_estimators'].append(n)\n",
    "#     model = RandomForestClassifier(n_estimators=n, max_depth=7)\n",
    "#     model.fit(X_train_pca, y_train)\n",
    "#     y_test_pred = model.predict(X_test_pca)\n",
    "#     y_train_pred = model.predict(X_train_pca)\n",
    "\n",
    "#     models['train_score'].append(balanced_accuracy_score(y_train, y_train_pred))\n",
    "#     models['test_score'].append(balanced_accuracy_score(y_test, y_test_pred))\n",
    "\n",
    "# models_df = pd.DataFrame(models)"
   ]
  },
  {
   "cell_type": "code",
   "execution_count": 62,
   "id": "aef51b5c",
   "metadata": {
    "scrolled": true
   },
   "outputs": [],
   "source": [
    "# models_df.plot(x='n_estimators')"
   ]
  },
  {
   "cell_type": "code",
   "execution_count": 63,
   "id": "5c91bc8e",
   "metadata": {},
   "outputs": [],
   "source": [
    "# Extract precision, recall, and F1 score for both training and testing sets\n",
    "# metrics_train = precision_recall_fscore_support(y_train, y_pred_train, average='binary')\n",
    "metrics_test = precision_recall_fscore_support(y_test, y_pred, average='binary')\n",
    "\n",
    "# Calculate balanced accuracy score for the testing set\n",
    "# dt_bas = balanced_accuracy_score(y_test, y_pred)\n",
    "\n",
    "# Save the metrics in a dictionary\n",
    "rf_md_results = {\n",
    "    'Method': 'Random Forest max_depth',\n",
    "#     'Train Precision': metrics_train[0],\n",
    "#     'Train Recall': metrics_train[1],\n",
    "#     'Train F1 Score': metrics_train[2],\n",
    "    'Precision': round(metrics_test[0],2),\n",
    "    'Recall': round(metrics_test[1],2),\n",
    "    'F1 Score': round(metrics_test[2],2),\n",
    "    'Balanced Accuracy': rf_md_bas\n",
    "}"
   ]
  },
  {
   "cell_type": "code",
   "execution_count": 64,
   "id": "43fb4c3a",
   "metadata": {},
   "outputs": [
    {
     "data": {
      "text/plain": [
       "{'Method': 'Random Forest max_depth',\n",
       " 'Precision': 0.79,\n",
       " 'Recall': 0.84,\n",
       " 'F1 Score': 0.82,\n",
       " 'Balanced Accuracy': 0.81}"
      ]
     },
     "execution_count": 64,
     "metadata": {},
     "output_type": "execute_result"
    }
   ],
   "source": [
    "rf_md_results"
   ]
  },
  {
   "cell_type": "markdown",
   "id": "e66f1a39",
   "metadata": {},
   "source": [
    "## 7. K Nearest Neighbors"
   ]
  },
  {
   "cell_type": "markdown",
   "id": "f1bd305c",
   "metadata": {},
   "source": [
    "The k-nearest neighbors algorithm predicts the label of a data point based on the labels of its 'k' closest neighbors in the dataset. To classify a new instance, KNN calculates the distance between the instance and all points in the training set, identifies the 'k' nearest points, and then uses a majority vote among these neighbors to determine the instance's label. For regression tasks, it averages the values of these neighbors instead."
   ]
  },
  {
   "cell_type": "code",
   "execution_count": 65,
   "id": "4938f3d9",
   "metadata": {},
   "outputs": [
    {
     "name": "stdout",
     "output_type": "stream",
     "text": [
      "Fitting 5 folds for each of 10 candidates, totalling 50 fits\n",
      "[CV 1/5] END leaf_size=500, n_neighbors=5, weights=uniform;, score=0.879 total time=   0.0s\n",
      "[CV 2/5] END leaf_size=500, n_neighbors=5, weights=uniform;, score=0.904 total time=   0.0s\n",
      "[CV 3/5] END leaf_size=500, n_neighbors=5, weights=uniform;, score=0.898 total time=   0.0s\n",
      "[CV 4/5] END leaf_size=500, n_neighbors=5, weights=uniform;, score=0.907 total time=   0.0s\n",
      "[CV 5/5] END leaf_size=500, n_neighbors=5, weights=uniform;, score=0.900 total time=   0.0s\n",
      "[CV 1/5] END leaf_size=50, n_neighbors=13, weights=uniform;, score=0.852 total time=   0.0s\n",
      "[CV 2/5] END leaf_size=50, n_neighbors=13, weights=uniform;, score=0.877 total time=   0.0s\n",
      "[CV 3/5] END leaf_size=50, n_neighbors=13, weights=uniform;, score=0.863 total time=   0.0s\n",
      "[CV 4/5] END leaf_size=50, n_neighbors=13, weights=uniform;, score=0.883 total time=   0.0s\n",
      "[CV 5/5] END leaf_size=50, n_neighbors=13, weights=uniform;, score=0.877 total time=   0.0s\n",
      "[CV 1/5] END leaf_size=100, n_neighbors=9, weights=uniform;, score=0.863 total time=   0.0s\n",
      "[CV 2/5] END leaf_size=100, n_neighbors=9, weights=uniform;, score=0.886 total time=   0.0s\n",
      "[CV 3/5] END leaf_size=100, n_neighbors=9, weights=uniform;, score=0.887 total time=   0.0s\n",
      "[CV 4/5] END leaf_size=100, n_neighbors=9, weights=uniform;, score=0.893 total time=   0.0s\n",
      "[CV 5/5] END leaf_size=100, n_neighbors=9, weights=uniform;, score=0.886 total time=   0.0s\n",
      "[CV 1/5] END leaf_size=50, n_neighbors=11, weights=distance;, score=0.882 total time=   0.0s\n",
      "[CV 2/5] END leaf_size=50, n_neighbors=11, weights=distance;, score=0.895 total time=   0.0s\n",
      "[CV 3/5] END leaf_size=50, n_neighbors=11, weights=distance;, score=0.893 total time=   0.0s\n",
      "[CV 4/5] END leaf_size=50, n_neighbors=11, weights=distance;, score=0.907 total time=   0.0s\n",
      "[CV 5/5] END leaf_size=50, n_neighbors=11, weights=distance;, score=0.897 total time=   0.0s\n",
      "[CV 1/5] END leaf_size=10, n_neighbors=15, weights=distance;, score=0.877 total time=   0.0s\n",
      "[CV 2/5] END leaf_size=10, n_neighbors=15, weights=distance;, score=0.889 total time=   0.0s\n",
      "[CV 3/5] END leaf_size=10, n_neighbors=15, weights=distance;, score=0.883 total time=   0.0s\n",
      "[CV 4/5] END leaf_size=10, n_neighbors=15, weights=distance;, score=0.900 total time=   0.0s\n",
      "[CV 5/5] END leaf_size=10, n_neighbors=15, weights=distance;, score=0.895 total time=   0.0s\n",
      "[CV 1/5] END leaf_size=500, n_neighbors=7, weights=uniform;, score=0.867 total time=   0.0s\n",
      "[CV 2/5] END leaf_size=500, n_neighbors=7, weights=uniform;, score=0.891 total time=   0.0s\n",
      "[CV 3/5] END leaf_size=500, n_neighbors=7, weights=uniform;, score=0.895 total time=   0.0s\n",
      "[CV 4/5] END leaf_size=500, n_neighbors=7, weights=uniform;, score=0.898 total time=   0.0s\n",
      "[CV 5/5] END leaf_size=500, n_neighbors=7, weights=uniform;, score=0.891 total time=   0.0s\n",
      "[CV 1/5] END leaf_size=10, n_neighbors=1, weights=distance;, score=0.912 total time=   0.0s\n",
      "[CV 2/5] END leaf_size=10, n_neighbors=1, weights=distance;, score=0.932 total time=   0.0s\n",
      "[CV 3/5] END leaf_size=10, n_neighbors=1, weights=distance;, score=0.928 total time=   0.0s\n",
      "[CV 4/5] END leaf_size=10, n_neighbors=1, weights=distance;, score=0.934 total time=   0.0s\n",
      "[CV 5/5] END leaf_size=10, n_neighbors=1, weights=distance;, score=0.923 total time=   0.0s\n",
      "[CV 1/5] END leaf_size=100, n_neighbors=11, weights=distance;, score=0.882 total time=   0.0s\n",
      "[CV 2/5] END leaf_size=100, n_neighbors=11, weights=distance;, score=0.895 total time=   0.0s\n",
      "[CV 3/5] END leaf_size=100, n_neighbors=11, weights=distance;, score=0.893 total time=   0.0s\n",
      "[CV 4/5] END leaf_size=100, n_neighbors=11, weights=distance;, score=0.907 total time=   0.0s\n",
      "[CV 5/5] END leaf_size=100, n_neighbors=11, weights=distance;, score=0.897 total time=   0.0s\n",
      "[CV 1/5] END leaf_size=100, n_neighbors=5, weights=distance;, score=0.897 total time=   0.0s\n",
      "[CV 2/5] END leaf_size=100, n_neighbors=5, weights=distance;, score=0.917 total time=   0.0s\n",
      "[CV 3/5] END leaf_size=100, n_neighbors=5, weights=distance;, score=0.907 total time=   0.0s\n",
      "[CV 4/5] END leaf_size=100, n_neighbors=5, weights=distance;, score=0.922 total time=   0.0s\n",
      "[CV 5/5] END leaf_size=100, n_neighbors=5, weights=distance;, score=0.912 total time=   0.0s\n",
      "[CV 1/5] END leaf_size=50, n_neighbors=17, weights=distance;, score=0.874 total time=   0.0s\n",
      "[CV 2/5] END leaf_size=50, n_neighbors=17, weights=distance;, score=0.885 total time=   0.0s\n",
      "[CV 3/5] END leaf_size=50, n_neighbors=17, weights=distance;, score=0.882 total time=   0.0s\n",
      "[CV 4/5] END leaf_size=50, n_neighbors=17, weights=distance;, score=0.898 total time=   0.0s\n",
      "[CV 5/5] END leaf_size=50, n_neighbors=17, weights=distance;, score=0.893 total time=   0.0s\n"
     ]
    },
    {
     "data": {
      "text/html": [
       "<style>#sk-container-id-2 {color: black;}#sk-container-id-2 pre{padding: 0;}#sk-container-id-2 div.sk-toggleable {background-color: white;}#sk-container-id-2 label.sk-toggleable__label {cursor: pointer;display: block;width: 100%;margin-bottom: 0;padding: 0.3em;box-sizing: border-box;text-align: center;}#sk-container-id-2 label.sk-toggleable__label-arrow:before {content: \"▸\";float: left;margin-right: 0.25em;color: #696969;}#sk-container-id-2 label.sk-toggleable__label-arrow:hover:before {color: black;}#sk-container-id-2 div.sk-estimator:hover label.sk-toggleable__label-arrow:before {color: black;}#sk-container-id-2 div.sk-toggleable__content {max-height: 0;max-width: 0;overflow: hidden;text-align: left;background-color: #f0f8ff;}#sk-container-id-2 div.sk-toggleable__content pre {margin: 0.2em;color: black;border-radius: 0.25em;background-color: #f0f8ff;}#sk-container-id-2 input.sk-toggleable__control:checked~div.sk-toggleable__content {max-height: 200px;max-width: 100%;overflow: auto;}#sk-container-id-2 input.sk-toggleable__control:checked~label.sk-toggleable__label-arrow:before {content: \"▾\";}#sk-container-id-2 div.sk-estimator input.sk-toggleable__control:checked~label.sk-toggleable__label {background-color: #d4ebff;}#sk-container-id-2 div.sk-label input.sk-toggleable__control:checked~label.sk-toggleable__label {background-color: #d4ebff;}#sk-container-id-2 input.sk-hidden--visually {border: 0;clip: rect(1px 1px 1px 1px);clip: rect(1px, 1px, 1px, 1px);height: 1px;margin: -1px;overflow: hidden;padding: 0;position: absolute;width: 1px;}#sk-container-id-2 div.sk-estimator {font-family: monospace;background-color: #f0f8ff;border: 1px dotted black;border-radius: 0.25em;box-sizing: border-box;margin-bottom: 0.5em;}#sk-container-id-2 div.sk-estimator:hover {background-color: #d4ebff;}#sk-container-id-2 div.sk-parallel-item::after {content: \"\";width: 100%;border-bottom: 1px solid gray;flex-grow: 1;}#sk-container-id-2 div.sk-label:hover label.sk-toggleable__label {background-color: #d4ebff;}#sk-container-id-2 div.sk-serial::before {content: \"\";position: absolute;border-left: 1px solid gray;box-sizing: border-box;top: 0;bottom: 0;left: 50%;z-index: 0;}#sk-container-id-2 div.sk-serial {display: flex;flex-direction: column;align-items: center;background-color: white;padding-right: 0.2em;padding-left: 0.2em;position: relative;}#sk-container-id-2 div.sk-item {position: relative;z-index: 1;}#sk-container-id-2 div.sk-parallel {display: flex;align-items: stretch;justify-content: center;background-color: white;position: relative;}#sk-container-id-2 div.sk-item::before, #sk-container-id-2 div.sk-parallel-item::before {content: \"\";position: absolute;border-left: 1px solid gray;box-sizing: border-box;top: 0;bottom: 0;left: 50%;z-index: -1;}#sk-container-id-2 div.sk-parallel-item {display: flex;flex-direction: column;z-index: 1;position: relative;background-color: white;}#sk-container-id-2 div.sk-parallel-item:first-child::after {align-self: flex-end;width: 50%;}#sk-container-id-2 div.sk-parallel-item:last-child::after {align-self: flex-start;width: 50%;}#sk-container-id-2 div.sk-parallel-item:only-child::after {width: 0;}#sk-container-id-2 div.sk-dashed-wrapped {border: 1px dashed gray;margin: 0 0.4em 0.5em 0.4em;box-sizing: border-box;padding-bottom: 0.4em;background-color: white;}#sk-container-id-2 div.sk-label label {font-family: monospace;font-weight: bold;display: inline-block;line-height: 1.2em;}#sk-container-id-2 div.sk-label-container {text-align: center;}#sk-container-id-2 div.sk-container {/* jupyter's `normalize.less` sets `[hidden] { display: none; }` but bootstrap.min.css set `[hidden] { display: none !important; }` so we also need the `!important` here to be able to override the default hidden behavior on the sphinx rendered scikit-learn.org. See: https://github.com/scikit-learn/scikit-learn/issues/21755 */display: inline-block !important;position: relative;}#sk-container-id-2 div.sk-text-repr-fallback {display: none;}</style><div id=\"sk-container-id-2\" class=\"sk-top-container\"><div class=\"sk-text-repr-fallback\"><pre>RandomizedSearchCV(estimator=KNeighborsClassifier(),\n",
       "                   param_distributions={&#x27;leaf_size&#x27;: [10, 50, 100, 500],\n",
       "                                        &#x27;n_neighbors&#x27;: [1, 3, 5, 7, 9, 11, 13,\n",
       "                                                        15, 17, 19],\n",
       "                                        &#x27;weights&#x27;: [&#x27;uniform&#x27;, &#x27;distance&#x27;]},\n",
       "                   verbose=3)</pre><b>In a Jupyter environment, please rerun this cell to show the HTML representation or trust the notebook. <br />On GitHub, the HTML representation is unable to render, please try loading this page with nbviewer.org.</b></div><div class=\"sk-container\" hidden><div class=\"sk-item sk-dashed-wrapped\"><div class=\"sk-label-container\"><div class=\"sk-label sk-toggleable\"><input class=\"sk-toggleable__control sk-hidden--visually\" id=\"sk-estimator-id-2\" type=\"checkbox\" ><label for=\"sk-estimator-id-2\" class=\"sk-toggleable__label sk-toggleable__label-arrow\">RandomizedSearchCV</label><div class=\"sk-toggleable__content\"><pre>RandomizedSearchCV(estimator=KNeighborsClassifier(),\n",
       "                   param_distributions={&#x27;leaf_size&#x27;: [10, 50, 100, 500],\n",
       "                                        &#x27;n_neighbors&#x27;: [1, 3, 5, 7, 9, 11, 13,\n",
       "                                                        15, 17, 19],\n",
       "                                        &#x27;weights&#x27;: [&#x27;uniform&#x27;, &#x27;distance&#x27;]},\n",
       "                   verbose=3)</pre></div></div></div><div class=\"sk-parallel\"><div class=\"sk-parallel-item\"><div class=\"sk-item\"><div class=\"sk-label-container\"><div class=\"sk-label sk-toggleable\"><input class=\"sk-toggleable__control sk-hidden--visually\" id=\"sk-estimator-id-3\" type=\"checkbox\" ><label for=\"sk-estimator-id-3\" class=\"sk-toggleable__label sk-toggleable__label-arrow\">estimator: KNeighborsClassifier</label><div class=\"sk-toggleable__content\"><pre>KNeighborsClassifier()</pre></div></div></div><div class=\"sk-serial\"><div class=\"sk-item\"><div class=\"sk-estimator sk-toggleable\"><input class=\"sk-toggleable__control sk-hidden--visually\" id=\"sk-estimator-id-4\" type=\"checkbox\" ><label for=\"sk-estimator-id-4\" class=\"sk-toggleable__label sk-toggleable__label-arrow\">KNeighborsClassifier</label><div class=\"sk-toggleable__content\"><pre>KNeighborsClassifier()</pre></div></div></div></div></div></div></div></div></div></div>"
      ],
      "text/plain": [
       "RandomizedSearchCV(estimator=KNeighborsClassifier(),\n",
       "                   param_distributions={'leaf_size': [10, 50, 100, 500],\n",
       "                                        'n_neighbors': [1, 3, 5, 7, 9, 11, 13,\n",
       "                                                        15, 17, 19],\n",
       "                                        'weights': ['uniform', 'distance']},\n",
       "                   verbose=3)"
      ]
     },
     "execution_count": 65,
     "metadata": {},
     "output_type": "execute_result"
    }
   ],
   "source": [
    "param_grid = {\n",
    "    'n_neighbors': [1, 3, 5, 7, 9, 11, 13, 15, 17, 19],\n",
    "    'weights': ['uniform', 'distance'],\n",
    "    'leaf_size': [10, 50, 100, 500]\n",
    "}\n",
    "random_knn = RandomizedSearchCV(KNeighborsClassifier(), param_grid, verbose=3)\n",
    "\n",
    "random_knn.fit(X_train_pca, y_train)"
   ]
  },
  {
   "cell_type": "code",
   "execution_count": 66,
   "id": "4c23c85b",
   "metadata": {},
   "outputs": [
    {
     "name": "stdout",
     "output_type": "stream",
     "text": [
      "KNN balanced accuracy score: 0.65\n"
     ]
    }
   ],
   "source": [
    "y_pred = random_knn.predict(X_test_pca)\n",
    "knn_bas = round(balanced_accuracy_score(y_test, y_pred),2)\n",
    "print(f'KNN balanced accuracy score: {knn_bas}')"
   ]
  },
  {
   "cell_type": "code",
   "execution_count": 67,
   "id": "82999a81",
   "metadata": {},
   "outputs": [
    {
     "data": {
      "image/png": "[encoded data removed]",
      "text/plain": [
       "<Figure size 600x600 with 2 Axes>"
      ]
     },
     "metadata": {},
     "output_type": "display_data"
    }
   ],
   "source": [
    "cm = confusion_matrix(y_test, y_pred)\n",
    "\n",
    "# Displaying the confusion matrix as a heatmap using Seaborn\n",
    "plt.figure(figsize=(6, 6))\n",
    "sns.heatmap(cm, annot=True, cmap='Blues', fmt='g')\n",
    "plt.xlabel('Predicted')\n",
    "plt.ylabel('True')\n",
    "plt.title('Confusion Matrix')\n",
    "plt.show()"
   ]
  },
  {
   "cell_type": "code",
   "execution_count": 68,
   "id": "5f5ce195",
   "metadata": {},
   "outputs": [
    {
     "name": "stdout",
     "output_type": "stream",
     "text": [
      "Classification Report for Testing:\n",
      "              precision    recall  f1-score   support\n",
      "\n",
      "           0       0.59      0.91      0.72       928\n",
      "           1       0.80      0.37      0.50       928\n",
      "\n",
      "    accuracy                           0.64      1856\n",
      "   macro avg       0.70      0.64      0.61      1856\n",
      "weighted avg       0.70      0.64      0.61      1856\n",
      "\n"
     ]
    }
   ],
   "source": [
    "print('Classification Report for Testing:')\n",
    "print(classification_report(y_test, y_pred_test))"
   ]
  },
  {
   "cell_type": "code",
   "execution_count": 69,
   "id": "ab0b61a0",
   "metadata": {},
   "outputs": [],
   "source": [
    "# Extract precision, recall, and F1 score for both training and testing sets\n",
    "# metrics_train = precision_recall_fscore_support(y_train, y_pred_train, average='binary')\n",
    "metrics_test = precision_recall_fscore_support(y_test, y_pred, average='binary')\n",
    "\n",
    "# Calculate balanced accuracy score for the testing set\n",
    "# dt_bas = balanced_accuracy_score(y_test, y_pred)\n",
    "\n",
    "# Save the metrics in a dictionary\n",
    "knn_results = {\n",
    "    'Method': 'KNN max_depth',\n",
    "#     'Train Precision': metrics_train[0],\n",
    "#     'Train Recall': metrics_train[1],\n",
    "#     'Train F1 Score': metrics_train[2],\n",
    "    'Precision': round(metrics_test[0],2),\n",
    "    'Recall': round(metrics_test[1],2),\n",
    "    'F1 Score': round(metrics_test[2],2),\n",
    "    'Balanced Accuracy': knn_bas\n",
    "}"
   ]
  },
  {
   "cell_type": "code",
   "execution_count": 70,
   "id": "4fdf1c5b",
   "metadata": {},
   "outputs": [
    {
     "data": {
      "text/plain": [
       "{'Method': 'KNN max_depth',\n",
       " 'Precision': 0.79,\n",
       " 'Recall': 0.41,\n",
       " 'F1 Score': 0.54,\n",
       " 'Balanced Accuracy': 0.65}"
      ]
     },
     "execution_count": 70,
     "metadata": {},
     "output_type": "execute_result"
    }
   ],
   "source": [
    "knn_results"
   ]
  },
  {
   "cell_type": "markdown",
   "id": "64787944",
   "metadata": {},
   "source": [
    "### Let's tune our KNN"
   ]
  },
  {
   "cell_type": "code",
   "execution_count": 83,
   "id": "c1e5d94b",
   "metadata": {},
   "outputs": [],
   "source": [
    "# Define ranges and settings to explore\n",
    "n_neighbors_range = range(1, 50)\n",
    "weights_options = ['uniform', 'distance']\n",
    "scores = {weight: [] for weight in weights_options}\n",
    "\n",
    "for weight in weights_options:\n",
    "    for n_neighbors in n_neighbors_range:\n",
    "        knn = KNeighborsClassifier(n_neighbors=n_neighbors, weights=weight)\n",
    "        knn.fit(X_train_pca, y_train)\n",
    "        y_pred = knn.predict(X_test_pca)\n",
    "        score = balanced_accuracy_score(y_test, y_pred)\n",
    "        scores[weight].append(score)"
   ]
  },
  {
   "cell_type": "code",
   "execution_count": 72,
   "id": "b050602d",
   "metadata": {},
   "outputs": [
    {
     "data": {
      "image/png": "[encoded data removed]",
      "text/plain": [
       "<Figure size 1200x600 with 1 Axes>"
      ]
     },
     "metadata": {},
     "output_type": "display_data"
    }
   ],
   "source": [
    "plt.figure(figsize=(12, 6))\n",
    "for weight in weights_options:\n",
    "    plt.plot(n_neighbors_range, scores[weight], label=f'Weights: {weight}')\n",
    "plt.xlabel('Number of Neighbors')\n",
    "plt.ylabel('Balanced Accuracy Score')\n",
    "plt.legend()\n",
    "plt.title('KNN Performance: n_neighbors vs. Balanced Accuracy')\n",
    "plt.xticks(list(n_neighbors_range))\n",
    "plt.show()"
   ]
  },
  {
   "cell_type": "markdown",
   "id": "b2e86ad2",
   "metadata": {},
   "source": [
    "Select the either 'uniform' or 'distance' line which has the highest peak for optimal_weights, select corresponding number of neighbors for optimal_n_neighbors."
   ]
  },
  {
   "cell_type": "code",
   "execution_count": 73,
   "id": "4b17aa7a",
   "metadata": {},
   "outputs": [],
   "source": [
    "optimal_n_neighbors = 35\n",
    "optimal_weights = 'uniform'\n",
    "\n",
    "optimal_knn = KNeighborsClassifier(n_neighbors=optimal_n_neighbors, weights=optimal_weights)\n",
    "optimal_knn.fit(X_train, y_train)\n",
    "y_pred_optimal = optimal_knn.predict(X_test)"
   ]
  },
  {
   "cell_type": "code",
   "execution_count": 74,
   "id": "dd7b9026",
   "metadata": {},
   "outputs": [
    {
     "name": "stdout",
     "output_type": "stream",
     "text": [
      "KNN with adjusted neighbors accuracy score: 0.8\n"
     ]
    }
   ],
   "source": [
    "knn_md_bas = round(balanced_accuracy_score(y_test, y_pred_optimal),2)\n",
    "print(f'KNN with adjusted neighbors accuracy score: {knn_md_bas}')"
   ]
  },
  {
   "cell_type": "code",
   "execution_count": 75,
   "id": "17c57da9",
   "metadata": {},
   "outputs": [
    {
     "data": {
      "image/png": "[encoded data removed]",
      "text/plain": [
       "<Figure size 600x600 with 2 Axes>"
      ]
     },
     "metadata": {},
     "output_type": "display_data"
    }
   ],
   "source": [
    "cm = confusion_matrix(y_test, y_pred_optimal)\n",
    "\n",
    "# Displaying the confusion matrix as a heatmap using Seaborn\n",
    "plt.figure(figsize=(6, 6))\n",
    "sns.heatmap(cm, annot=True, cmap='Blues', fmt='g')\n",
    "plt.xlabel('Predicted')\n",
    "plt.ylabel('True')\n",
    "plt.title('Confusion Matrix')\n",
    "plt.show()"
   ]
  },
  {
   "cell_type": "code",
   "execution_count": 76,
   "id": "bca0c956",
   "metadata": {},
   "outputs": [
    {
     "name": "stdout",
     "output_type": "stream",
     "text": [
      "Classification Report for Testing:\n",
      "              precision    recall  f1-score   support\n",
      "\n",
      "           0       0.83      0.76      0.79       928\n",
      "           1       0.78      0.84      0.81       928\n",
      "\n",
      "    accuracy                           0.80      1856\n",
      "   macro avg       0.80      0.80      0.80      1856\n",
      "weighted avg       0.80      0.80      0.80      1856\n",
      "\n"
     ]
    }
   ],
   "source": [
    "print('Classification Report for Testing:')\n",
    "print(classification_report(y_test, y_pred_optimal))"
   ]
  },
  {
   "cell_type": "code",
   "execution_count": 77,
   "id": "019fe4f8",
   "metadata": {},
   "outputs": [],
   "source": [
    "# Extract precision, recall, and F1 score for both training and testing sets\n",
    "# metrics_train = precision_recall_fscore_support(y_train, y_pred_train, average='binary')\n",
    "metrics_test = precision_recall_fscore_support(y_test, y_pred, average='binary')\n",
    "\n",
    "# Calculate balanced accuracy score for the testing set\n",
    "# dt_bas = balanced_accuracy_score(y_test, y_pred)\n",
    "\n",
    "# Save the metrics in a dictionary\n",
    "knn_md_results = {\n",
    "    'Method': 'KNN modified neighbors',\n",
    "#     'Train Precision': metrics_train[0],\n",
    "#     'Train Recall': metrics_train[1],\n",
    "#     'Train F1 Score': metrics_train[2],\n",
    "    'Precision': round(metrics_test[0],2),\n",
    "    'Recall': round(metrics_test[1],2),\n",
    "    'F1 Score': round(metrics_test[2],2),\n",
    "    'Balanced Accuracy': knn_md_bas\n",
    "}"
   ]
  },
  {
   "cell_type": "code",
   "execution_count": 78,
   "id": "0252cf90",
   "metadata": {},
   "outputs": [
    {
     "data": {
      "text/plain": [
       "{'Method': 'KNN modified neighbors',\n",
       " 'Precision': 0.78,\n",
       " 'Recall': 0.83,\n",
       " 'F1 Score': 0.8,\n",
       " 'Balanced Accuracy': 0.8}"
      ]
     },
     "execution_count": 78,
     "metadata": {},
     "output_type": "execute_result"
    }
   ],
   "source": [
    "knn_md_results"
   ]
  },
  {
   "cell_type": "markdown",
   "id": "9fcf359f",
   "metadata": {},
   "source": [
    "### Confusion Matrix"
   ]
  },
  {
   "cell_type": "code",
   "execution_count": null,
   "id": "5e4baceb",
   "metadata": {},
   "outputs": [],
   "source": []
  },
  {
   "cell_type": "markdown",
   "id": "f56a733b",
   "metadata": {},
   "source": [
    "## Cat Boost"
   ]
  },
  {
   "cell_type": "code",
   "execution_count": 79,
   "id": "e52ffa6b",
   "metadata": {},
   "outputs": [],
   "source": [
    "# from catboost import CatBoostClassifier\n",
    "# from sklearn.model_selection import KFold, cross_val_score\n",
    "# model = CatBoostClassifier(iterations=100, depth=5, learning_rate=0.2, loss_function='Logloss', eval_metric='Accuracy', random_seed=42, metric_period=100) \n",
    "# kf = KFold(n_splits=4, shuffle=True, random_state=42)\n",
    "# cv_results = cross_val_score(model, X_train, y_train, cv=kf, scoring='accuracy')\n",
    "# accuracy = cv_results\n",
    "# average_accuracy = cv_results.mean()\n",
    "\n",
    "# print(\"Accuracy for each fold:\", accuracy)\n",
    "# print(\"Average Accuracy across all folds:\", average_accuracy)"
   ]
  },
  {
   "cell_type": "code",
   "execution_count": 80,
   "id": "4b67c585",
   "metadata": {},
   "outputs": [
    {
     "name": "stdout",
     "output_type": "stream",
     "text": [
      "              precision    recall  f1-score   support\n",
      "\n",
      "           0       0.81      0.76      0.79       928\n",
      "           1       0.78      0.83      0.80       928\n",
      "\n",
      "    accuracy                           0.79      1856\n",
      "   macro avg       0.80      0.79      0.79      1856\n",
      "weighted avg       0.80      0.79      0.79      1856\n",
      "\n"
     ]
    }
   ],
   "source": [
    "print(classification_report(y_test, y_pred))"
   ]
  },
  {
   "cell_type": "code",
   "execution_count": 81,
   "id": "1eaac726",
   "metadata": {
    "scrolled": true
   },
   "outputs": [
    {
     "ename": "NameError",
     "evalue": "name 'cross_val_score' is not defined",
     "output_type": "error",
     "traceback": [
      "\u001b[1;31m---------------------------------------------------------------------------\u001b[0m",
      "\u001b[1;31mNameError\u001b[0m                                 Traceback (most recent call last)",
      "Cell \u001b[1;32mIn[81], line 1\u001b[0m\n\u001b[1;32m----> 1\u001b[0m scores \u001b[38;5;241m=\u001b[39m cross_val_score(model,X_test,y_test,cv\u001b[38;5;241m=\u001b[39m\u001b[38;5;241m50\u001b[39m,scoring\u001b[38;5;241m=\u001b[39m\u001b[38;5;124m\"\u001b[39m\u001b[38;5;124mrecall\u001b[39m\u001b[38;5;124m\"\u001b[39m)\n\u001b[0;32m      2\u001b[0m scores\n",
      "\u001b[1;31mNameError\u001b[0m: name 'cross_val_score' is not defined"
     ]
    }
   ],
   "source": [
    "scores = cross_val_score(model,X_test,y_test,cv=50,scoring=\"recall\")\n",
    "scores"
   ]
  },
  {
   "cell_type": "code",
   "execution_count": null,
   "id": "a1c2ec33",
   "metadata": {},
   "outputs": [],
   "source": [
    "print(classification_report(y_test, y_pred))"
   ]
  },
  {
   "cell_type": "markdown",
   "id": "fd312ca5",
   "metadata": {},
   "source": [
    "## XGBoost"
   ]
  },
  {
   "cell_type": "code",
   "execution_count": null,
   "id": "5e208353",
   "metadata": {},
   "outputs": [],
   "source": []
  },
  {
   "cell_type": "code",
   "execution_count": null,
   "id": "3dde1500",
   "metadata": {},
   "outputs": [],
   "source": []
  },
  {
   "cell_type": "markdown",
   "id": "4fd64864",
   "metadata": {},
   "source": [
    "XGBoost Classifier, Gradient Boosting Classifier, Gradient Boosting Classifier"
   ]
  },
  {
   "cell_type": "markdown",
   "id": "3b58c495",
   "metadata": {},
   "source": [
    "### Graph showing comparision of scores\n",
    "see link: https://www.kaggle.com/code/thomaskonstantin/analyzing-and-modeling-stroke-data Cell [20]"
   ]
  },
  {
   "cell_type": "code",
   "execution_count": null,
   "id": "117c4460",
   "metadata": {},
   "outputs": [],
   "source": []
  },
  {
   "cell_type": "code",
   "execution_count": null,
   "id": "f9f5ce09",
   "metadata": {},
   "outputs": [],
   "source": []
  }
 ],
 "metadata": {
  "kernelspec": {
   "display_name": "Python 3 (ipykernel)",
   "language": "python",
   "name": "python3"
  },
  "language_info": {
   "codemirror_mode": {
    "name": "ipython",
    "version": 3
   },
   "file_extension": ".py",
   "mimetype": "text/x-python",
   "name": "python",
   "nbconvert_exporter": "python",
   "pygments_lexer": "ipython3",
   "version": "3.10.13"
  }
 },
 "nbformat": 4,
 "nbformat_minor": 5
}
